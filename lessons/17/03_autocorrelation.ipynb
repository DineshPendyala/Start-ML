{
 "cells": [
  {
   "cell_type": "markdown",
   "metadata": {},
   "source": [
    "<img src=\"http://imgur.com/1ZcRyrc.png\" style=\"float: left; margin: 20px; height: 55px\">\n",
    "\n",
    "# Time Series: Autocorrelation\n"
   ]
  },
  {
   "cell_type": "markdown",
   "metadata": {},
   "source": [
    "### Learning Objectives\n",
    " \n",
    "**After this lesson, you will be able to:**\n",
    "- Define autocorrelation and list some real-world examples.\n",
    "- Use the Pandas `autocorr()` function to compute autocorrelation.\n",
    "- Calculate and plot the ACF and PACF using StatsModels and Pandas.\n",
    "- Explain why autocorrelation poses a problem for models that assume independence.\n",
    "---    "
   ]
  },
  {
   "cell_type": "markdown",
   "metadata": {},
   "source": [
    "### Lesson Guide\n",
    "\n",
    "#### Autocorrelation\n",
    "- [Autocorrelation](#A)\n",
    "- [Plotting and Interpreting Autocorrelation Functions](#B)\n",
    "- [Plotting and Interpreting Partial Autocorrelation Functions](#C)\n",
    "- [Problems Posed by Autocorrelation](#D)\n",
    "- [Interpreting the ACF and PACF](#E)\n",
    "- [Independent Practice](#F)\n",
    "----"
   ]
  },
  {
   "cell_type": "markdown",
   "metadata": {},
   "source": [
    "<h2><a id = \"A\">Autocorrelation</a></h2>"
   ]
  },
  {
   "cell_type": "markdown",
   "metadata": {},
   "source": [
    "While in previous weeks, our analyses has been concerned with the correlation between two or more variables (height and weight, education and salary, etc.), in time series data, autocorrelation is a measure of _how correlated a variable is with itself_.\n",
    "\n",
    "Specifically, autocorrelation measures how closely related earlier values are with values that occur later in time.\n",
    "\n",
    "Examples of autocorrelation include:\n",
    "\n",
    "    In stock market data, the stock price at one point is correlated with the stock \n",
    "    price of the point that's directly prior in time. \n",
    "    \n",
    "    In sales data, sales on a Saturday are likely correlated with \n",
    "    sales on the next Saturday and the previous Saturday, as well as other days, to more\n",
    "    or less of an extent.\n",
    "\n",
    "> **Check:** What are some examples of autocorrelation that you can think of in the real world?"
   ]
  },
  {
   "cell_type": "markdown",
   "metadata": {},
   "source": [
    "### How Do We Compute Autocorrelation?"
   ]
  },
  {
   "cell_type": "markdown",
   "metadata": {},
   "source": [
    "${\\Huge R(k) = \\frac{\\operatorname{E}[(X_{t} - \\mu)(X_{t-k} - \\mu)]}{\\sigma^2}}^*$\n",
    "\n",
    "To compute autocorrelation, we fix a **lag**, _k_, which is the delta between the given point and the prior point used to compute the [correlation](https://en.wikipedia.org/wiki/Pearson_product-moment_correlation_coefficient).\n",
    "\n",
    "With a _k_ value of one, we'd compute how correlated a value is with the prior one. With a _k_ value of 10, we'd compute how correlated a variable is with one that's 10 time points earlier.\n",
    "\n",
    "$^*$ Note that this formula assumes *stationarity*, which we'll discuss shortly."
   ]
  },
  {
   "cell_type": "markdown",
   "metadata": {},
   "source": [
    "### Guided Practice"
   ]
  },
  {
   "cell_type": "markdown",
   "metadata": {},
   "source": [
    "Last section, we looked at the Rossman Drugstore data to learn how to handle time series data in Pandas. We'll use this same data set to look for autocorrelation. \n",
    "\n",
    "We'll import the data and reduce the scope down to one store. Also recall that we need to preprocess the data in Pandas (convert the time data to a `datetime` object and set it as the index of the DataFrame). "
   ]
  },
  {
   "cell_type": "code",
   "execution_count": 11,
   "metadata": {},
   "outputs": [
    {
     "data": {
      "text/html": [
       "<div>\n",
       "<style>\n",
       "    .dataframe thead tr:only-child th {\n",
       "        text-align: right;\n",
       "    }\n",
       "\n",
       "    .dataframe thead th {\n",
       "        text-align: left;\n",
       "    }\n",
       "\n",
       "    .dataframe tbody tr th {\n",
       "        vertical-align: top;\n",
       "    }\n",
       "</style>\n",
       "<table border=\"1\" class=\"dataframe\">\n",
       "  <thead>\n",
       "    <tr style=\"text-align: right;\">\n",
       "      <th></th>\n",
       "      <th>Store</th>\n",
       "      <th>DayOfWeek</th>\n",
       "      <th>Sales</th>\n",
       "      <th>Customers</th>\n",
       "      <th>Open</th>\n",
       "      <th>Promo</th>\n",
       "      <th>StateHoliday</th>\n",
       "      <th>SchoolHoliday</th>\n",
       "    </tr>\n",
       "    <tr>\n",
       "      <th>Date</th>\n",
       "      <th></th>\n",
       "      <th></th>\n",
       "      <th></th>\n",
       "      <th></th>\n",
       "      <th></th>\n",
       "      <th></th>\n",
       "      <th></th>\n",
       "      <th></th>\n",
       "    </tr>\n",
       "  </thead>\n",
       "  <tbody>\n",
       "    <tr>\n",
       "      <th>2015-07-31</th>\n",
       "      <td>1</td>\n",
       "      <td>5</td>\n",
       "      <td>5263</td>\n",
       "      <td>555</td>\n",
       "      <td>1</td>\n",
       "      <td>1</td>\n",
       "      <td>0</td>\n",
       "      <td>1</td>\n",
       "    </tr>\n",
       "    <tr>\n",
       "      <th>2015-07-30</th>\n",
       "      <td>1</td>\n",
       "      <td>4</td>\n",
       "      <td>5020</td>\n",
       "      <td>546</td>\n",
       "      <td>1</td>\n",
       "      <td>1</td>\n",
       "      <td>0</td>\n",
       "      <td>1</td>\n",
       "    </tr>\n",
       "    <tr>\n",
       "      <th>2015-07-29</th>\n",
       "      <td>1</td>\n",
       "      <td>3</td>\n",
       "      <td>4782</td>\n",
       "      <td>523</td>\n",
       "      <td>1</td>\n",
       "      <td>1</td>\n",
       "      <td>0</td>\n",
       "      <td>1</td>\n",
       "    </tr>\n",
       "    <tr>\n",
       "      <th>2015-07-28</th>\n",
       "      <td>1</td>\n",
       "      <td>2</td>\n",
       "      <td>5011</td>\n",
       "      <td>560</td>\n",
       "      <td>1</td>\n",
       "      <td>1</td>\n",
       "      <td>0</td>\n",
       "      <td>1</td>\n",
       "    </tr>\n",
       "    <tr>\n",
       "      <th>2015-07-27</th>\n",
       "      <td>1</td>\n",
       "      <td>1</td>\n",
       "      <td>6102</td>\n",
       "      <td>612</td>\n",
       "      <td>1</td>\n",
       "      <td>1</td>\n",
       "      <td>0</td>\n",
       "      <td>1</td>\n",
       "    </tr>\n",
       "  </tbody>\n",
       "</table>\n",
       "</div>"
      ],
      "text/plain": [
       "            Store  DayOfWeek  Sales  Customers  Open  Promo StateHoliday  \\\n",
       "Date                                                                       \n",
       "2015-07-31      1          5   5263        555     1      1            0   \n",
       "2015-07-30      1          4   5020        546     1      1            0   \n",
       "2015-07-29      1          3   4782        523     1      1            0   \n",
       "2015-07-28      1          2   5011        560     1      1            0   \n",
       "2015-07-27      1          1   6102        612     1      1            0   \n",
       "\n",
       "            SchoolHoliday  \n",
       "Date                       \n",
       "2015-07-31              1  \n",
       "2015-07-30              1  \n",
       "2015-07-29              1  \n",
       "2015-07-28              1  \n",
       "2015-07-27              1  "
      ]
     },
     "execution_count": 11,
     "metadata": {},
     "output_type": "execute_result"
    }
   ],
   "source": [
    "import pandas as pd\n",
    "import matplotlib.pyplot as plt\n",
    "import seaborn as sns\n",
    "%matplotlib inline\n",
    "\n",
    "plt.rcParams['figure.figsize'] = (16.0, 8.0)\n",
    "\n",
    "data = pd.read_csv('data/rossmann.csv', skipinitialspace=True, low_memory=False)\n",
    "data['Date'] = pd.to_datetime(data['Date'])\n",
    "data = data.set_index('Date')\n",
    "store1_data = data[data['Store'] == 1]\n",
    "store1_data.head()"
   ]
  },
  {
   "cell_type": "markdown",
   "metadata": {},
   "source": [
    "### Computing Autocorrelation"
   ]
  },
  {
   "cell_type": "markdown",
   "metadata": {},
   "source": [
    "To compute autocorrelation using the Pandas `.autocorr()` function, we enter the parameter for `lag`. Recall that **lag** is the delta between the given point and the prior point used to compute the autocorrelation. \n",
    "\n",
    "With a _k_ value of one, we'd compute how correlated a value is with the value that's immediately prior. With a _k_ value of 10, we'd compute how correlated a variable is with the value that's 10 time points prior."
   ]
  },
  {
   "cell_type": "code",
   "execution_count": 12,
   "metadata": {},
   "outputs": [
    {
     "data": {
      "text/plain": [
       "-0.12732514339140216"
      ]
     },
     "execution_count": 12,
     "metadata": {},
     "output_type": "execute_result"
    }
   ],
   "source": [
    "store1_data['Sales'].autocorr(lag=1)"
   ]
  },
  {
   "cell_type": "code",
   "execution_count": 13,
   "metadata": {},
   "outputs": [
    {
     "data": {
      "text/plain": [
       "0.0063076238937893958"
      ]
     },
     "execution_count": 13,
     "metadata": {},
     "output_type": "execute_result"
    }
   ],
   "source": [
    "store1_data['Sales'].autocorr(lag=10)"
   ]
  },
  {
   "cell_type": "markdown",
   "metadata": {},
   "source": [
    "Just like with correlation between different variables, the data become more correlated as this number moves closer to one."
   ]
  },
  {
   "cell_type": "markdown",
   "metadata": {},
   "source": [
    "<h2><a id = \"B\">Plotting Autocorrelation Functions Using StatsModels and Pandas</a></h2>"
   ]
  },
  {
   "cell_type": "markdown",
   "metadata": {},
   "source": [
    "Pandas provides convenience plots for autocorrelations."
   ]
  },
  {
   "cell_type": "code",
   "execution_count": 23,
   "metadata": {},
   "outputs": [
    {
     "data": {
      "text/plain": [
       "<matplotlib.axes._subplots.AxesSubplot at 0x1a176d5320>"
      ]
     },
     "execution_count": 23,
     "metadata": {},
     "output_type": "execute_result"
    },
    {
     "data": {
      "image/png": "[encoded data removed]",
      "text/plain": [
       "<matplotlib.figure.Figure at 0x1a176804e0>"
      ]
     },
     "metadata": {},
     "output_type": "display_data"
    }
   ],
   "source": [
    "from pandas.plotting import autocorrelation_plot\n",
    "\n",
    "autocorrelation_plot(store1_data.Sales)"
   ]
  },
  {
   "cell_type": "markdown",
   "metadata": {},
   "source": [
    "StatsModels also comes with some convenient packages for calculating and plotting autocorrelation. Load up these two functions and try them out."
   ]
  },
  {
   "cell_type": "code",
   "execution_count": 22,
   "metadata": {
    "collapsed": true
   },
   "outputs": [],
   "source": [
    "from statsmodels.tsa.stattools import acf\n",
    "from statsmodels.graphics.tsaplots import plot_acf"
   ]
  },
  {
   "cell_type": "code",
   "execution_count": 16,
   "metadata": {},
   "outputs": [
    {
     "data": {
      "image/png": "[encoded data removed]",
      "text/plain": [
       "<matplotlib.figure.Figure at 0x1a17183630>"
      ]
     },
     "metadata": {},
     "output_type": "display_data"
    }
   ],
   "source": [
    "plot_acf(store1_data.Sales.values, lags=30)\n",
    "plt.show()"
   ]
  },
  {
   "cell_type": "markdown",
   "metadata": {},
   "source": [
    "This plots the correlation between the series and a lagged series for the lags indicated on the horizontal axis. For instance, at `0`, the series will be completely correlated with itself, so the blue dot is at `1.0`. The points that fall outside of the blue indicate significant correlation values. Big jumps in autocorrelation appear at lags that are multiples of seven. Our sales data are daily, so it makes a lot of sense that a single Monday's sales would be correlated with the prior Monday's (and the one before it... and so on).\n",
    "\n",
    "Our data set here isn't *stationary* (the mean, the variance, and/or the covariance vary over time), so it isn't appropriate to try to diagnose what forecasting model we should use. However, we can see the seasonality of the data set clearly in the ACF."
   ]
  },
  {
   "cell_type": "code",
   "execution_count": 17,
   "metadata": {},
   "outputs": [
    {
     "data": {
      "text/plain": [
       "array([ 1.        , -0.12703786, -0.03469319,  0.06454937, -0.00180766,\n",
       "       -0.10904274, -0.22783504,  0.6248786 , -0.2401515 , -0.14869745,\n",
       "        0.00624578,  0.01006485, -0.07707318, -0.14363042,  0.71435429,\n",
       "       -0.15188393, -0.05551585,  0.02901103,  0.01113764, -0.09400308,\n",
       "       -0.21875595,  0.63865175, -0.23360339, -0.11384778,  0.00788378,\n",
       "        0.02095157, -0.07841381, -0.18374454,  0.68804836, -0.17930762,\n",
       "       -0.07734379,  0.01060628, -0.00112696, -0.09014802, -0.21435881,\n",
       "        0.60668328, -0.230107  , -0.12860469,  0.00378231,  0.00237381,\n",
       "       -0.10721685])"
      ]
     },
     "execution_count": 17,
     "metadata": {},
     "output_type": "execute_result"
    }
   ],
   "source": [
    "acf(store1_data.Sales.values)"
   ]
  },
  {
   "cell_type": "markdown",
   "metadata": {},
   "source": [
    "<h2><a id= \"C\">Partial Autocorrelation and the Partial Autocorrelation Function (PACF)</a></h2>"
   ]
  },
  {
   "cell_type": "markdown",
   "metadata": {},
   "source": [
    "Another important chart for diagnosing your time series is the partial autocorrelation chart (PACF). This is similar to autocorrelation, but, instead of being just the correlation at increasing lags, it is the correlation at a given lag, _controlling for the effect of previous lags._\n",
    "\n",
    "Load up the sister functions for partial autocorrelation from StatsModels and test them out on the differenced time series."
   ]
  },
  {
   "cell_type": "code",
   "execution_count": 19,
   "metadata": {
    "collapsed": true
   },
   "outputs": [],
   "source": [
    "from statsmodels.tsa.stattools import pacf\n",
    "from statsmodels.graphics.tsaplots import plot_pacf"
   ]
  },
  {
   "cell_type": "code",
   "execution_count": 20,
   "metadata": {},
   "outputs": [
    {
     "data": {
      "image/png": "[encoded data removed]",
      "text/plain": [
       "<matplotlib.figure.Figure at 0x1a1724ae48>"
      ]
     },
     "metadata": {},
     "output_type": "display_data"
    }
   ],
   "source": [
    "plot_pacf(store1_data.Sales.values, lags=30)\n",
    "plt.show()"
   ]
  },
  {
   "cell_type": "markdown",
   "metadata": {},
   "source": [
    "This plots the correlation at a given lag (indicated by the horizontal axis), controlling for all of the previous lags. We continue to see big jumps in correlation at the weekly time lags, an indicator that seasonality is still present in our time series. "
   ]
  },
  {
   "cell_type": "code",
   "execution_count": 21,
   "metadata": {},
   "outputs": [
    {
     "data": {
      "text/plain": [
       "array([  1.00000000e+00,  -1.27172867e-01,  -5.17773322e-02,\n",
       "         5.45466222e-02,   1.23214062e-02,  -1.05814185e-01,\n",
       "        -2.69339271e-01,   6.13891806e-01,  -2.64313948e-01,\n",
       "        -2.12840451e-01,  -1.14091049e-01,   1.16903523e-01,\n",
       "         3.98957387e-02,   6.13519367e-02,   4.48132326e-01,\n",
       "        -2.58046698e-02,  -7.87918641e-04,  -1.32845421e-01,\n",
       "         3.26825588e-02,   2.08959582e-03,  -6.67821339e-02,\n",
       "         2.51756307e-01,  -8.03613671e-02,   3.00956887e-03,\n",
       "        -5.04939348e-02,   1.07025969e-01,  -3.22519598e-02,\n",
       "        -4.38687145e-02,   2.31052301e-01,  -4.12160559e-02,\n",
       "        -1.29869374e-02,  -1.28248009e-01,   1.92976513e-02,\n",
       "         2.41335134e-02,  -1.38720582e-02,   4.87918471e-02,\n",
       "        -6.34587157e-02,  -3.56958681e-02,  -2.05192404e-02,\n",
       "         1.72396841e-02,  -1.12545098e-01])"
      ]
     },
     "execution_count": 21,
     "metadata": {},
     "output_type": "execute_result"
    }
   ],
   "source": [
    "pacf(store1_data.Sales.values)"
   ]
  },
  {
   "cell_type": "markdown",
   "metadata": {},
   "source": [
    "> **Check:** How might seasonality in a data set (monthly, weekly, etc.) show up in autocorrelation plots?"
   ]
  },
  {
   "cell_type": "markdown",
   "metadata": {},
   "source": [
    "<h2><a id = \"D\">Problems Posed by Autocorrelation</a></h2>"
   ]
  },
  {
   "cell_type": "markdown",
   "metadata": {},
   "source": [
    "Models like linear regression analysis require that there is little or no autocorrelation in the data. That is, linear regressions requires that the residuals/error terms are independent of one another. So far, we have assumed all of the independent values in our models have been independent, but this is unlikely with time series data, because the temporal component of time series models means that they will often contain autocorrelation. \n",
    "\n",
    "> **What are some problems that could arise when using autocorrelated data with a linear model?**\n",
    "* Estimated regression coefficients are still unbiased, but they no longer have the minimum variance property.\n",
    "* The MSE may seriously underestimate the true variance of the errors.\n",
    "* The standard error of the regression coefficients may seriously underestimate the true standard deviation of the estimated regression coefficients.\n",
    "* Statistical intervals and inference procedures are no longer strictly applicable.\n",
    "\n"
   ]
  },
  {
   "cell_type": "markdown",
   "metadata": {},
   "source": [
    "> **Check:** Why can't we apply linear regression to most time series data sets?"
   ]
  },
  {
   "cell_type": "markdown",
   "metadata": {},
   "source": [
    "<h2><a id = \"E\">Interpreting the ACF and the PACF for Use in Forecasting Models</a></h2>"
   ]
  },
  {
   "cell_type": "markdown",
   "metadata": {},
   "source": [
    "As we learned above, the autocorrelation function (ACF) is a plot of total correlation between different lags. If we decide to use the moving average (MA) method for forecasting, the ACF plot will help us identify the order of the MA model. We can find the lag (the *q* value) for an MA series by determining when the ACF drops off sharply. For an autoregressive (AR) time series, the ACF will go down gradually without any sharp cut-off. \n",
    "\n",
    "If the ACF tells us it is an AR series, then we turn to the PACF. If we find out the partial correlation of each lag, it will cut off after the degree of the AR series (the *p* value). For instance, if we have a AR(1) series, the partial correlation function (PACF) will drop sharply after the first lag.\n",
    "\n",
    "*We'll learn more about AR and MA models in this lesson's bonus section.*"
   ]
  },
  {
   "cell_type": "markdown",
   "metadata": {},
   "source": [
    "# Recap"
   ]
  },
  {
   "cell_type": "markdown",
   "metadata": {},
   "source": [
    "* Autocorrelation is a measure of how dependent a data point is on previous data points.\n",
    "* Investigating ACF and PACF plots can help us identify an appropriate forecasting model and look for seasonality in our time series data.\n",
    "* Simple linear regression cannot apply to data with autocorrelations because these data no longer have independent errors."
   ]
  },
  {
   "cell_type": "markdown",
   "metadata": {},
   "source": [
    "<h2><a id = \"F\">Independent Practice</a><h2>"
   ]
  },
  {
   "cell_type": "markdown",
   "metadata": {},
   "source": [
    "**Instructor Note:** These are optional and can be assigned as student practice questions outside of class."
   ]
  },
  {
   "cell_type": "markdown",
   "metadata": {},
   "source": [
    "## 1) Import the European Retail data set, preprocess the data, and create an initial plot (Hint: Use `.stack.plot()`)."
   ]
  },
  {
   "cell_type": "code",
   "execution_count": 24,
   "metadata": {
    "collapsed": true
   },
   "outputs": [],
   "source": [
    "import pandas as pd\n",
    "import numpy as np\n",
    "from datetime import timedelta\n",
    "import matplotlib.pyplot as plt\n",
    "%matplotlib inline"
   ]
  },
  {
   "cell_type": "code",
   "execution_count": 27,
   "metadata": {
    "collapsed": true
   },
   "outputs": [],
   "source": [
    "euro = pd.read_csv('./data/euretail.csv')"
   ]
  },
  {
   "cell_type": "code",
   "execution_count": null,
   "metadata": {
    "collapsed": true
   },
   "outputs": [],
   "source": []
  },
  {
   "cell_type": "code",
   "execution_count": null,
   "metadata": {
    "collapsed": true
   },
   "outputs": [],
   "source": []
  },
  {
   "cell_type": "code",
   "execution_count": null,
   "metadata": {
    "collapsed": true
   },
   "outputs": [],
   "source": []
  },
  {
   "cell_type": "markdown",
   "metadata": {},
   "source": [
    "## 2) Use `plot_acf` and `plot_pacf` to look at the autocorrelation in the data set."
   ]
  },
  {
   "cell_type": "code",
   "execution_count": null,
   "metadata": {
    "collapsed": true
   },
   "outputs": [],
   "source": [
    "euro = euro.stack()"
   ]
  },
  {
   "cell_type": "code",
   "execution_count": null,
   "metadata": {
    "collapsed": true
   },
   "outputs": [],
   "source": []
  },
  {
   "cell_type": "code",
   "execution_count": null,
   "metadata": {
    "collapsed": true
   },
   "outputs": [],
   "source": []
  },
  {
   "cell_type": "code",
   "execution_count": null,
   "metadata": {
    "collapsed": true
   },
   "outputs": [],
   "source": []
  },
  {
   "cell_type": "markdown",
   "metadata": {},
   "source": [
    "## 3) Interpret your findings."
   ]
  },
  {
   "cell_type": "code",
   "execution_count": null,
   "metadata": {
    "collapsed": true
   },
   "outputs": [],
   "source": []
  }
 ],
 "metadata": {
  "kernelspec": {
   "display_name": "Python 3",
   "language": "python",
   "name": "python3"
  },
  "language_info": {
   "codemirror_mode": {
    "name": "ipython",
    "version": 3
   },
   "file_extension": ".py",
   "mimetype": "text/x-python",
   "name": "python",
   "nbconvert_exporter": "python",
   "pygments_lexer": "ipython3",
   "version": "3.6.3"
  }
 },
 "nbformat": 4,
 "nbformat_minor": 2
}
