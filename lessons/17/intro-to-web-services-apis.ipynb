{
 "cells": [
  {
   "cell_type": "markdown",
   "metadata": {
    "slideshow": {
     "slide_type": "notes"
    }
   },
   "source": [
    "> **Jupyter slideshow:** This notebook can be displayed as slides. To view it as a slideshow in your browser type in the console:\n",
    "\n",
    "\n",
    "> `> jupyter nbconvert [this_notebook.ipynb] --to slides --post serve`\n",
    "\n",
    "\n",
    "> To toggle off the slideshow cell formatting, click the `CellToolbar` button, then `View --> Cell Toolbar --> None`"
   ]
  },
  {
   "cell_type": "markdown",
   "metadata": {
    "slideshow": {
     "slide_type": "slide"
    }
   },
   "source": [
    "<img src=\"http://imgur.com/1ZcRyrc.png\" style=\"float: left; margin: 20px; height: 55px\">\n",
    "\n",
    "# Introduction to Web Services and APIs\n",
    "\n",
    "_Author: Joseph Nelson (DC)_\n",
    "\n",
    "---\n",
    "![](assets/opening.png)"
   ]
  },
  {
   "cell_type": "markdown",
   "metadata": {
    "slideshow": {
     "slide_type": "subslide"
    }
   },
   "source": [
    "### Learning Objectives\n",
    "*After this lesson, you will be able to:*\n",
    "- Identify relevant HTTP Verbs & their uses.\n",
    "- Describe Application Programming Interfaces (APIs) and know how to make calls and consume API data.\n",
    "- Access public APIs and get information back.\n",
    "- Read and write data in JSON format.\n",
    "- Use the `requests` library."
   ]
  },
  {
   "cell_type": "markdown",
   "metadata": {
    "slideshow": {
     "slide_type": "skip"
    }
   },
   "source": [
    "### Lesson Guide\n",
    "- [Introduction to APIs](#intro)\n",
    "- [What is an API?](#what-is-api)\n",
    "- [Famous APIs](#famous)\n",
    "    - [Facebook](#facebook)\n",
    "    - [Yelp](#yelp)\n",
    "    - [Echonest](#echonest)\n",
    "- [Web APIs](#web-apis)\n",
    "- [Making API calls](#api-calls)\n",
    "- [HTTP](#http)\n",
    "- [Web applications](#web-app)\n",
    "- [Demo: HTTP](#demo-http)\n",
    "- [Independent practice: HTTP](#ind-http)\n",
    "- [HTTP Request](#http-request)\n",
    "    - [HTTP Request methods](#request-methods)\n",
    "    - [HTTP Request structure](#request-structure)\n",
    "- [HTTP Response](#http-response)\n",
    "    - [Response types overview](#response-types)\n",
    "- [JSON](#json)\n",
    "- [Independent practice: validating JSON](#ind-practice)\n",
    "- [Guided practice: pulling data from APIs](#guided-practice)\n",
    "    - [Example: Star Wars](#ex1-star-wars)\n",
    "    - [Submit queries to the API](#submit)\n",
    "- [How does SSH work?](#ssh)\n",
    "- [OAuth](#oauth)\n",
    "- [Independent practice: python APIs](#ind-practice2)\n",
    "- [Closing questions](#closing-questions)"
   ]
  },
  {
   "cell_type": "markdown",
   "metadata": {
    "slideshow": {
     "slide_type": "slide"
    }
   },
   "source": [
    "<a name=\"intro\"></a>\n",
    "## Introduction to APIs\n",
    "\n",
    "---\n",
    "\n",
    "In this lesson, we will be diving into the world of APIs. We will take a tour of one of the most accessible sources of data on the Internet.\n",
    "\n",
    "You will learn:\n",
    "- **What is meant by an \"API\"**\n",
    "- **Common API use cases**\n",
    "- **How to read API documentation**\n",
    "- **General development workflow with APIs**\n",
    "\n",
    "*Does anyone in the class have any experience using APIs?*\n"
   ]
  },
  {
   "cell_type": "markdown",
   "metadata": {
    "slideshow": {
     "slide_type": "slide"
    }
   },
   "source": [
    "<a id='what-is-api'></a>\n",
    "## What is an API?\n",
    "\n",
    "---\n",
    "\n",
    "An **API (Application Programming Interface)** is a set of routines, protocols, and tools for building software applications. It specifies how software components should interact.\n",
    "\n",
    "We are used to many **interfaces** in real life. For example:"
   ]
  },
  {
   "cell_type": "markdown",
   "metadata": {
    "slideshow": {
     "slide_type": "fragment"
    }
   },
   "source": [
    "- **A post office.** We don't care how the post office works 'in the back'. All that we care is that we drop off our package and it ends up where we expect. In fact, the way the mail is delivered (theoretically) could be entirely different each time we use the post office. \n",
    "\n",
    "- **File->Print.** We don't care how the computer prints the document. All that we expect is that using the Print option in the File menu will print the document. In fact, the way the computer prints it could change every time the program is updated."
   ]
  },
  {
   "cell_type": "markdown",
   "metadata": {
    "slideshow": {
     "slide_type": "subslide"
    }
   },
   "source": [
    "In programming, we also use many interfaces. The interface we use to a programming library is its function calls. For example:\n",
    "\n",
    "- **Matplotlib `plot()`**: We don't care how the `plot()` function works. All that we expect is that calling this function (with appropriate parameters) will plot the data and return a graphic. In fact, how the function works can completely change from version to version.\n",
    "\n",
    "**These are APIs -- Application Programming Interfaces.** The functions that you call and the parameters you call them with make up the interface to a programming library."
   ]
  },
  {
   "cell_type": "markdown",
   "metadata": {
    "slideshow": {
     "slide_type": "subslide"
    }
   },
   "source": [
    "#### Web APIs\n",
    "\n",
    "- **How does this extend to the web?** A *Web API* is a list of function calls that are made to remote servers. The function call is sent by encoding it as a URL (technically, as an HTTP request -- we'll discuss these later!). The function call typically returns a string of text (e.g. JSON)."
   ]
  },
  {
   "cell_type": "markdown",
   "metadata": {
    "slideshow": {
     "slide_type": "subslide"
    }
   },
   "source": [
    "APIs are a way developers connect functionality to data, devices, and other resources they provide.\n",
    "\n",
    "Some examples that APIs can assist with are:\n",
    "\n",
    "- Connecting to a variety of databases\n",
    "- Python modules that turn LED lights on and off\n",
    "- Application that run on native Windows, OSX, or Linux\n",
    "- Libraries that post and retrieve content on Twitter, Facebook, Yelp, or LinkedIn\n",
    "- Web services for accessing currency or stock prices\n",
    "- One of my [favorites](https://github.com/Kaggle/kaggle-api)\n",
    "\n",
    "In the context of data science, APIs are a very common method to interact with data hosted by third parties and most commonly provided by **Web Service APIs**, or just **Web APIs**."
   ]
  },
  {
   "cell_type": "markdown",
   "metadata": {
    "slideshow": {
     "slide_type": "subslide"
    }
   },
   "source": [
    "### Why did APIs become popular?\n",
    "\n",
    "APIs became popular for many reasons:\n",
    "\n",
    "- Easy to use for JavaScript programmers\n",
    "- Prevent website scraping\n",
    "- Allow a website's brand to be incorporated into other websites \n",
    "\n",
    "More importantly, in the modern web, nearly every website uses **internal APIs** for shuttling dynamic data between the browser and the website. It is often possible to discover and hijack these internal APIs to gather data. (This is beyond the scope of this lesson.)"
   ]
  },
  {
   "cell_type": "markdown",
   "metadata": {
    "slideshow": {
     "slide_type": "subslide"
    }
   },
   "source": [
    "<a id='famous'></a>\n",
    "<a id='facebook'></a>\n",
    "\n",
    "### Famous APIs:  Facebook Graph API\n",
    "\n",
    "Facebook provides an API for interacting with their service.  At a glance:\n",
    "\n",
    "- View your posts\n",
    "- View websites, people, posts, pages that you've liked\n",
    "- View activity on apps from you and your friends\n",
    "  - Movies watched\n",
    "  - Music listened\n",
    "  - Games played\n",
    "- View places traveled / check-ins\n",
    "- Relationships\n",
    "\n",
    "#### Potential Project Ideas:\n",
    "\n",
    "|   |   |   |   |\n",
    "|---|---|---|---|\n",
    "| Determining Latent Characteristics | Friends Activity | Political Classification | Text Mining |\n",
    "| Friend Classifier | Trending Topics | Recommenders | Feature Importances |\n",
    "| Taste Profiling | Hipster Detector | Sub-group Identification | Checkin-Prediction |\n",
    "| Relationship Forcasting | Relationship Classification | Sentiment Analysis | Popularity Projection |\n",
    "| Personal Analytics | Friend Similarity Prediction | N-Gram Analysis | Topic Modeling |"
   ]
  },
  {
   "cell_type": "markdown",
   "metadata": {
    "slideshow": {
     "slide_type": "subslide"
    }
   },
   "source": [
    "<a id='yelp'></a>\n",
    "### Famous APIs:  Yelp API\n",
    "\n",
    "Yelp provides a way for developers to access:\n",
    "\n",
    "- Reviews\n",
    " - Services\n",
    " - Restaraunts / Bars / Cafes\n",
    " - Businesses\n",
    "- Business meta-data\n",
    "\n",
    "#### Potential Project Ideas\n",
    "\n",
    "|   |   |   |   |\n",
    "|---|---|---|---|\n",
    "| Topic Modeling | Text Mining | Sentiment Analysis | Funny / Cool / Interesting Classification | \n",
    "| Music Genre Classification | Parking Index Classification | Characteristics Profiling | Hipster Index |\n",
    "| Ideal Activities | Friend Recommender | Venue Recommender | Sports Bar Classifcation |\n",
    "| Where is the best [whatever] in [neighborhood] | | |"
   ]
  },
  {
   "cell_type": "markdown",
   "metadata": {
    "slideshow": {
     "slide_type": "subslide"
    }
   },
   "source": [
    "<a id='echonest'></a>\n",
    "### Famous APIs:  Echonest\n",
    "\n",
    "Echonest consolidates access to many entertainment service APIs in one place.  It has a huge list of features and connected services including:\n",
    "\n",
    "- Spotify\n",
    "- Pandora\n",
    "- Rdio\n",
    "- Gracenote\n",
    "- SoundHound\n",
    "- Shazam\n",
    "\n",
    "Some Echonest features include:\n",
    "\n",
    "- Music waveform identification (like Shazam, Soundhound music ID)\n",
    "- Playlist recommendations\n",
    "- Detailed artist, album, and track lookup\n",
    " - Bio / Origins / Contemporaries / Noteworthy Accomplishments\n",
    " - Official twitter / website / social media links\n",
    " - BPM / Mood / Popularity / Genre(s) \n",
    " - Images / Videos / Media\n",
    "- Detailed movie, actor, product lookup\n",
    "- Concert Schedules and ticket metadata"
   ]
  },
  {
   "cell_type": "markdown",
   "metadata": {
    "slideshow": {
     "slide_type": "slide"
    }
   },
   "source": [
    "<a id='web-apis'></a>\n",
    "## Web APIs\n",
    "\n",
    "---\n",
    "\n",
    "<img src = \"assets/notify.png\" width=150>\n",
    "\n",
    "The prevelance of web APIs have increased 10x with the rise of Javascript and advent of web programming techniques. These allow for the transmission of small pieces of data without having to refresh the entire page.\n",
    "\n",
    "With the growth of highly interactive websites powered by modern Javascript, many languages have started co-opting conventions for using data to communicate with web servers for two big reasons:\n",
    "- Ease of integration\n",
    "- Consistent standards\n",
    "\n",
    "Modern Javascript allows for **asynchronous requests**, or **AJAX** (Asynchronous JavaScript And XML). This allows websites to send/receive data in the background, e.g. to/from APIs. "
   ]
  },
  {
   "cell_type": "markdown",
   "metadata": {
    "slideshow": {
     "slide_type": "subslide"
    }
   },
   "source": [
    "<a name=\"api-calls\"></a>\n",
    "## Making API calls\n",
    "\n",
    "---\n",
    "\n",
    "API calls are really a fancy term for making _HTTP requests_ (in the context of web APIs) to a server and sending/receiving structured data from that endpoint (URL). We are still communicating with URLs, however instead of receiving a string of HTML, we receive data.\n",
    "\n",
    "[Representational state transfer (REST)](https://spring.io/understanding/REST) is the most common architecture style for passing information to and from these API endpoints.\n",
    "\n",
    "### API Tokens\n",
    "\n",
    "Many APIs are free to access. You first need to register as a developer and obtain an authorization key. In most cases, this is also accompanied by a temporary token that needs to be renewed after some time. This is a way to prevent abuse on the server's resources. \n",
    "\n",
    "- For example, the Twitter API requires a token that is used to track how many requests each user makes. Each user can retrieve a limited number of tweets, unless they pay for premium services.\n",
    "\n",
    "Before we start consuming API services, it is important to understand the fundamentals of the underlying communication layer: **HTTP**."
   ]
  },
  {
   "cell_type": "markdown",
   "metadata": {
    "slideshow": {
     "slide_type": "slide"
    }
   },
   "source": [
    "<a id='http'></a>\n",
    "## HTTP\n",
    "\n",
    "---\n",
    "\n",
    "**HTTP (HyperText Transfer Protocol)** is a protocol - a system of rules - that determines how web pages (see:'hypertext') get sent (see:'transferred') from one place to another. Among other things, it defines the format of the messages passed between HTTP clients and HTTP servers.\n",
    "\n",
    "Since the web is a service, it works through a combination of **clients** (that _make_ requests) and **servers** (that _receive_ requests).\n"
   ]
  },
  {
   "cell_type": "markdown",
   "metadata": {
    "slideshow": {
     "slide_type": "subslide"
    }
   },
   "source": [
    "### The HTTP client\n",
    "\n",
    "**HTTP clients** make or generate **HTTP requests**. Some types of clients are:\n",
    "\n",
    "* Browsers - Chrome, Firefox and Safari.\n",
    "* Command Line programs - [curl](http://curl.haxx.se/docs/) and [wget](http://www.gnu.org/software/wget/manual/wget.html).\n",
    "* Application code -  Python requests, Scrapy, Mechanize\n",
    "\n",
    "HTTP clients respond to HTTP responses from a **web server**/**HTTP server**. A web server is just a computer that listens for and responds to HTTP requests."
   ]
  },
  {
   "cell_type": "markdown",
   "metadata": {
    "slideshow": {
     "slide_type": "subslide"
    }
   },
   "source": [
    "### HTTP and web servers\n",
    "\n",
    "All web servers receive **_HTTP requests_** and generate **_HTTP responses_**. Often web servers are just the middleman, passing HTTP requests and responses between the client and web application. Two of the most popular web servers are [Apache](http://httpd.apache.org/) and [Nginx](http://nginx.com/), But there are many different [web servers](https://www.tutorialspoint.com/internet_technologies/web_servers.htm) out there."
   ]
  },
  {
   "cell_type": "markdown",
   "metadata": {
    "slideshow": {
     "slide_type": "subslide"
    }
   },
   "source": [
    "### Check: Where do you think a web application lives?\n",
    "\n",
    "- Client\n",
    "- Server\n",
    "- The cloud\n",
    "- Mobile devices\n",
    "- In your car\n",
    "- In your bluetooth connected toaster with LCD display"
   ]
  },
  {
   "cell_type": "markdown",
   "metadata": {
    "slideshow": {
     "slide_type": "slide"
    }
   },
   "source": [
    "<a id='web-app'></a>\n",
    "## Web applications\n",
    "\n",
    "---\n",
    "\n",
    "Web applications are programs that run on a web server. They process the HTTP requests that the server receives and generate HTTP responses.\n",
    "\n",
    "![HTTP Request and Response](assets/request-response.png)\n",
    "\n",
    "Lost? Here's the play-by-play.\n",
    "\n",
    "1. A client sends a HTTP request to a HTTP server running on a remote machine.  \n",
    "  * The _hostname_, given in the URL, indicates which server will receive the request.  \n",
    "2. The HTTP server processes the HTTP request. This may entail passing the request to some web application, which creates a HTTP response. \n",
    "3. The response gets sent back to the client.\n",
    "4. The client processes the response."
   ]
  },
  {
   "cell_type": "markdown",
   "metadata": {
    "slideshow": {
     "slide_type": "subslide"
    }
   },
   "source": [
    "How does the server know what the request is asking for? This is specified by the URL, a special kind of path that specifies where a resource can be found on the web.\n",
    "\n",
    "![URL](./assets/http1-url-structure.png)\n",
    "\n",
    "> **Check:** can anyone explain what a client and a server are?"
   ]
  },
  {
   "cell_type": "markdown",
   "metadata": {
    "slideshow": {
     "slide_type": "slide"
    }
   },
   "source": [
    "<a id='http-request'></a>\n",
    "## HTTP Request\n",
    "\n",
    "---\n",
    "\n",
    "First, notice that every HTTP request is ultimately plain text -- it is human-readable! This is convenient, but it makes requests larger.\n",
    "\n",
    "The first word in the request line, _GET_, is the **HTTP method**.\n",
    "\n",
    "![HTTP Request](./assets/http_request.jpeg \"HTTP Request\")\n",
    "\n",
    "<a id='request-methods'></a>\n",
    "### HTTP Request methods:\n",
    "\n",
    "* **`GET`** => Retrieve a resource.  \n",
    "* **`POST`** => Create a resource.  \n",
    "* **`PATCH`** (_or **`PUT`**, but **`PATCH`** is recommended_) => Update an existing resource.  \n",
    "* **`DELETE`** => Delete a resource.  \n",
    "* **`HEAD`** => Retrieve the headers for a resource.\n",
    "\n",
    "Of these, **`GET`** and **`POST`** are the most widely used."
   ]
  },
  {
   "cell_type": "markdown",
   "metadata": {
    "slideshow": {
     "slide_type": "subslide"
    }
   },
   "source": [
    "<a id='request-structure'></a>\n",
    "### HTTP Request structure:\n",
    "\n",
    "```\n",
    "[http request method] [URL] [http version]  \n",
    "[list of headers]\n",
    "\n",
    "[request body]\n",
    "```\n",
    "\n",
    "*Notice that the request header is separated from the request body by a new line.*"
   ]
  },
  {
   "cell_type": "markdown",
   "metadata": {
    "slideshow": {
     "slide_type": "subslide"
    }
   },
   "source": [
    "**HTTP Request Method Example: (No Body)**\n",
    "\n",
    "    GET http://vermonster.com HTTP/1.1  \n",
    "    Accept:text/html,application/xhtml+xml,application/xml;q=0.9,image/webp,*/*;q=0.8  \n",
    "    Accept-Encoding:gzip,deflate,sdch\n",
    "    Accept-Language:en-US,en;q=0.8  \n",
    "    Connection:keep-alive  \n",
    "    Host:vermonster.com  \n",
    "    User-Agent:Mozilla/5.0 (Macintosh; Intel Mac OS X 10_8_5)  \n",
    "    AppleWebKit/537.36 (KHTML, like Gecko) Chrome/32.0.1659.2 Safari/537.36  "
   ]
  },
  {
   "cell_type": "markdown",
   "metadata": {
    "slideshow": {
     "slide_type": "subslide"
    }
   },
   "source": [
    "<a id='http-response'></a>\n",
    "## HTTP Response\n",
    "\n",
    "---\n",
    "\n",
    "![HTTP Response](./assets/http_response.jpeg \"HTTP Response\")\n",
    "\n",
    "When a client sends a request, the server sends back a response; the standard format for this response is:\n",
    "\n",
    "```\n",
    "[http version] [status] [reason]  \n",
    "[list of headers]\n",
    "\n",
    "[response body] # typically HTML, JSON, ...  \n",
    "```"
   ]
  },
  {
   "cell_type": "markdown",
   "metadata": {
    "slideshow": {
     "slide_type": "subslide"
    }
   },
   "source": [
    "<a id='response-types'></a>\n",
    "### Response types overview\n",
    "\n",
    "> Check these out when you have time -- at least be aware that there is an expected pattern to these codes:\n",
    "\n",
    "**[Status codes](http://en.wikipedia.org/wiki/List_of_HTTP_status_codes)** have standard meanings; here are a few.\n",
    "\n",
    "|Code|Reason|\n",
    "|:---|:-----|\n",
    "|200| OK\n",
    "|301| Moved Permanently\n",
    "|302| Moved Temporarily\n",
    "|307| Temporary Redirect\n",
    "|400| Bad Request\n",
    "|403| Forbidden\n",
    "|404| Not Found\n",
    "|500| Internal Server Error"
   ]
  },
  {
   "cell_type": "markdown",
   "metadata": {
    "slideshow": {
     "slide_type": "subslide"
    }
   },
   "source": [
    "<a name=\"demo-http\"></a>\n",
    "## Demo: HTTP\n",
    "\n",
    "---\n",
    "\n",
    "Let's explore HTTP resources. We'll start by looking at HTTP requests and responses using the Chrome Inspector.\n",
    "\n",
    "![HTTP Request and Response](./assets/http_request_response.jpeg \"HTTP Request and Response\")"
   ]
  },
  {
   "cell_type": "markdown",
   "metadata": {
    "slideshow": {
     "slide_type": "subslide"
    }
   },
   "source": [
    "* In Chrome, open up Chrome Inspector (*command + option + 'i', or ctrl + click and select 'inspect element'*).\n",
    "* Select the Network tab. It should look something like this:\n",
    "\n",
    "![Chrome Inspector](./assets/chrome_inspector.png)"
   ]
  },
  {
   "cell_type": "markdown",
   "metadata": {
    "slideshow": {
     "slide_type": "subslide"
    }
   },
   "source": [
    "* Next, go to the URL https://generalassemb.ly/\n",
    "\n",
    "You should be able to see a few HTTP requests and responses in the Network tab. For each request, you'll see a **Path**, **Method**, **Status**, **Type**, and **Size**, along with info about how long it took to get each of these resources.\n",
    "  * Most of this information comes from the HTTP Request and Response.\n",
    "  * Some HTTP requests are for CSS, JavaScript and images that are referenced by the HTML.\n",
    "  * Select `generalassemb.ly` in the Path column on the far left.\n",
    "  * Select the Headers tab. **Headers** are meta-data properties of an HTTP request or response, separate from the body of the message."
   ]
  },
  {
   "cell_type": "markdown",
   "metadata": {
    "slideshow": {
     "slide_type": "subslide"
    }
   },
   "source": [
    "<a id='ind-http'></a>\n",
    "\n",
    "## Independent practice: HTTP\n",
    "\n",
    "---\n",
    "\n",
    "\n",
    "### With a partner, go to your favorite website(s) (safe for work), inspect the protocol from the Chrome network inspection tool (cmd-opt-i), and identify:\n",
    "\n",
    "- Requests sent by your client\n",
    "- Requests sent by the server\n",
    "- URI (Uniform Resource Identifier), a generalized URL\n",
    "\n",
    "#### Research and Explain:\n",
    "- cache-control\n",
    "- age\n",
    "- content-encoding\n",
    "- expires\n",
    "- \"GET\" and \"POST\" requests\n",
    "- query string parameters\n",
    "\n",
    "#### Bonus:\n",
    "What are [cookies](http://www.whatarecookies.com/)?\n",
    "<img src=\"assets/cookies.gif\" style=\"width: 400px\">"
   ]
  },
  {
   "cell_type": "markdown",
   "metadata": {
    "slideshow": {
     "slide_type": "slide"
    }
   },
   "source": [
    "<a name=\"json\"></a>\n",
    "## JSON\n",
    "\n",
    "---\n",
    "\n",
    "JSON is short for _JavaScript Object Notation_, and is a way to store information in an organized, easy-to-access manner. In a nutshell, it gives us a human-readable collection of data that we can access in a really logical way.\n",
    "\n",
    "It is very important to realize that JSON is just plain text that you can edit in a text editor. It is called JSON because a JSON string is valid JavaScript code. Because of this, JSON has become very popular with JavaScript programmers for talking with APIs.\n",
    "\n",
    "**JSON is built on two structures:**\n",
    "* A collection of name/value pairs. In various languages, this is realized as an object, record, structure, **dictionary**, hash table, keyed list, or associative array.\n",
    "* An ordered list of values. In most languages, this is realized as an array, vector, **list**, or sequence.\n",
    "\n",
    "These are universal data structures. Virtually all modern programming languages support them in one form or another. It makes sense that a data format that is interchangeable with programming languages also be based on these structures.\n",
    "\n",
    "JSON is *language independent*!"
   ]
  },
  {
   "cell_type": "markdown",
   "metadata": {
    "slideshow": {
     "slide_type": "subslide"
    }
   },
   "source": [
    "### JSON objects\n",
    "\n",
    "An object is an unordered set of name/value pairs, like python dictionaries. An object begins with `{` (left brace) and ends with `}` (right brace). Each name is followed by `:` (colon) and the name/value pairs are separated by `,` (comma).\n",
    "\n",
    "The syntax is as follows:\n",
    "\n",
    "```\n",
    "{ string : value, .......}\n",
    "```\n",
    "like:\n",
    "```\n",
    "{\"count\": 1, ...}\n",
    "```\n",
    "_Seems an awful lot like a Python dictionary..._"
   ]
  },
  {
   "cell_type": "markdown",
   "metadata": {
    "slideshow": {
     "slide_type": "subslide"
    }
   },
   "source": [
    "<a name=\"ind-practice\"></a>\n",
    "## Independent practice: validating JSON \n",
    "\n",
    "---\n",
    "\n",
    "JSON is very simple to use if correctly structured. One of the resources to validate JSON and check if the syntax is correct is [JSON Viewer](http://codebeautify.org/jsonviewer).\n",
    "\n",
    "For this exercise, copy the first example [JSON file from the datasets folder](./datasets/test1.json) and insert it in the web app above. Then, click \"Validate\".\n",
    "\n",
    "If you see \"Valid JSON\", click \"Beautify\" and you will see a more readable way of JSON. If you do not see the message \"Valid JSON\", it means that there is a syntax error.\n",
    "\n",
    "* First, correct errors if there are any\n",
    "* Then, work in pairs to identify the structure of the JSON:\n",
    "\n",
    "    - What are the elements?\n",
    "    - Are there any arrays?\n",
    "    - How many objects are there?\n",
    "    - What are the attributes of an object?\n",
    "    \n",
    "* Once you are ready, take a look at the [second json file](./datasets/test2.json)."
   ]
  },
  {
   "cell_type": "code",
   "execution_count": 1,
   "metadata": {
    "slideshow": {
     "slide_type": "subslide"
    }
   },
   "outputs": [
    {
     "data": {
      "text/plain": [
       "pandas.core.frame.DataFrame"
      ]
     },
     "execution_count": 1,
     "metadata": {},
     "output_type": "execute_result"
    }
   ],
   "source": [
    "import json\n",
    "import pandas as pd\n",
    "\n",
    "with open('./datasets/test2.json') as json_data:\n",
    "    json_df = pd.DataFrame([json.load(json_data)])\n",
    "\n",
    "type(json_df)"
   ]
  },
  {
   "cell_type": "code",
   "execution_count": 2,
   "metadata": {},
   "outputs": [
    {
     "data": {
      "text/plain": [
       "{'view': {'id': 'k5ry-ef3g',\n",
       "  'name': 'Restaurants',\n",
       "  'attribution': 'City of Baltimore',\n",
       "  'attributionLink': 'http://www.baltimorecity.gov',\n",
       "  'averageRating': 0,\n",
       "  'category': 'Culture & Arts',\n",
       "  'createdAt': 1323890441,\n",
       "  'description': 'This dataset contains a list of restaurants within Baltimore City. The accuracy and completeness of this list is unknown.',\n",
       "  'displayType': 'table',\n",
       "  'downloadCount': 23287,\n",
       "  'hideFromCatalog': False,\n",
       "  'hideFromDataJson': False,\n",
       "  'indexUpdatedAt': 1486060407,\n",
       "  'licenseId': 'CC_30_BY',\n",
       "  'newBackend': False,\n",
       "  'numberOfComments': 0,\n",
       "  'oid': 7693223,\n",
       "  'provenance': 'official',\n",
       "  'publicationAppendEnabled': False,\n",
       "  'publicationDate': 1396568385,\n",
       "  'publicationGroup': 260378,\n",
       "  'publicationStage': 'published',\n",
       "  'rowsUpdatedAt': 1396568381,\n",
       "  'rowsUpdatedBy': '6r9a-dfdj',\n",
       "  'tableId': 1533935,\n",
       "  'totalTimesRated': 0,\n",
       "  'viewCount': 15983,\n",
       "  'viewLastModified': 1486356240,\n",
       "  'viewType': 'tabular',\n",
       "  'columns': [{'id': -1,\n",
       "    'name': 'sid',\n",
       "    'dataTypeName': 'meta_data',\n",
       "    'fieldName': ':sid',\n",
       "    'position': 0,\n",
       "    'renderTypeName': 'meta_data',\n",
       "    'format': {},\n",
       "    'flags': ['hidden']},\n",
       "   {'id': -1,\n",
       "    'name': 'id',\n",
       "    'dataTypeName': 'meta_data',\n",
       "    'fieldName': ':id',\n",
       "    'position': 0,\n",
       "    'renderTypeName': 'meta_data',\n",
       "    'format': {},\n",
       "    'flags': ['hidden']},\n",
       "   {'id': -1,\n",
       "    'name': 'position',\n",
       "    'dataTypeName': 'meta_data',\n",
       "    'fieldName': ':position',\n",
       "    'position': 0,\n",
       "    'renderTypeName': 'meta_data',\n",
       "    'format': {},\n",
       "    'flags': ['hidden']},\n",
       "   {'id': -1,\n",
       "    'name': 'created_at',\n",
       "    'dataTypeName': 'meta_data',\n",
       "    'fieldName': ':created_at',\n",
       "    'position': 0,\n",
       "    'renderTypeName': 'meta_data',\n",
       "    'format': {},\n",
       "    'flags': ['hidden']},\n",
       "   {'id': -1,\n",
       "    'name': 'created_meta',\n",
       "    'dataTypeName': 'meta_data',\n",
       "    'fieldName': ':created_meta',\n",
       "    'position': 0,\n",
       "    'renderTypeName': 'meta_data',\n",
       "    'format': {},\n",
       "    'flags': ['hidden']},\n",
       "   {'id': -1,\n",
       "    'name': 'updated_at',\n",
       "    'dataTypeName': 'meta_data',\n",
       "    'fieldName': ':updated_at',\n",
       "    'position': 0,\n",
       "    'renderTypeName': 'meta_data',\n",
       "    'format': {},\n",
       "    'flags': ['hidden']},\n",
       "   {'id': -1,\n",
       "    'name': 'updated_meta',\n",
       "    'dataTypeName': 'meta_data',\n",
       "    'fieldName': ':updated_meta',\n",
       "    'position': 0,\n",
       "    'renderTypeName': 'meta_data',\n",
       "    'format': {},\n",
       "    'flags': ['hidden']},\n",
       "   {'id': -1,\n",
       "    'name': 'meta',\n",
       "    'dataTypeName': 'meta_data',\n",
       "    'fieldName': ':meta',\n",
       "    'position': 0,\n",
       "    'renderTypeName': 'meta_data',\n",
       "    'format': {},\n",
       "    'flags': ['hidden']},\n",
       "   {'id': 141278871,\n",
       "    'name': 'name',\n",
       "    'dataTypeName': 'text',\n",
       "    'fieldName': 'name',\n",
       "    'position': 1,\n",
       "    'renderTypeName': 'text',\n",
       "    'tableColumnId': 1786993,\n",
       "    'width': 193,\n",
       "    'cachedContents': {'non_null': 1327,\n",
       "     'largest': 'ZORBAS',\n",
       "     'null': 0,\n",
       "     'top': [{'item': 'SUBWAY', 'count': 20},\n",
       "      {'item': \"WENDY'S\", 'count': 19},\n",
       "      {'item': 'XS', 'count': 18},\n",
       "      {'item': 'YELLOW BOWL CAF\\x90', 'count': 17},\n",
       "      {'item': 'YELLOW BOWL RESTAURANT II', 'count': 16},\n",
       "      {'item': 'YELLOW DOG TAVERN', 'count': 15},\n",
       "      {'item': 'YETI RESTAURANT & CARRYOUT', 'count': 14},\n",
       "      {'item': 'YORK CLUB TAVERN', 'count': 13},\n",
       "      {'item': \"YOUNG'S PLACE\", 'count': 12},\n",
       "      {'item': 'ZEEBA LOUNGE', 'count': 11},\n",
       "      {'item': 'ZEN WEST ROADSIDE CANTINA', 'count': 10},\n",
       "      {'item': 'ZIASCOS', 'count': 9},\n",
       "      {'item': \"ZINK'S CAF\\x90\", 'count': 8},\n",
       "      {'item': 'ZISSIMOS BAR', 'count': 7},\n",
       "      {'item': 'ZORBAS', 'count': 6}],\n",
       "     'smallest': '#1 CHINESE KITCHEN'},\n",
       "    'format': {}},\n",
       "   {'id': 141278872,\n",
       "    'name': 'zipCode',\n",
       "    'dataTypeName': 'text',\n",
       "    'fieldName': 'zipcode',\n",
       "    'position': 2,\n",
       "    'renderTypeName': 'text',\n",
       "    'tableColumnId': 1786994,\n",
       "    'width': 76,\n",
       "    'cachedContents': {'non_null': 1327,\n",
       "     'largest': '21287',\n",
       "     'null': 0,\n",
       "     'top': [{'item': '21206', 'count': 20},\n",
       "      {'item': '21231', 'count': 19},\n",
       "      {'item': '21224', 'count': 18},\n",
       "      {'item': '21211', 'count': 17},\n",
       "      {'item': '21223', 'count': 16},\n",
       "      {'item': '21218', 'count': 15},\n",
       "      {'item': '21205', 'count': 14},\n",
       "      {'item': '21226', 'count': 13},\n",
       "      {'item': '21215', 'count': 12},\n",
       "      {'item': '21202', 'count': 11},\n",
       "      {'item': '21201', 'count': 10},\n",
       "      {'item': '21230', 'count': 9},\n",
       "      {'item': '21222', 'count': 8},\n",
       "      {'item': '21212', 'count': 7},\n",
       "      {'item': '21210', 'count': 6},\n",
       "      {'item': '21213', 'count': 5},\n",
       "      {'item': '21214', 'count': 4},\n",
       "      {'item': '21225', 'count': 3},\n",
       "      {'item': '21217', 'count': 2},\n",
       "      {'item': '21234', 'count': 1}],\n",
       "     'smallest': '21201'},\n",
       "    'format': {}},\n",
       "   {'id': 141278873,\n",
       "    'name': 'neighborhood',\n",
       "    'dataTypeName': 'text',\n",
       "    'fieldName': 'neighborhood',\n",
       "    'position': 3,\n",
       "    'renderTypeName': 'text',\n",
       "    'tableColumnId': 1786995,\n",
       "    'width': 148,\n",
       "    'cachedContents': {'non_null': 1327,\n",
       "     'largest': 'Wyman Park',\n",
       "     'null': 0,\n",
       "     'top': [{'item': 'Fells Point', 'count': 20},\n",
       "      {'item': 'Canton', 'count': 19},\n",
       "      {'item': 'Downtown', 'count': 18},\n",
       "      {'item': 'Inner Harbor', 'count': 17},\n",
       "      {'item': 'Mid-Town Belvedere', 'count': 16},\n",
       "      {'item': 'Hampden', 'count': 15},\n",
       "      {'item': 'Federal Hill', 'count': 14},\n",
       "      {'item': 'Charles North', 'count': 13},\n",
       "      {'item': 'Mount Vernon', 'count': 12},\n",
       "      {'item': 'Riverside', 'count': 11},\n",
       "      {'item': 'Charles Village', 'count': 10},\n",
       "      {'item': 'Broadway East', 'count': 9},\n",
       "      {'item': 'Westfield', 'count': 8},\n",
       "      {'item': 'Highlandtown', 'count': 7},\n",
       "      {'item': 'Baltimore-Linwood', 'count': 6},\n",
       "      {'item': 'Greektown', 'count': 5},\n",
       "      {'item': 'Little Italy', 'count': 4},\n",
       "      {'item': 'Middle East', 'count': 3},\n",
       "      {'item': 'Pulaski Industrial Area', 'count': 2},\n",
       "      {'item': 'Carrollton Ridge', 'count': 1}],\n",
       "     'smallest': 'Abell'},\n",
       "    'format': {}},\n",
       "   {'id': 141278874,\n",
       "    'name': 'councilDistrict',\n",
       "    'dataTypeName': 'number',\n",
       "    'fieldName': 'councildistrict',\n",
       "    'position': 4,\n",
       "    'renderTypeName': 'number',\n",
       "    'tableColumnId': 1786996,\n",
       "    'width': 107,\n",
       "    'cachedContents': {'non_null': 1327,\n",
       "     'average': '7.191409193669932',\n",
       "     'largest': '14',\n",
       "     'null': 0,\n",
       "     'top': [{'item': '2', 'count': 20},\n",
       "      {'item': '1', 'count': 19},\n",
       "      {'item': '14', 'count': 18},\n",
       "      {'item': '9', 'count': 17},\n",
       "      {'item': '13', 'count': 16},\n",
       "      {'item': '7', 'count': 15},\n",
       "      {'item': '10', 'count': 14},\n",
       "      {'item': '5', 'count': 13},\n",
       "      {'item': '11', 'count': 12},\n",
       "      {'item': '6', 'count': 11},\n",
       "      {'item': '12', 'count': 10},\n",
       "      {'item': '3', 'count': 9},\n",
       "      {'item': '4', 'count': 8},\n",
       "      {'item': '8', 'count': 7}],\n",
       "     'smallest': '1',\n",
       "     'sum': '9543'},\n",
       "    'format': {}},\n",
       "   {'id': 141278875,\n",
       "    'name': 'policeDistrict',\n",
       "    'dataTypeName': 'text',\n",
       "    'fieldName': 'policedistrict',\n",
       "    'position': 5,\n",
       "    'renderTypeName': 'text',\n",
       "    'tableColumnId': 1786997,\n",
       "    'width': 155,\n",
       "    'cachedContents': {'non_null': 1327,\n",
       "     'largest': 'WESTERN',\n",
       "     'null': 0,\n",
       "     'top': [{'item': 'NORTHEASTERN', 'count': 20},\n",
       "      {'item': 'SOUTHEASTERN', 'count': 19},\n",
       "      {'item': 'NORTHERN', 'count': 18},\n",
       "      {'item': 'SOUTHWESTERN', 'count': 17},\n",
       "      {'item': 'SOUTHERN', 'count': 16},\n",
       "      {'item': 'NORTHWESTERN', 'count': 15},\n",
       "      {'item': 'CENTRAL', 'count': 14},\n",
       "      {'item': 'EASTERN', 'count': 13},\n",
       "      {'item': 'WESTERN', 'count': 12}],\n",
       "     'smallest': 'CENTRAL'},\n",
       "    'format': {}},\n",
       "   {'id': 141278876,\n",
       "    'name': 'Location 1',\n",
       "    'dataTypeName': 'location',\n",
       "    'fieldName': 'location_1',\n",
       "    'position': 6,\n",
       "    'renderTypeName': 'location',\n",
       "    'tableColumnId': 1786998,\n",
       "    'width': 220,\n",
       "    'cachedContents': {'non_null': 1327,\n",
       "     'largest': {'human_address': '{\"address\":\"Hopkins Pl\",\"city\":\"Baltimore\",\"state\":\"MD\",\"zip\":\"\"}'},\n",
       "     'null': 0,\n",
       "     'top': [{'item': {'human_address': '{\"address\":\"3101 WYLIE AVE\",\"city\":\"Baltimore\",\"state\":\"MD\",\"zip\":\"\"}'},\n",
       "       'count': 20},\n",
       "      {'item': {'human_address': '{\"address\":\"10 CALVERT ST\",\"city\":\"Baltimore\",\"state\":\"MD\",\"zip\":\"\"}'},\n",
       "       'count': 19},\n",
       "      {'item': {'human_address': '{\"address\":\"1307 CHARLES ST\",\"city\":\"Baltimore\",\"state\":\"MD\",\"zip\":\"\"}'},\n",
       "       'count': 18},\n",
       "      {'item': {'human_address': '{\"address\":\"1234 GREENMOUNT AVE\",\"city\":\"Baltimore\",\"state\":\"MD\",\"zip\":\"\"}'},\n",
       "       'count': 17},\n",
       "      {'item': {'human_address': '{\"address\":\"5131 PARK HEIGHTS AVE\",\"city\":\"Baltimore\",\"state\":\"MD\",\"zip\":\"\"}'},\n",
       "       'count': 16},\n",
       "      {'item': {'human_address': '{\"address\":\"700 POTOMAC ST\",\"city\":\"Baltimore\",\"state\":\"MD\",\"zip\":\"\"}'},\n",
       "       'count': 15},\n",
       "      {'item': {'human_address': '{\"address\":\"5926 YORK RD\",\"city\":\"Baltimore\",\"state\":\"MD\",\"zip\":\"\"}'},\n",
       "       'count': 14},\n",
       "      {'item': {'human_address': '{\"address\":\"5407 YORK RD\",\"city\":\"Baltimore\",\"state\":\"MD\",\"zip\":\"\"}'},\n",
       "       'count': 13},\n",
       "      {'item': {'human_address': '{\"address\":\"2200 FAYETTE ST\",\"city\":\"Baltimore\",\"state\":\"MD\",\"zip\":\"\"}'},\n",
       "       'count': 12},\n",
       "      {'item': {'human_address': '{\"address\":\"916 LIGHT ST\",\"city\":\"Baltimore\",\"state\":\"MD\",\"zip\":\"\"}'},\n",
       "       'count': 11},\n",
       "      {'item': {'human_address': '{\"address\":\"5916 YORK RD\",\"city\":\"Baltimore\",\"state\":\"MD\",\"zip\":\"\"}'},\n",
       "       'count': 10},\n",
       "      {'item': {'human_address': '{\"address\":\"1313 PRATT ST\",\"city\":\"Baltimore\",\"state\":\"MD\",\"zip\":\"\"}'},\n",
       "       'count': 9},\n",
       "      {'item': {'human_address': '{\"address\":\"3300 LAWNVIEW AVE\",\"city\":\"Baltimore\",\"state\":\"MD\",\"zip\":\"\"}'},\n",
       "       'count': 8},\n",
       "      {'item': {'human_address': '{\"address\":\"1023 36TH ST\",\"city\":\"Baltimore\",\"state\":\"MD\",\"zip\":\"\"}'},\n",
       "       'count': 7},\n",
       "      {'item': {'human_address': '{\"address\":\"4710 EASTERN Ave\",\"city\":\"Baltimore\",\"state\":\"MD\",\"zip\":\"\"}'},\n",
       "       'count': 6}],\n",
       "     'smallest': {'human_address': '{\"address\":\"1 BIDDLE ST\",\"city\":\"Baltimore\",\"state\":\"MD\",\"zip\":\"\"}'}},\n",
       "    'format': {},\n",
       "    'subColumnTypes': ['human_address',\n",
       "     'latitude',\n",
       "     'longitude',\n",
       "     'machine_address',\n",
       "     'needs_recoding']}],\n",
       "  'grants': [{'inherited': False, 'type': 'viewer', 'flags': ['public']}],\n",
       "  'license': {'name': 'Creative Commons Attribution 3.0 Unported',\n",
       "   'logoUrl': 'images/licenses/cc30by.png',\n",
       "   'termsLink': 'http://creativecommons.org/licenses/by/3.0/legalcode'},\n",
       "  'metadata': {'custom_fields': {'Publishing Entity': {'Department': 'Office of the Mayor'}}},\n",
       "  'owner': {'id': '6r9a-dfdj',\n",
       "   'displayName': 'Open Baltimore',\n",
       "   'screenName': 'Open Baltimore',\n",
       "   'type': 'interactive',\n",
       "   'flags': ['mayBeStoriesCoOwner']},\n",
       "  'query': {},\n",
       "  'rights': ['read'],\n",
       "  'tableAuthor': {'id': '6r9a-dfdj',\n",
       "   'displayName': 'Open Baltimore',\n",
       "   'screenName': 'Open Baltimore',\n",
       "   'type': 'interactive',\n",
       "   'flags': ['mayBeStoriesCoOwner']},\n",
       "  'tags': ['food', 'restaurant'],\n",
       "  'flags': ['default', 'restorable', 'restorePossibleForType']}}"
      ]
     },
     "execution_count": 2,
     "metadata": {},
     "output_type": "execute_result"
    }
   ],
   "source": [
    "json_df['meta'][0]"
   ]
  },
  {
   "cell_type": "code",
   "execution_count": 3,
   "metadata": {
    "slideshow": {
     "slide_type": "fragment"
    }
   },
   "outputs": [],
   "source": [
    "## We can access 'json_df' like any other dataframe\n",
    "# Try json_df['meta']\n",
    "\n",
    "# Try json_df['data'][0]\n"
   ]
  },
  {
   "cell_type": "markdown",
   "metadata": {
    "slideshow": {
     "slide_type": "slide"
    }
   },
   "source": [
    "<a name=\"guided-practice\"></a>\n",
    "## Guided practice: Pulling data from APIs\n",
    "\n",
    "---\n",
    "\n",
    "Recall that APIs are methods and data formats to tell people how to \"talk\" to a system. We'll walk through an example below."
   ]
  },
  {
   "cell_type": "markdown",
   "metadata": {
    "slideshow": {
     "slide_type": "subslide"
    }
   },
   "source": [
    "<a id='ex1-star-wars'></a>\n",
    "### Example: Star Wars\n",
    "\n",
    "The Star Wars API (SWAPI) is a large collection of data about Star Wars. It can be browsed at the address: http://swapi.co/.\n",
    "\n",
    "What if we wanted to programatically access the data in SWAPI? Unless we are employees of the site, we probably don't have direct access to their internal database. So, we cannot perform SQL queries on their data.\n",
    "\n",
    "We could use scraping to retrieve data from the web page. In some cases (particularly if they do not have a public API), we will have to do exactly that.\n",
    "\n",
    "> *Note: check the \"Terms of Service\" before you scrape a website. Scraping could infringe their terms of service.*\n",
    "\n",
    "In other cases, the website offers a way to programatically access data from their database -- often, as an API.\n",
    "\n",
    "**Let's try for example to retrieve the data about the \"Obi-Wan Kenobi\".**\n",
    "\n",
    "Referencing the [SWAPI Documentation](http://swapi.co/documentation), lets create a query to search for characters with \"obi\" in their name.\n",
    "\n",
    "**In a browser, paste:**\n",
    "\n",
    "    https://swapi.co/api/people/?format=json&search=obi\n"
   ]
  },
  {
   "cell_type": "markdown",
   "metadata": {
    "slideshow": {
     "slide_type": "subslide"
    }
   },
   "source": [
    "{\n",
    "    \"count\": 1,   \n",
    "    \"next\": null,   \n",
    "    \"previous\": null,   \n",
    "    \"results\": [  \n",
    "        {  \n",
    "            \"name\": \"Obi-Wan Kenobi\",   \n",
    "            \"height\": \"182\",   \n",
    "            \"mass\": \"77\",   \n",
    "            \"hair_color\": \"auburn, white\",   \n",
    "            \"skin_color\": \"fair\",   \n",
    "            \"eye_color\": \"blue-gray\",   \n",
    "            \"birth_year\": \"57BBY\",   \n",
    "            \"gender\": \"male\",   \n",
    "            \"homeworld\": \"http://swapi.co/api/planets/20/\",   \n",
    "            \"films\": [    \n",
    "                \"http://swapi.co/api/films/2/\",   \n",
    "                \"http://swapi.co/api/films/5/\",   \n",
    "                \"http://swapi.co/api/films/4/\",   \n",
    "                \"http://swapi.co/api/films/6/\",   \n",
    "                \"http://swapi.co/api/films/3/\",   \n",
    "                \"http://swapi.co/api/films/1/\"  \n",
    "            ],   \n",
    "            \"species\": [\"http://swapi.co/api/species/1/\"],     \n",
    "            \"vehicles\": [\"http://swapi.co/api/vehicles/38/\"],   \n",
    "            \"starships\": [  \n",
    "                \"http://swapi.co/api/starships/48/\",     \n",
    "                \"http://swapi.co/api/starships/59/\",   \n",
    "                \"http://swapi.co/api/starships/64/\",   \n",
    "                \"http://swapi.co/api/starships/65/\",   \n",
    "                \"http://swapi.co/api/starships/74/\"  \n",
    "            ],   \n",
    "            \"created\": \"2014-12-10T16:16:29.192000Z\",     \n",
    "            \"edited\": \"2014-12-20T21:17:50.325000Z\",     \n",
    "            \"url\": \"http://swapi.co/api/people/10/\"    \n",
    "        }  \n",
    "    ]  \n",
    "}  "
   ]
  },
  {
   "cell_type": "markdown",
   "metadata": {
    "slideshow": {
     "slide_type": "slide"
    }
   },
   "source": [
    "###  What Just Happened?"
   ]
  },
  {
   "cell_type": "markdown",
   "metadata": {
    "slideshow": {
     "slide_type": "fragment"
    }
   },
   "source": [
    "We requested a url, which responded with JSON.\n",
    "\n",
    "SWAPI has a GUI-based response as well which is the default.\n",
    "\n",
    "https://swapi.co/api/people/?search=obi\n",
    "\n",
    "Also a Wookie-flavored one:\n",
    "\n",
    "https://swapi.co/api/people/?format=wookiee&search=obi"
   ]
  },
  {
   "cell_type": "markdown",
   "metadata": {
    "slideshow": {
     "slide_type": "slide"
    }
   },
   "source": [
    "<a id='submit'></a>\n",
    "### Try submitting a couple more queries to familiarize with the API.\n",
    "\n",
    "- You can also query an API from the command line using the app `curl`. Try typing:\n",
    "\n",
    "    `curl https://swapi.co/api/people/?format=json&search=Chewbacca`\n"
   ]
  },
  {
   "cell_type": "markdown",
   "metadata": {
    "slideshow": {
     "slide_type": "fragment"
    }
   },
   "source": [
    "```javascript   \n",
    "{\"name\":\"Chewbacca\",\n",
    " \"height\":\"228\",\n",
    " \"mass\":\"112\",\n",
    " \"hair_color\":\"brown\",\n",
    " \"skin_color\":\"unknown\",\n",
    " \"eye_color\":\"blue\",\n",
    " \"birth_year\":\"200BBY\",\n",
    " \"gender\":\"male\",\n",
    " \"homeworld\":\"http://swapi.co/api/planets/14/\",\n",
    " \"films\": [\"http://swapi.co/api/films/2/\",\"http://swapi.co/api/films/6/\",\"http://swapi.co/api/films/3/\",\"http://swapi.co/api/films/1/\",\"http://swapi.co/api/films/7/\"],\n",
    " \"species\":[\"http://swapi.co/api/species/3/\"],\n",
    " \"vehicles\":[\"http://swapi.co/api/vehicles/19/\"],\n",
    " \"starships\":[\"http://swapi.co/api/starships/10/\",\"http://swapi.co/api/starships/22/\"],\n",
    " \"created\":\"2014-12-10T16:42:45.066000Z\",\n",
    " \"edited\":\"2014-12-20T21:17:50.332000Z\",\n",
    " \"url\":\"http://swapi.co/api/people/13/\"}\n",
    "```"
   ]
  },
  {
   "cell_type": "code",
   "execution_count": 4,
   "metadata": {
    "slideshow": {
     "slide_type": "slide"
    }
   },
   "outputs": [
    {
     "data": {
      "text/html": [
       "<div>\n",
       "<style scoped>\n",
       "    .dataframe tbody tr th:only-of-type {\n",
       "        vertical-align: middle;\n",
       "    }\n",
       "\n",
       "    .dataframe tbody tr th {\n",
       "        vertical-align: top;\n",
       "    }\n",
       "\n",
       "    .dataframe thead th {\n",
       "        text-align: right;\n",
       "    }\n",
       "</style>\n",
       "<table border=\"1\" class=\"dataframe\">\n",
       "  <thead>\n",
       "    <tr style=\"text-align: right;\">\n",
       "      <th></th>\n",
       "      <th>birth_year</th>\n",
       "      <th>created</th>\n",
       "      <th>edited</th>\n",
       "      <th>eye_color</th>\n",
       "      <th>films</th>\n",
       "      <th>gender</th>\n",
       "      <th>hair_color</th>\n",
       "      <th>height</th>\n",
       "      <th>homeworld</th>\n",
       "      <th>mass</th>\n",
       "      <th>name</th>\n",
       "      <th>skin_color</th>\n",
       "      <th>species</th>\n",
       "      <th>starships</th>\n",
       "      <th>url</th>\n",
       "      <th>vehicles</th>\n",
       "    </tr>\n",
       "  </thead>\n",
       "  <tbody>\n",
       "    <tr>\n",
       "      <th>0</th>\n",
       "      <td>57BBY</td>\n",
       "      <td>2014-12-10T16:16:29.192000Z</td>\n",
       "      <td>2014-12-20T21:17:50.325000Z</td>\n",
       "      <td>blue-gray</td>\n",
       "      <td>[https://swapi.co/api/films/2/, https://swapi....</td>\n",
       "      <td>male</td>\n",
       "      <td>auburn, white</td>\n",
       "      <td>182</td>\n",
       "      <td>https://swapi.co/api/planets/20/</td>\n",
       "      <td>77</td>\n",
       "      <td>Obi-Wan Kenobi</td>\n",
       "      <td>fair</td>\n",
       "      <td>[https://swapi.co/api/species/1/]</td>\n",
       "      <td>[https://swapi.co/api/starships/48/, https://s...</td>\n",
       "      <td>https://swapi.co/api/people/10/</td>\n",
       "      <td>[https://swapi.co/api/vehicles/38/]</td>\n",
       "    </tr>\n",
       "  </tbody>\n",
       "</table>\n",
       "</div>"
      ],
      "text/plain": [
       "  birth_year                      created                       edited  \\\n",
       "0      57BBY  2014-12-10T16:16:29.192000Z  2014-12-20T21:17:50.325000Z   \n",
       "\n",
       "   eye_color                                              films gender  \\\n",
       "0  blue-gray  [https://swapi.co/api/films/2/, https://swapi....   male   \n",
       "\n",
       "      hair_color height                         homeworld mass  \\\n",
       "0  auburn, white    182  https://swapi.co/api/planets/20/   77   \n",
       "\n",
       "             name skin_color                            species  \\\n",
       "0  Obi-Wan Kenobi       fair  [https://swapi.co/api/species/1/]   \n",
       "\n",
       "                                           starships  \\\n",
       "0  [https://swapi.co/api/starships/48/, https://s...   \n",
       "\n",
       "                               url                             vehicles  \n",
       "0  https://swapi.co/api/people/10/  [https://swapi.co/api/vehicles/38/]  "
      ]
     },
     "execution_count": 4,
     "metadata": {},
     "output_type": "execute_result"
    }
   ],
   "source": [
    "# Request example for the SWAPI example\n",
    "import requests\n",
    "\n",
    "result = requests.get(\"http://swapi.co/api/people/10/\")\n",
    "df = pd.DataFrame([result.json()])\n",
    "df"
   ]
  },
  {
   "cell_type": "markdown",
   "metadata": {
    "slideshow": {
     "slide_type": "slide"
    }
   },
   "source": [
    "<a id='ssh'></a>\n",
    "\n",
    "### How Does SSH Work\n",
    "\n",
    "<img src=\"./assets/ds_tools.png\" style=\"width: 700px\">\n",
    "\n",
    "If you’re using Linux or Mac, then using SSH is very simple. If you use Windows, you will need to utilize an SSH client to open SSH connections. The most popular SSH client is PuTTY.\n",
    "\n",
    "For Mac and Linux users, you can use the SSH command via your terminal program by following the procedure below."
   ]
  },
  {
   "cell_type": "markdown",
   "metadata": {
    "slideshow": {
     "slide_type": "subslide"
    }
   },
   "source": [
    "The SSH command consists of (at least) 3 parts:\n",
    "\n",
    "`ssh {user}@{host}`"
   ]
  },
  {
   "cell_type": "markdown",
   "metadata": {
    "slideshow": {
     "slide_type": "fragment"
    }
   },
   "source": [
    "The SSH key command instructs your system that you want to open an encrypted Secure Shell Connection. \n",
    "- `{user}` represents the account you want to access. For example, you may want to access the root user, which is basically synonymous for system administrator with complete rights to modify anything on the system. \n",
    "- `{host}` refers to the computer you want to access. This can be an IP Address (e.g. 244.235.23.19) or a domain name (e.g. www.xyzdomain.com)."
   ]
  },
  {
   "cell_type": "markdown",
   "metadata": {
    "slideshow": {
     "slide_type": "subslide"
    }
   },
   "source": [
    "\n",
    "<img src=\"https://www.hostinger.com/tutorials/wp-content/uploads/sites/2/2017/07/shell-snapshot.jpg\" style=\"width: 600px\">\n",
    "\n",
    "When you hit enter, you will be prompted to enter the password for the requested account. When you type it in, nothing will appear on the screen, but your password is, in fact being transmitted. Once you’re done typing, hit enter once again. If your password is correct, you will be greeted with a remote terminal window."
   ]
  },
  {
   "cell_type": "markdown",
   "metadata": {
    "slideshow": {
     "slide_type": "subslide"
    }
   },
   "source": [
    "> It's worth being aware that a variety of security protocols are [available](https://www.hostinger.com/tutorials/ssh-tutorial-how-does-ssh-work#gref).\n",
    "- Password-based\n",
    "- Using cryptographic keys (much safer)"
   ]
  },
  {
   "cell_type": "markdown",
   "metadata": {
    "slideshow": {
     "slide_type": "skip"
    }
   },
   "source": [
    "<a id='oauth'></a>\n",
    "## OAuth\n",
    "\n",
    "---\n",
    "\n",
    "**OAuth (Open Authorization)** is simply a secure authorization protocol that often deals with the authorization of a third-party application to access a user's data without exposing their password (e.g., Login with Facebook, gPlus, Twitter in many websites). \n",
    "\n",
    "For example, before your application can access a user's Facebook data, the user must give your application consent first. As you can imagine, this is a more complex process than before since it involves the user.\n",
    "\n",
    "There are three parties involved: **OAuth Provider**, **OAuth Client**, and the **Owner**.\n",
    "\n",
    "- OAuth Client (Application Which wants to access your credential)\n",
    "- OAuth Provider (eg. facebook, twitter...)\n",
    "- Owner (the one with facebook,twitter.. account )\n",
    "\n",
    "There are various levels of OAuth access. For security, some APIs (such as the Yelp API) require OAuth access despite there not being any conventional users. These sites require a less complicated OAuth procedure.\n",
    "\n",
    "### Implementing OAuth in Python\n",
    "\n",
    "There are a number of OAuth libraries available in Python. If you are using a popular website such as Facebook, it is recommended to use their official Python library to handle the OAuth. If not, it is possible to code your own OAuth procedure. Because OAuth requires back-and-forth with your web application, discussing implementation details is outside of the scope of this lesson.\n",
    "\n",
    "You can read more about OAuth here: http://oauth.net/2/"
   ]
  },
  {
   "cell_type": "markdown",
   "metadata": {
    "slideshow": {
     "slide_type": "skip"
    }
   },
   "source": [
    "### OAuth Example:  client work with instagram\n",
    "\n",
    "![](assets/oAuth1.png)"
   ]
  },
  {
   "cell_type": "markdown",
   "metadata": {
    "slideshow": {
     "slide_type": "skip"
    }
   },
   "source": [
    "![](assets/oAuth2.png)"
   ]
  },
  {
   "cell_type": "markdown",
   "metadata": {
    "slideshow": {
     "slide_type": "skip"
    }
   },
   "source": [
    "![](assets/oAuth3.png)"
   ]
  },
  {
   "cell_type": "markdown",
   "metadata": {
    "slideshow": {
     "slide_type": "slide"
    }
   },
   "source": [
    "<a name=\"ind-practice2\"></a>\n",
    "## Independent Practice: Python APIs\n",
    "\n",
    "---\n",
    "\n",
    "**Form pairs and do the following:** \n",
    "\n",
    "Go to http://www.pythonforbeginners.com/api/list-of-python-apis  \n",
    "or   \n",
    "https://github.com/realpython/list-of-python-api-wrappers\n",
    "  \n",
    "  \n",
    "- Choose an API: what data is available with your choosen API?\n",
    "- Install Python module (if available for API), try to extract data.\n",
    "- Discuss: How could you leverage that api? How could you use the data?"
   ]
  }
 ],
 "metadata": {
  "anaconda-cloud": {},
  "celltoolbar": "Slideshow",
  "kernelspec": {
   "display_name": "Python [default]",
   "language": "python",
   "name": "python3"
  },
  "language_info": {
   "codemirror_mode": {
    "name": "ipython",
    "version": 3
   },
   "file_extension": ".py",
   "mimetype": "text/x-python",
   "name": "python",
   "nbconvert_exporter": "python",
   "pygments_lexer": "ipython3",
   "version": "3.6.4"
  }
 },
 "nbformat": 4,
 "nbformat_minor": 1
}
