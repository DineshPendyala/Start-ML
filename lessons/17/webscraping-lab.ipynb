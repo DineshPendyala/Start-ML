{
 "cells": [
  {
   "cell_type": "markdown",
   "metadata": {
    "collapsed": true
   },
   "source": [
    "<img src=\"http://imgur.com/1ZcRyrc.png\" style=\"float: left; margin: 20px; height: 55px\">\n",
    "\n",
    "# Web Scraping\n",
    "\n",
    "_Author: Joseph Nelson (DC)_\n",
    "\n",
    "---"
   ]
  },
  {
   "cell_type": "markdown",
   "metadata": {},
   "source": [
    "### Dependencies\n",
    "\n",
    "#### Install Selenium\n",
    "\n",
    "Selenium is a headless browser. It allows us to render JavaScript just as a human-navigated browser would.\n",
    "\n",
    "To install Selenium, use one of the following:\n",
    "- **Anaconda:** `conda install -c conda-forge selenium`\n",
    "- **pip:** `pip install selenium`\n",
    "\n",
    "\n",
    "#### Install GeckoDriver\n",
    "\n",
    "You will also need GeckoDriver (this assumes you are using Homebrew for Mac): \n",
    "\n",
    "- ```brew install geckodriver```\n",
    "\n",
    "#### Install Firefox\n",
    "\n",
    "Additionally, you will need to have downloaded the [Firefox browser](https://www.mozilla.org/en-US/firefox/new/?utm_source=google&utm_medium=cpc&utm_campaign=Firefox-Brand-US-GGL-Exact&utm_term=firefox&utm_content=A144_A203_A006336&gclid=Cj0KEQjwnPLKBRC-j7nt1b7OlZwBEiQAv8lMLJUyReT6cPzSYdmEA6uD3YDoieuuuusddgAU7XH6smEaAoje8P8HAQ&gclsrc=aw.ds) for the application in this lesson."
   ]
  },
  {
   "cell_type": "markdown",
   "metadata": {},
   "source": [
    "## Learning Objectives\n",
    "- Revisit how to locate elements on a webpage\n",
    "- Aquire unstructure data from the internet using Beautiful soup.\n",
    "- Discuss limitations associated with simple requests and urllib libraries\n",
    "- Introduce Selenium as a solution, and implement a scraper using selenium"
   ]
  },
  {
   "cell_type": "markdown",
   "metadata": {},
   "source": [
    "## Lesson Guide\n",
    "\n",
    "- [Introduction](#intro)\n",
    "- [Building a web scraper](#building-scraper)\n",
    "- [Retrieving data from the HTML page](#retrieving-data)\n",
    "    - [Retrieving the restaurant names](#retrieving-names)\n",
    "    - [Challenge: Retrieving the restaurant locations](#retrieving-locations)\n",
    "    - [Retrieving the restaurant prices](#retrieving-prices)\n",
    "    - [Retrieving the restaurant number of bookings](#retrieving-bookings)\n",
    "\n",
    "\n",
    "- [Introducting Selenium](#selenium)\n",
    "    - [Running JavaScript before scraping](#selenium-js)\n",
    "    - [Using regex to only get digits](#selenium-regex)\n",
    "    - [Challenge: Use Pandas to create a DataFrame of bookings](#challenge-pandas)\n",
    "    - [Auto-typing using Selenium](#selenium-typing)\n",
    "\n",
    "\n",
    "- [Summary](#summary)"
   ]
  },
  {
   "cell_type": "markdown",
   "metadata": {},
   "source": [
    "<a id=\"intro\"></a>\n",
    "## Introduction\n",
    "\n",
    "In this codealong lesson, we'll build a web scraper using requests and BeautifulSoup. We will also explore how to use a headless browser called Selenium.\n",
    "\n",
    "We'll begin by scraping OpenTable's DC listings. We're interested in knowing the restaurant's **name, location, price, and how many people booked it today.**\n",
    "\n",
    "OpenTable provides all of this information on this given page: http://www.opentable.com/washington-dc-restaurant-listings\n",
    "\n",
    "Let's inspect the elements of this page to assure we can find each of the bits of information in which we're interested.\n",
    "\n",
    "---"
   ]
  },
  {
   "cell_type": "markdown",
   "metadata": {},
   "source": [
    "<a id=\"building-scraper\"></a>\n",
    "## Building a web scraper\n",
    "\n",
    "Now, let's build a web scraper for OpenTable using urllib and Beautiful Soup:"
   ]
  },
  {
   "cell_type": "code",
   "execution_count": 1,
   "metadata": {
    "scrolled": false
   },
   "outputs": [],
   "source": [
    "# import our necessary first packages\n",
    "from bs4 import BeautifulSoup\n",
    "import requests"
   ]
  },
  {
   "cell_type": "code",
   "execution_count": 2,
   "metadata": {},
   "outputs": [],
   "source": [
    "# set the url we want to visit\n",
    "url = \"http://www.opentable.com/washington-dc-restaurant-listings\"\n",
    "\n",
    "# visit that url, and grab the html of said page\n",
    "html = requests.get(url)"
   ]
  },
  {
   "cell_type": "markdown",
   "metadata": {},
   "source": [
    "At this point, what is in html?"
   ]
  },
  {
   "cell_type": "code",
   "execution_count": 3,
   "metadata": {},
   "outputs": [
    {
     "data": {
      "text/plain": [
       "'           <!DOCTYPE html><html lang=\"en\"><head><meta charset=\"utf-8\"/><meta http-equiv=\"X-UA-Compatible\" content=\"IE=9; IE=8; IE=7; IE=EDGE\"/> <title>Restaurant Reservation Availability</title>    <meta  name=\"robots\" content=\"noindex\" > </meta><link  rel=\"canonical\" href=\"https://www.opentable.com/washington-dc-restaurant-listings\" > </link>      <link rel=\"shortcut icon\" href=\"//components.otstatic.com/components/favicon/1.0.5/favicon/favicon.ico\" type=\"image/x-icon\"/><link rel=\"icon\" href=\"/'"
      ]
     },
     "execution_count": 3,
     "metadata": {},
     "output_type": "execute_result"
    }
   ],
   "source": [
    "# .text returns the request content in Unicode\n",
    "html.text[:500]"
   ]
  },
  {
   "cell_type": "markdown",
   "metadata": {},
   "source": [
    "We will need to convert this html objct into a soup object so we can parse it using python and BS4"
   ]
  },
  {
   "cell_type": "code",
   "execution_count": 4,
   "metadata": {},
   "outputs": [],
   "source": [
    "# convert this into a soup object\n",
    "soup = BeautifulSoup(html.text, 'html.parser')"
   ]
  },
  {
   "cell_type": "markdown",
   "metadata": {},
   "source": [
    "<a id=\"retrieving-data\"></a>\n",
    "### Retrieving data from the HTML page"
   ]
  },
  {
   "cell_type": "markdown",
   "metadata": {},
   "source": [
    "Let's first find each restaurant name listed on the page we've loaded. How do we find the page location of the restaurant? (Hint: We need to know where in the **HTML** the restaurant element is housed.) In order to find the HTML that renders the restaurant location, we can use Google Chrome's Inspect tool:\n",
    "\n",
    "> http://www.opentable.com/washington-dc-restaurant-listings\n",
    "\n",
    "> 1. Visit the URL above. \n",
    "\n",
    "> 2. Right-click on an element you are interested in, then choose Inspect (in Chrome). \n",
    "\n",
    "> 3. This will open the Developer Tools and show the HTML used to render the selected page element. \n",
    "\n",
    "> Throughout this lesson, we will use this method to find tags associated with elements of the page we want to scrape.\n",
    "\n",
    "See if you can find the restaurant name on the page. Keep in mind there are many restaurants loaded on the page."
   ]
  },
  {
   "cell_type": "code",
   "execution_count": 5,
   "metadata": {
    "scrolled": true
   },
   "outputs": [
    {
     "data": {
      "text/plain": [
       "[<span class=\"rest-row-name-text\">407 Kovacek</span>,\n",
       " <span class=\"rest-row-name-text\">253 Kozey</span>,\n",
       " <span class=\"rest-row-name-text\">Radial</span>,\n",
       " <span class=\"rest-row-name-text\">Kovacek</span>,\n",
       " <span class=\"rest-row-name-text\">Center</span>,\n",
       " <span class=\"rest-row-name-text\">O'Kon</span>,\n",
       " <span class=\"rest-row-name-text\">Kyras</span>,\n",
       " <span class=\"rest-row-name-text\">Christiansen</span>,\n",
       " <span class=\"rest-row-name-text\">Rerum</span>,\n",
       " <span class=\"rest-row-name-text\">Gislason</span>,\n",
       " <span class=\"rest-row-name-text\">Tempora</span>,\n",
       " <span class=\"rest-row-name-text\">Becker Springs</span>,\n",
       " <span class=\"rest-row-name-text\">Gerlach Villages</span>,\n",
       " <span class=\"rest-row-name-text\">Agloe Bar &amp; Grill</span>,\n",
       " <span class=\"rest-row-name-text\">Minus Lodge</span>,\n",
       " <span class=\"rest-row-name-text\">Stones</span>,\n",
       " <span class=\"rest-row-name-text\">Rogahn Ferry</span>,\n",
       " <span class=\"rest-row-name-text\">992 Beatty</span>,\n",
       " <span class=\"rest-row-name-text\">Harbors</span>,\n",
       " <span class=\"rest-row-name-text\">Isle</span>,\n",
       " <span class=\"rest-row-name-text\">Arnold Jakubowski</span>,\n",
       " <span class=\"rest-row-name-text\">Non Light</span>,\n",
       " <span class=\"rest-row-name-text\">Roberts Island</span>,\n",
       " <span class=\"rest-row-name-text\">Doyle</span>,\n",
       " <span class=\"rest-row-name-text\">Tenetur Rosenbaum</span>,\n",
       " <span class=\"rest-row-name-text\">Paucek Bridge</span>,\n",
       " <span class=\"rest-row-name-text\">Neque</span>,\n",
       " <span class=\"rest-row-name-text\">Omnis Brook</span>,\n",
       " <span class=\"rest-row-name-text\">Brianne Homenick</span>,\n",
       " <span class=\"rest-row-name-text\">Franzs</span>,\n",
       " <span class=\"rest-row-name-text\">King</span>,\n",
       " <span class=\"rest-row-name-text\">Delectus</span>,\n",
       " <span class=\"rest-row-name-text\">Gislason</span>,\n",
       " <span class=\"rest-row-name-text\">Lindseys</span>,\n",
       " <span class=\"rest-row-name-text\">Non</span>,\n",
       " <span class=\"rest-row-name-text\">Ex Stravenue</span>,\n",
       " <span class=\"rest-row-name-text\">1155 Treutel</span>,\n",
       " <span class=\"rest-row-name-text\">Modi Shoal</span>,\n",
       " <span class=\"rest-row-name-text\">Clemens Feil</span>,\n",
       " <span class=\"rest-row-name-text\">Dejah Dam</span>,\n",
       " <span class=\"rest-row-name-text\">668 Cassin</span>,\n",
       " <span class=\"rest-row-name-text\">824 Purdy</span>,\n",
       " <span class=\"rest-row-name-text\">Cliffs</span>,\n",
       " <span class=\"rest-row-name-text\">Dicta Court</span>,\n",
       " <span class=\"rest-row-name-text\">Hyatt</span>,\n",
       " <span class=\"rest-row-name-text\">Eddie Hills</span>,\n",
       " <span class=\"rest-row-name-text\">Estas</span>,\n",
       " <span class=\"rest-row-name-text\">Laborum Tremblay</span>,\n",
       " <span class=\"rest-row-name-text\">Alysha Ports</span>,\n",
       " <span class=\"rest-row-name-text\">Voluptates Considine</span>,\n",
       " <span class=\"rest-row-name-text\">Qui</span>,\n",
       " <span class=\"rest-row-name-text\">Coves</span>,\n",
       " <span class=\"rest-row-name-text\">Qui Ford</span>,\n",
       " <span class=\"rest-row-name-text\">Quia Rue</span>,\n",
       " <span class=\"rest-row-name-text\">Sunt Mills</span>,\n",
       " <span class=\"rest-row-name-text\">Accusantium Hyatt</span>,\n",
       " <span class=\"rest-row-name-text\">670 Murray</span>,\n",
       " <span class=\"rest-row-name-text\">Junction</span>,\n",
       " <span class=\"rest-row-name-text\">Ondricka Forks</span>,\n",
       " <span class=\"rest-row-name-text\">Rapids</span>,\n",
       " <span class=\"rest-row-name-text\">Harris</span>,\n",
       " <span class=\"rest-row-name-text\">Jaskolski Springs</span>,\n",
       " <span class=\"rest-row-name-text\">Jimmie Station</span>,\n",
       " <span class=\"rest-row-name-text\">Verlas</span>,\n",
       " <span class=\"rest-row-name-text\">Spur</span>,\n",
       " <span class=\"rest-row-name-text\">1013 Metz</span>,\n",
       " <span class=\"rest-row-name-text\">636 Considine</span>,\n",
       " <span class=\"rest-row-name-text\">Repellat View</span>,\n",
       " <span class=\"rest-row-name-text\">Aut</span>,\n",
       " <span class=\"rest-row-name-text\">Trafficway</span>,\n",
       " <span class=\"rest-row-name-text\">Harvey</span>,\n",
       " <span class=\"rest-row-name-text\">Shanahan Course</span>,\n",
       " <span class=\"rest-row-name-text\">Uniques</span>,\n",
       " <span class=\"rest-row-name-text\">Rileys</span>,\n",
       " <span class=\"rest-row-name-text\">Voluptate Spinka</span>,\n",
       " <span class=\"rest-row-name-text\">Gerlach</span>,\n",
       " <span class=\"rest-row-name-text\">Rice</span>,\n",
       " <span class=\"rest-row-name-text\">653 Greenfelder</span>,\n",
       " <span class=\"rest-row-name-text\">861 Bernhard</span>,\n",
       " <span class=\"rest-row-name-text\">Velit Neck</span>,\n",
       " <span class=\"rest-row-name-text\">Sunt</span>,\n",
       " <span class=\"rest-row-name-text\">Schaefer Key</span>,\n",
       " <span class=\"rest-row-name-text\">Heidenreich</span>,\n",
       " <span class=\"rest-row-name-text\">Glorias</span>,\n",
       " <span class=\"rest-row-name-text\">622 Dibbert</span>,\n",
       " <span class=\"rest-row-name-text\">Architecto Schiller</span>,\n",
       " <span class=\"rest-row-name-text\">Johnston</span>,\n",
       " <span class=\"rest-row-name-text\">Schowalter Hollow</span>,\n",
       " <span class=\"rest-row-name-text\">Thads</span>,\n",
       " <span class=\"rest-row-name-text\">Estates</span>,\n",
       " <span class=\"rest-row-name-text\">Harum Parkways</span>,\n",
       " <span class=\"rest-row-name-text\">Aut</span>,\n",
       " <span class=\"rest-row-name-text\">Fay Wuckert</span>,\n",
       " <span class=\"rest-row-name-text\">Qui</span>,\n",
       " <span class=\"rest-row-name-text\">Kutch</span>,\n",
       " <span class=\"rest-row-name-text\">Accusamus Road</span>,\n",
       " <span class=\"rest-row-name-text\">Nolas</span>,\n",
       " <span class=\"rest-row-name-text\">Brisa Lang</span>,\n",
       " <span class=\"rest-row-name-text\">Torphy</span>,\n",
       " <span class=\"rest-row-name-text\">Est Oberbrunner</span>]"
      ]
     },
     "execution_count": 5,
     "metadata": {},
     "output_type": "execute_result"
    }
   ],
   "source": [
    "# print the restaurant names\n",
    "soup.find_all(name='span', attrs={'class':'rest-row-name-text'})"
   ]
  },
  {
   "cell_type": "markdown",
   "metadata": {},
   "source": [
    "It is important to always keep in mind the data types that were returned. Note this is a `list`, and we know that immediately by observing the outer square brackets and commas separating each tag.\n",
    "\n",
    "Next, note the elements of the list are `Tag` objects, not strings. (If they were strings, they would be surrounded by quotes.) The Beautiful Soup authors chose to display a `Tag` object visually as a text representation of the tag and its contents. However, being an object, it has many methods that we can call on it. For example, next we will use the `encode_contents()` method to return the tag's contents encoded as a Python string.\n",
    "\n",
    "<a id=\"retrieving-names\"></a>\n",
    "#### Retrieving the restaurant names\n",
    "\n",
    "Now that we found a list of tags containing the restaurant names, let's think how we can loop through them all one-by-one. In the following cell, we'll print out the name (and **only** the clean name, not the rest of the html) of each restaurant."
   ]
  },
  {
   "cell_type": "code",
   "execution_count": 6,
   "metadata": {
    "scrolled": true
   },
   "outputs": [
    {
     "name": "stdout",
     "output_type": "stream",
     "text": [
      "407 Kovacek\n",
      "253 Kozey\n",
      "Radial\n",
      "Kovacek\n",
      "Center\n",
      "O'Kon\n",
      "Kyras\n",
      "Christiansen\n",
      "Rerum\n",
      "Gislason\n",
      "Tempora\n",
      "Becker Springs\n",
      "Gerlach Villages\n",
      "Agloe Bar & Grill\n",
      "Minus Lodge\n",
      "Stones\n",
      "Rogahn Ferry\n",
      "992 Beatty\n",
      "Harbors\n",
      "Isle\n",
      "Arnold Jakubowski\n",
      "Non Light\n",
      "Roberts Island\n",
      "Doyle\n",
      "Tenetur Rosenbaum\n",
      "Paucek Bridge\n",
      "Neque\n",
      "Omnis Brook\n",
      "Brianne Homenick\n",
      "Franzs\n",
      "King\n",
      "Delectus\n",
      "Gislason\n",
      "Lindseys\n",
      "Non\n",
      "Ex Stravenue\n",
      "1155 Treutel\n",
      "Modi Shoal\n",
      "Clemens Feil\n",
      "Dejah Dam\n",
      "668 Cassin\n",
      "824 Purdy\n",
      "Cliffs\n",
      "Dicta Court\n",
      "Hyatt\n",
      "Eddie Hills\n",
      "Estas\n",
      "Laborum Tremblay\n",
      "Alysha Ports\n",
      "Voluptates Considine\n",
      "Qui\n",
      "Coves\n",
      "Qui Ford\n",
      "Quia Rue\n",
      "Sunt Mills\n",
      "Accusantium Hyatt\n",
      "670 Murray\n",
      "Junction\n",
      "Ondricka Forks\n",
      "Rapids\n",
      "Harris\n",
      "Jaskolski Springs\n",
      "Jimmie Station\n",
      "Verlas\n",
      "Spur\n",
      "1013 Metz\n",
      "636 Considine\n",
      "Repellat View\n",
      "Aut\n",
      "Trafficway\n",
      "Harvey\n",
      "Shanahan Course\n",
      "Uniques\n",
      "Rileys\n",
      "Voluptate Spinka\n",
      "Gerlach\n",
      "Rice\n",
      "653 Greenfelder\n",
      "861 Bernhard\n",
      "Velit Neck\n",
      "Sunt\n",
      "Schaefer Key\n",
      "Heidenreich\n",
      "Glorias\n",
      "622 Dibbert\n",
      "Architecto Schiller\n",
      "Johnston\n",
      "Schowalter Hollow\n",
      "Thads\n",
      "Estates\n",
      "Harum Parkways\n",
      "Aut\n",
      "Fay Wuckert\n",
      "Qui\n",
      "Kutch\n",
      "Accusamus Road\n",
      "Nolas\n",
      "Brisa Lang\n",
      "Torphy\n",
      "Est Oberbrunner\n"
     ]
    }
   ],
   "source": [
    "# for each element you find, print out the restaurant name\n",
    "for entry in soup.find_all(name='span', attrs={'class':'rest-row-name-text'}):\n",
    "    print(entry.text)"
   ]
  },
  {
   "cell_type": "markdown",
   "metadata": {},
   "source": [
    "Great!\n",
    "\n",
    "<a id=\"retrieving-locations\"></a>\n",
    "#### Challenge: Retrieving the restaurant locations\n",
    "\n",
    "Can you repeat that process for finding the location? For example, barmini by Jose Andres is in the location listed as \"Penn Quarter\" in our search results."
   ]
  },
  {
   "cell_type": "code",
   "execution_count": 7,
   "metadata": {},
   "outputs": [],
   "source": [
    "# first, see if you can identify the location for all elements -- print it out"
   ]
  },
  {
   "cell_type": "code",
   "execution_count": 8,
   "metadata": {},
   "outputs": [],
   "source": [
    "# now print out EACH location for the restaurants"
   ]
  },
  {
   "cell_type": "markdown",
   "metadata": {},
   "source": [
    "<a id=\"retrieving-prices\"></a>\n",
    "#### Retrieving the restaurant prices"
   ]
  },
  {
   "cell_type": "markdown",
   "metadata": {},
   "source": [
    "Ok, we've figured out the restaurant name and location. Now we need to grab the price (number of dollar signs on a scale of one to four) for each restaurant. We'll follow the same process."
   ]
  },
  {
   "cell_type": "code",
   "execution_count": 9,
   "metadata": {
    "scrolled": true
   },
   "outputs": [
    {
     "data": {
      "text/plain": [
       "[<div class=\"rest-row-pricing\"> <i class=\"pricing--the-price\">  $    $    $    $  </i> <span class=\"pricing--not-the-price\"> </span></div>,\n",
       " <div class=\"rest-row-pricing\"> <i class=\"pricing--the-price\">  $    $    $    </i> <span class=\"pricing--not-the-price\">  $        </span></div>,\n",
       " <div class=\"rest-row-pricing\"> <i class=\"pricing--the-price\">  $    $      </i> <span class=\"pricing--not-the-price\">  $    $      </span></div>,\n",
       " <div class=\"rest-row-pricing\"> <i class=\"pricing--the-price\">  $    $      </i> <span class=\"pricing--not-the-price\">  $    $      </span></div>,\n",
       " <div class=\"rest-row-pricing\"> <i class=\"pricing--the-price\">  $    $    $    $  </i> <span class=\"pricing--not-the-price\"> </span></div>,\n",
       " <div class=\"rest-row-pricing\"> <i class=\"pricing--the-price\">  $    $    $    </i> <span class=\"pricing--not-the-price\">  $        </span></div>,\n",
       " <div class=\"rest-row-pricing\"> <i class=\"pricing--the-price\">  $    $    $    $  </i> <span class=\"pricing--not-the-price\"> </span></div>,\n",
       " <div class=\"rest-row-pricing\"> <i class=\"pricing--the-price\">  $    $      </i> <span class=\"pricing--not-the-price\">  $    $      </span></div>,\n",
       " <div class=\"rest-row-pricing\"> <i class=\"pricing--the-price\">  $    $    $    $  </i> <span class=\"pricing--not-the-price\"> </span></div>,\n",
       " <div class=\"rest-row-pricing\"> <i class=\"pricing--the-price\">  $    $      </i> <span class=\"pricing--not-the-price\">  $    $      </span></div>,\n",
       " <div class=\"rest-row-pricing\"> <i class=\"pricing--the-price\">  $    $    $    $  </i> <span class=\"pricing--not-the-price\"> </span></div>,\n",
       " <div class=\"rest-row-pricing\"> <i class=\"pricing--the-price\">  $    $    $    $  </i> <span class=\"pricing--not-the-price\"> </span></div>,\n",
       " <div class=\"rest-row-pricing\"> <i class=\"pricing--the-price\">  $    $    $    $  </i> <span class=\"pricing--not-the-price\"> </span></div>,\n",
       " <div class=\"rest-row-pricing\"> <i class=\"pricing--the-price\">  $    $      </i> <span class=\"pricing--not-the-price\">  $    $      </span></div>,\n",
       " <div class=\"rest-row-pricing\"> <i class=\"pricing--the-price\">  $    $    $    $  </i> <span class=\"pricing--not-the-price\"> </span></div>,\n",
       " <div class=\"rest-row-pricing\"> <i class=\"pricing--the-price\">  $    $      </i> <span class=\"pricing--not-the-price\">  $    $      </span></div>,\n",
       " <div class=\"rest-row-pricing\"> <i class=\"pricing--the-price\">  $    $    $    </i> <span class=\"pricing--not-the-price\">  $        </span></div>,\n",
       " <div class=\"rest-row-pricing\"> <i class=\"pricing--the-price\">  $    $    $    $  </i> <span class=\"pricing--not-the-price\"> </span></div>,\n",
       " <div class=\"rest-row-pricing\"> <i class=\"pricing--the-price\">  $    $      </i> <span class=\"pricing--not-the-price\">  $    $      </span></div>,\n",
       " <div class=\"rest-row-pricing\"> <i class=\"pricing--the-price\">  $    $    $    </i> <span class=\"pricing--not-the-price\">  $        </span></div>,\n",
       " <div class=\"rest-row-pricing\"> <i class=\"pricing--the-price\">  $    $    $    </i> <span class=\"pricing--not-the-price\">  $        </span></div>,\n",
       " <div class=\"rest-row-pricing\"> <i class=\"pricing--the-price\">  $    $    $    </i> <span class=\"pricing--not-the-price\">  $        </span></div>,\n",
       " <div class=\"rest-row-pricing\"> <i class=\"pricing--the-price\">  $    $      </i> <span class=\"pricing--not-the-price\">  $    $      </span></div>,\n",
       " <div class=\"rest-row-pricing\"> <i class=\"pricing--the-price\">  $    $    $    $  </i> <span class=\"pricing--not-the-price\"> </span></div>,\n",
       " <div class=\"rest-row-pricing\"> <i class=\"pricing--the-price\">  $    $    $    $  </i> <span class=\"pricing--not-the-price\"> </span></div>,\n",
       " <div class=\"rest-row-pricing\"> <i class=\"pricing--the-price\">  $    $    $    </i> <span class=\"pricing--not-the-price\">  $        </span></div>,\n",
       " <div class=\"rest-row-pricing\"> <i class=\"pricing--the-price\">  $    $      </i> <span class=\"pricing--not-the-price\">  $    $      </span></div>,\n",
       " <div class=\"rest-row-pricing\"> <i class=\"pricing--the-price\">  $    $      </i> <span class=\"pricing--not-the-price\">  $    $      </span></div>,\n",
       " <div class=\"rest-row-pricing\"> <i class=\"pricing--the-price\">  $    $      </i> <span class=\"pricing--not-the-price\">  $    $      </span></div>,\n",
       " <div class=\"rest-row-pricing\"> <i class=\"pricing--the-price\">  $    $    $    </i> <span class=\"pricing--not-the-price\">  $        </span></div>,\n",
       " <div class=\"rest-row-pricing\"> <i class=\"pricing--the-price\">  $    $    $    </i> <span class=\"pricing--not-the-price\">  $        </span></div>,\n",
       " <div class=\"rest-row-pricing\"> <i class=\"pricing--the-price\">  $    $    $    $  </i> <span class=\"pricing--not-the-price\"> </span></div>,\n",
       " <div class=\"rest-row-pricing\"> <i class=\"pricing--the-price\">  $    $    $    </i> <span class=\"pricing--not-the-price\">  $        </span></div>,\n",
       " <div class=\"rest-row-pricing\"> <i class=\"pricing--the-price\">  $    $      </i> <span class=\"pricing--not-the-price\">  $    $      </span></div>,\n",
       " <div class=\"rest-row-pricing\"> <i class=\"pricing--the-price\">  $    $    $    $  </i> <span class=\"pricing--not-the-price\"> </span></div>,\n",
       " <div class=\"rest-row-pricing\"> <i class=\"pricing--the-price\">  $    $    $    </i> <span class=\"pricing--not-the-price\">  $        </span></div>,\n",
       " <div class=\"rest-row-pricing\"> <i class=\"pricing--the-price\">  $    $    $    </i> <span class=\"pricing--not-the-price\">  $        </span></div>,\n",
       " <div class=\"rest-row-pricing\"> <i class=\"pricing--the-price\">  $    $      </i> <span class=\"pricing--not-the-price\">  $    $      </span></div>,\n",
       " <div class=\"rest-row-pricing\"> <i class=\"pricing--the-price\">  $    $      </i> <span class=\"pricing--not-the-price\">  $    $      </span></div>,\n",
       " <div class=\"rest-row-pricing\"> <i class=\"pricing--the-price\">  $    $      </i> <span class=\"pricing--not-the-price\">  $    $      </span></div>,\n",
       " <div class=\"rest-row-pricing\"> <i class=\"pricing--the-price\">  $    $      </i> <span class=\"pricing--not-the-price\">  $    $      </span></div>,\n",
       " <div class=\"rest-row-pricing\"> <i class=\"pricing--the-price\">  $    $    $    </i> <span class=\"pricing--not-the-price\">  $        </span></div>,\n",
       " <div class=\"rest-row-pricing\"> <i class=\"pricing--the-price\">  $    $      </i> <span class=\"pricing--not-the-price\">  $    $      </span></div>,\n",
       " <div class=\"rest-row-pricing\"> <i class=\"pricing--the-price\">  $    $    $    $  </i> <span class=\"pricing--not-the-price\"> </span></div>,\n",
       " <div class=\"rest-row-pricing\"> <i class=\"pricing--the-price\">  $    $      </i> <span class=\"pricing--not-the-price\">  $    $      </span></div>,\n",
       " <div class=\"rest-row-pricing\"> <i class=\"pricing--the-price\">  $    $    $    </i> <span class=\"pricing--not-the-price\">  $        </span></div>,\n",
       " <div class=\"rest-row-pricing\"> <i class=\"pricing--the-price\">  $    $      </i> <span class=\"pricing--not-the-price\">  $    $      </span></div>,\n",
       " <div class=\"rest-row-pricing\"> <i class=\"pricing--the-price\">  $    $    $    $  </i> <span class=\"pricing--not-the-price\"> </span></div>,\n",
       " <div class=\"rest-row-pricing\"> <i class=\"pricing--the-price\">  $    $    $    </i> <span class=\"pricing--not-the-price\">  $        </span></div>,\n",
       " <div class=\"rest-row-pricing\"> <i class=\"pricing--the-price\">  $    $    $    </i> <span class=\"pricing--not-the-price\">  $        </span></div>,\n",
       " <div class=\"rest-row-pricing\"> <i class=\"pricing--the-price\">  $    $    $    $  </i> <span class=\"pricing--not-the-price\"> </span></div>,\n",
       " <div class=\"rest-row-pricing\"> <i class=\"pricing--the-price\">  $    $      </i> <span class=\"pricing--not-the-price\">  $    $      </span></div>,\n",
       " <div class=\"rest-row-pricing\"> <i class=\"pricing--the-price\">  $    $      </i> <span class=\"pricing--not-the-price\">  $    $      </span></div>,\n",
       " <div class=\"rest-row-pricing\"> <i class=\"pricing--the-price\">  $    $    $    $  </i> <span class=\"pricing--not-the-price\"> </span></div>,\n",
       " <div class=\"rest-row-pricing\"> <i class=\"pricing--the-price\">  $    $      </i> <span class=\"pricing--not-the-price\">  $    $      </span></div>,\n",
       " <div class=\"rest-row-pricing\"> <i class=\"pricing--the-price\">  $    $    $    $  </i> <span class=\"pricing--not-the-price\"> </span></div>,\n",
       " <div class=\"rest-row-pricing\"> <i class=\"pricing--the-price\">  $    $    $    $  </i> <span class=\"pricing--not-the-price\"> </span></div>,\n",
       " <div class=\"rest-row-pricing\"> <i class=\"pricing--the-price\">  $    $    $    </i> <span class=\"pricing--not-the-price\">  $        </span></div>,\n",
       " <div class=\"rest-row-pricing\"> <i class=\"pricing--the-price\">  $    $    $    $  </i> <span class=\"pricing--not-the-price\"> </span></div>,\n",
       " <div class=\"rest-row-pricing\"> <i class=\"pricing--the-price\">  $    $    $    $  </i> <span class=\"pricing--not-the-price\"> </span></div>,\n",
       " <div class=\"rest-row-pricing\"> <i class=\"pricing--the-price\">  $    $      </i> <span class=\"pricing--not-the-price\">  $    $      </span></div>,\n",
       " <div class=\"rest-row-pricing\"> <i class=\"pricing--the-price\">  $    $    $    $  </i> <span class=\"pricing--not-the-price\"> </span></div>,\n",
       " <div class=\"rest-row-pricing\"> <i class=\"pricing--the-price\">  $    $      </i> <span class=\"pricing--not-the-price\">  $    $      </span></div>,\n",
       " <div class=\"rest-row-pricing\"> <i class=\"pricing--the-price\">  $    $      </i> <span class=\"pricing--not-the-price\">  $    $      </span></div>,\n",
       " <div class=\"rest-row-pricing\"> <i class=\"pricing--the-price\">  $    $      </i> <span class=\"pricing--not-the-price\">  $    $      </span></div>,\n",
       " <div class=\"rest-row-pricing\"> <i class=\"pricing--the-price\">  $    $    $    </i> <span class=\"pricing--not-the-price\">  $        </span></div>,\n",
       " <div class=\"rest-row-pricing\"> <i class=\"pricing--the-price\">  $    $      </i> <span class=\"pricing--not-the-price\">  $    $      </span></div>,\n",
       " <div class=\"rest-row-pricing\"> <i class=\"pricing--the-price\">  $    $    $    </i> <span class=\"pricing--not-the-price\">  $        </span></div>,\n",
       " <div class=\"rest-row-pricing\"> <i class=\"pricing--the-price\">  $    $      </i> <span class=\"pricing--not-the-price\">  $    $      </span></div>,\n",
       " <div class=\"rest-row-pricing\"> <i class=\"pricing--the-price\">  $    $      </i> <span class=\"pricing--not-the-price\">  $    $      </span></div>,\n",
       " <div class=\"rest-row-pricing\"> <i class=\"pricing--the-price\">  $    $      </i> <span class=\"pricing--not-the-price\">  $    $      </span></div>,\n",
       " <div class=\"rest-row-pricing\"> <i class=\"pricing--the-price\">  $    $      </i> <span class=\"pricing--not-the-price\">  $    $      </span></div>,\n",
       " <div class=\"rest-row-pricing\"> <i class=\"pricing--the-price\">  $    $    $    </i> <span class=\"pricing--not-the-price\">  $        </span></div>,\n",
       " <div class=\"rest-row-pricing\"> <i class=\"pricing--the-price\">  $    $      </i> <span class=\"pricing--not-the-price\">  $    $      </span></div>,\n",
       " <div class=\"rest-row-pricing\"> <i class=\"pricing--the-price\">  $    $    $    </i> <span class=\"pricing--not-the-price\">  $        </span></div>,\n",
       " <div class=\"rest-row-pricing\"> <i class=\"pricing--the-price\">  $    $    $    $  </i> <span class=\"pricing--not-the-price\"> </span></div>,\n",
       " <div class=\"rest-row-pricing\"> <i class=\"pricing--the-price\">  $    $      </i> <span class=\"pricing--not-the-price\">  $    $      </span></div>,\n",
       " <div class=\"rest-row-pricing\"> <i class=\"pricing--the-price\">  $    $      </i> <span class=\"pricing--not-the-price\">  $    $      </span></div>,\n",
       " <div class=\"rest-row-pricing\"> <i class=\"pricing--the-price\">  $    $    $    </i> <span class=\"pricing--not-the-price\">  $        </span></div>,\n",
       " <div class=\"rest-row-pricing\"> <i class=\"pricing--the-price\">  $    $    $    $  </i> <span class=\"pricing--not-the-price\"> </span></div>,\n",
       " <div class=\"rest-row-pricing\"> <i class=\"pricing--the-price\">  $    $      </i> <span class=\"pricing--not-the-price\">  $    $      </span></div>,\n",
       " <div class=\"rest-row-pricing\"> <i class=\"pricing--the-price\">  $    $    $    </i> <span class=\"pricing--not-the-price\">  $        </span></div>,\n",
       " <div class=\"rest-row-pricing\"> <i class=\"pricing--the-price\">  $    $      </i> <span class=\"pricing--not-the-price\">  $    $      </span></div>,\n",
       " <div class=\"rest-row-pricing\"> <i class=\"pricing--the-price\">  $    $    $    </i> <span class=\"pricing--not-the-price\">  $        </span></div>,\n",
       " <div class=\"rest-row-pricing\"> <i class=\"pricing--the-price\">  $    $    $    </i> <span class=\"pricing--not-the-price\">  $        </span></div>,\n",
       " <div class=\"rest-row-pricing\"> <i class=\"pricing--the-price\">  $    $      </i> <span class=\"pricing--not-the-price\">  $    $      </span></div>,\n",
       " <div class=\"rest-row-pricing\"> <i class=\"pricing--the-price\">  $    $      </i> <span class=\"pricing--not-the-price\">  $    $      </span></div>,\n",
       " <div class=\"rest-row-pricing\"> <i class=\"pricing--the-price\">  $    $    $    $  </i> <span class=\"pricing--not-the-price\"> </span></div>,\n",
       " <div class=\"rest-row-pricing\"> <i class=\"pricing--the-price\">  $    $      </i> <span class=\"pricing--not-the-price\">  $    $      </span></div>,\n",
       " <div class=\"rest-row-pricing\"> <i class=\"pricing--the-price\">  $    $      </i> <span class=\"pricing--not-the-price\">  $    $      </span></div>,\n",
       " <div class=\"rest-row-pricing\"> <i class=\"pricing--the-price\">  $    $    $    $  </i> <span class=\"pricing--not-the-price\"> </span></div>,\n",
       " <div class=\"rest-row-pricing\"> <i class=\"pricing--the-price\">  $    $    $    </i> <span class=\"pricing--not-the-price\">  $        </span></div>,\n",
       " <div class=\"rest-row-pricing\"> <i class=\"pricing--the-price\">  $    $    $    </i> <span class=\"pricing--not-the-price\">  $        </span></div>,\n",
       " <div class=\"rest-row-pricing\"> <i class=\"pricing--the-price\">  $    $      </i> <span class=\"pricing--not-the-price\">  $    $      </span></div>,\n",
       " <div class=\"rest-row-pricing\"> <i class=\"pricing--the-price\">  $    $    $    $  </i> <span class=\"pricing--not-the-price\"> </span></div>,\n",
       " <div class=\"rest-row-pricing\"> <i class=\"pricing--the-price\">  $    $    $    $  </i> <span class=\"pricing--not-the-price\"> </span></div>,\n",
       " <div class=\"rest-row-pricing\"> <i class=\"pricing--the-price\">  $    $    $    </i> <span class=\"pricing--not-the-price\">  $        </span></div>,\n",
       " <div class=\"rest-row-pricing\"> <i class=\"pricing--the-price\">  $    $    $    $  </i> <span class=\"pricing--not-the-price\"> </span></div>,\n",
       " <div class=\"rest-row-pricing\"> <i class=\"pricing--the-price\">  $    $      </i> <span class=\"pricing--not-the-price\">  $    $      </span></div>,\n",
       " <div class=\"rest-row-pricing\"> <i class=\"pricing--the-price\">  $    $    $    $  </i> <span class=\"pricing--not-the-price\"> </span></div>]"
      ]
     },
     "execution_count": 9,
     "metadata": {},
     "output_type": "execute_result"
    }
   ],
   "source": [
    "# print out all prices\n",
    "soup.find_all('div', {'class':'rest-row-pricing'})"
   ]
  },
  {
   "cell_type": "code",
   "execution_count": 10,
   "metadata": {},
   "outputs": [
    {
     "name": "stdout",
     "output_type": "stream",
     "text": [
      "  $    $    $    $  \n",
      "  $    $    $    \n",
      "  $    $      \n",
      "  $    $      \n",
      "  $    $    $    $  \n",
      "  $    $    $    \n",
      "  $    $    $    $  \n",
      "  $    $      \n",
      "  $    $    $    $  \n",
      "  $    $      \n",
      "  $    $    $    $  \n",
      "  $    $    $    $  \n",
      "  $    $    $    $  \n",
      "  $    $      \n",
      "  $    $    $    $  \n",
      "  $    $      \n",
      "  $    $    $    \n",
      "  $    $    $    $  \n",
      "  $    $      \n",
      "  $    $    $    \n",
      "  $    $    $    \n",
      "  $    $    $    \n",
      "  $    $      \n",
      "  $    $    $    $  \n",
      "  $    $    $    $  \n",
      "  $    $    $    \n",
      "  $    $      \n",
      "  $    $      \n",
      "  $    $      \n",
      "  $    $    $    \n",
      "  $    $    $    \n",
      "  $    $    $    $  \n",
      "  $    $    $    \n",
      "  $    $      \n",
      "  $    $    $    $  \n",
      "  $    $    $    \n",
      "  $    $    $    \n",
      "  $    $      \n",
      "  $    $      \n",
      "  $    $      \n",
      "  $    $      \n",
      "  $    $    $    \n",
      "  $    $      \n",
      "  $    $    $    $  \n",
      "  $    $      \n",
      "  $    $    $    \n",
      "  $    $      \n",
      "  $    $    $    $  \n",
      "  $    $    $    \n",
      "  $    $    $    \n",
      "  $    $    $    $  \n",
      "  $    $      \n",
      "  $    $      \n",
      "  $    $    $    $  \n",
      "  $    $      \n",
      "  $    $    $    $  \n",
      "  $    $    $    $  \n",
      "  $    $    $    \n",
      "  $    $    $    $  \n",
      "  $    $    $    $  \n",
      "  $    $      \n",
      "  $    $    $    $  \n",
      "  $    $      \n",
      "  $    $      \n",
      "  $    $      \n",
      "  $    $    $    \n",
      "  $    $      \n",
      "  $    $    $    \n",
      "  $    $      \n",
      "  $    $      \n",
      "  $    $      \n",
      "  $    $      \n",
      "  $    $    $    \n",
      "  $    $      \n",
      "  $    $    $    \n",
      "  $    $    $    $  \n",
      "  $    $      \n",
      "  $    $      \n",
      "  $    $    $    \n",
      "  $    $    $    $  \n",
      "  $    $      \n",
      "  $    $    $    \n",
      "  $    $      \n",
      "  $    $    $    \n",
      "  $    $    $    \n",
      "  $    $      \n",
      "  $    $      \n",
      "  $    $    $    $  \n",
      "  $    $      \n",
      "  $    $      \n",
      "  $    $    $    $  \n",
      "  $    $    $    \n",
      "  $    $    $    \n",
      "  $    $      \n",
      "  $    $    $    $  \n",
      "  $    $    $    $  \n",
      "  $    $    $    \n",
      "  $    $    $    $  \n",
      "  $    $      \n",
      "  $    $    $    $  \n"
     ]
    }
   ],
   "source": [
    "# print out EACH number of dollar signs per restaurant\n",
    "# this one is trickier to eliminate the html. Hint: try a nested find\n",
    "for entry in soup.find_all('div', {'class':'rest-row-pricing'}):\n",
    "    print(entry.find('i').text)"
   ]
  },
  {
   "cell_type": "markdown",
   "metadata": {},
   "source": [
    "That looks great, but what if I wanted just the number of dollar signs per restaurant? Can you figure out a way to simply print out the number of dollar signs per restaurant listed?"
   ]
  },
  {
   "cell_type": "code",
   "execution_count": 11,
   "metadata": {},
   "outputs": [],
   "source": [
    "# print the number of dollars signs per restaurant"
   ]
  },
  {
   "cell_type": "markdown",
   "metadata": {},
   "source": [
    "Phew, nice work. \n",
    "\n",
    "<a id=\"retrieving-bookings\"></a>\n",
    "#### Retrieving the restaurant number of bookings\n",
    "\n",
    "One more, right? We only need to find the number times a restaurant was booked. In the next cell, print out all objects that contain the number of times the restaurant was booked."
   ]
  },
  {
   "cell_type": "code",
   "execution_count": 12,
   "metadata": {},
   "outputs": [
    {
     "data": {
      "text/plain": [
       "[]"
      ]
     },
     "execution_count": 12,
     "metadata": {},
     "output_type": "execute_result"
    }
   ],
   "source": [
    "# print out all objects that contain the number of times the restaurant was booked\n",
    "soup.find_all('div', {'class':'booking'})"
   ]
  },
  {
   "cell_type": "markdown",
   "metadata": {},
   "source": [
    "That's weird -- an empty set. Did we find the wrong element? What's going on here? Discuss.\n",
    "\n",
    "How can we debug this? Any ideas?"
   ]
  },
  {
   "cell_type": "code",
   "execution_count": 13,
   "metadata": {},
   "outputs": [],
   "source": [
    "# let's first try printing out all 'div' objects\n",
    "#  NOTE: This is a too many objects to store in this notebook!\n",
    "#        So, uncomment the code below to run it.\n",
    "\n",
    "# for entry in soup.find_all('div'):\n",
    "#     print(entry)"
   ]
  },
  {
   "cell_type": "markdown",
   "metadata": {},
   "source": [
    "I still don't see it. Let's search our entire soup object:"
   ]
  },
  {
   "cell_type": "code",
   "execution_count": 14,
   "metadata": {},
   "outputs": [],
   "source": [
    "# print out soup, do command+f for \"booked \". \n",
    "#   Uncomment the below to run.\n",
    "\n",
    "# soup"
   ]
  },
  {
   "cell_type": "markdown",
   "metadata": {},
   "source": [
    "What do you notice? Why is this happening?"
   ]
  },
  {
   "cell_type": "markdown",
   "metadata": {},
   "source": [
    "<a id=\"selenium\"></a>\n",
    "## Introducing Selenium\n",
    "\n",
    "Selenium is a headless browser. It allows us to render JavaScript just as a human-navigated browser would.\n",
    "\n",
    "To install Selenium, use one of the following:\n",
    "- **Anaconda:** `conda install -c conda-forge selenium`\n",
    "- **pip:** `pip install selenium`\n",
    "\n",
    "You will also need GeckoDriver (this assumes you are using Homebrew for Mac): \n",
    "\n",
    "- ```brew install geckodriver```\n",
    "\n",
    "Additionally, you will need to have downloaded the [Firefox browser](https://www.mozilla.org/en-US/firefox/new/?utm_source=google&utm_medium=cpc&utm_campaign=Firefox-Brand-US-GGL-Exact&utm_term=firefox&utm_content=A144_A203_A006336&gclid=Cj0KEQjwnPLKBRC-j7nt1b7OlZwBEiQAv8lMLJUyReT6cPzSYdmEA6uD3YDoieuuuusddgAU7XH6smEaAoje8P8HAQ&gclsrc=aw.ds) for the application in this lesson."
   ]
  },
  {
   "cell_type": "code",
   "execution_count": 15,
   "metadata": {},
   "outputs": [],
   "source": [
    "# import\n",
    "from selenium import webdriver"
   ]
  },
  {
   "cell_type": "markdown",
   "metadata": {},
   "source": [
    "Selenium requires us to determine a default browser to run. I'm going to opt for Firefox, but Chromium is also a very common choice. http://selenium-python.readthedocs.io/faq.html"
   ]
  },
  {
   "cell_type": "code",
   "execution_count": 16,
   "metadata": {},
   "outputs": [],
   "source": [
    "# STOP\n",
    "# what is going to happen when I run the next cell?"
   ]
  },
  {
   "cell_type": "code",
   "execution_count": 17,
   "metadata": {},
   "outputs": [],
   "source": [
    "# create a Firefox driver called driver \n",
    "driver = webdriver.Firefox()"
   ]
  },
  {
   "cell_type": "markdown",
   "metadata": {},
   "source": [
    "Pretty crazy, right? Let's close that driver."
   ]
  },
  {
   "cell_type": "code",
   "execution_count": 18,
   "metadata": {},
   "outputs": [],
   "source": [
    "# close it\n",
    "driver.close()"
   ]
  },
  {
   "cell_type": "code",
   "execution_count": 19,
   "metadata": {},
   "outputs": [],
   "source": [
    "# let's boot it up, and visit a URL of our choice\n",
    "driver = webdriver.Firefox()\n",
    "driver.get(\"http://www.python.org\")"
   ]
  },
  {
   "cell_type": "markdown",
   "metadata": {},
   "source": [
    "Awesome. Now we're getting somewhere: programmatically controlling our browser like a human."
   ]
  },
  {
   "cell_type": "markdown",
   "metadata": {},
   "source": [
    "Let's return to our problem at hand. We need to visit the OpenTable listing for DC. Once there, we need to get the html to load. In the next cell, prove you can programmatically visit the page."
   ]
  },
  {
   "cell_type": "code",
   "execution_count": 20,
   "metadata": {},
   "outputs": [],
   "source": [
    "# visit our OpenTable page\n",
    "driver = webdriver.Firefox()\n",
    "driver.get(\"http://www.opentable.com/washington-dc-restaurant-listings\")\n",
    "\n",
    "# always good to check we've got the page we think we do\n",
    "assert \"OpenTable\" in driver.title"
   ]
  },
  {
   "cell_type": "code",
   "execution_count": 21,
   "metadata": {},
   "outputs": [
    {
     "data": {
      "text/plain": [
       "'Washington, D.C. Area Restaurants List | OpenTable'"
      ]
     },
     "execution_count": 21,
     "metadata": {},
     "output_type": "execute_result"
    }
   ],
   "source": [
    "driver.title"
   ]
  },
  {
   "cell_type": "code",
   "execution_count": 22,
   "metadata": {},
   "outputs": [],
   "source": [
    "driver.close()"
   ]
  },
  {
   "cell_type": "markdown",
   "metadata": {},
   "source": [
    "<a id=\"selenium-js\"></a>\n",
    "### Running JavaScript before scraping\n",
    "\n",
    "Now, to resolve our JavaScript problem, there's a few things we can do. What I'll do in this case is request that the page load, wait one second, and then I'm going to grab the source html from the page. Because the page should believe I'm visiting from a live connection on a browser client, the JavaScript should render to be a part of the page source. I can then grab the page source."
   ]
  },
  {
   "cell_type": "code",
   "execution_count": 23,
   "metadata": {},
   "outputs": [],
   "source": [
    "# import sleep\n",
    "from time import sleep"
   ]
  },
  {
   "cell_type": "code",
   "execution_count": 24,
   "metadata": {},
   "outputs": [],
   "source": [
    "# visit our relevant page\n",
    "driver = webdriver.Firefox()\n",
    "driver.get(\"http://www.opentable.com/washington-dc-restaurant-listings\")\n",
    "\n",
    "# wait one second\n",
    "sleep(1)\n",
    "\n",
    "#grab the page source\n",
    "html = driver.page_source"
   ]
  },
  {
   "cell_type": "markdown",
   "metadata": {},
   "source": [
    "**Pop Quiz:** What do we need to do with this HTML?"
   ]
  },
  {
   "cell_type": "code",
   "execution_count": 25,
   "metadata": {},
   "outputs": [],
   "source": [
    "# BeautifulSoup it!\n",
    "html = BeautifulSoup(html, \"lxml\")"
   ]
  },
  {
   "cell_type": "markdown",
   "metadata": {},
   "source": [
    "Now, let's return to our earlier problem: How do we locate bookings on the page?"
   ]
  },
  {
   "cell_type": "code",
   "execution_count": 26,
   "metadata": {},
   "outputs": [
    {
     "data": {
      "text/plain": [
       "[<div class=\"booking\"><span class=\"tadpole\"></span>Booked 1 times today</div>,\n",
       " <div class=\"booking\"><span class=\"tadpole\"></span>Booked 407 times today</div>,\n",
       " <div class=\"booking\"><span class=\"tadpole\"></span>Booked 190 times today</div>,\n",
       " <div class=\"booking\"><span class=\"tadpole\"></span>Booked 136 times today</div>,\n",
       " <div class=\"booking\"><span class=\"tadpole\"></span>Booked 53 times today</div>,\n",
       " <div class=\"booking\"><span class=\"tadpole\"></span>Booked 156 times today</div>,\n",
       " <div class=\"booking\"><span class=\"tadpole\"></span>Booked 90 times today</div>,\n",
       " <div class=\"booking\"><span class=\"tadpole\"></span>Booked 51 times today</div>,\n",
       " <div class=\"booking\"><span class=\"tadpole\"></span>Booked 50 times today</div>,\n",
       " <div class=\"booking\"><span class=\"tadpole\"></span>Booked 40 times today</div>,\n",
       " <div class=\"booking\"><span class=\"tadpole\"></span>Booked 27 times today</div>,\n",
       " <div class=\"booking\"><span class=\"tadpole\"></span>Booked 71 times today</div>,\n",
       " <div class=\"booking\"><span class=\"tadpole\"></span>Booked 25 times today</div>,\n",
       " <div class=\"booking\"><span class=\"tadpole\"></span>Booked 57 times today</div>,\n",
       " <div class=\"booking\"><span class=\"tadpole\"></span>Booked 34 times today</div>,\n",
       " <div class=\"booking\"><span class=\"tadpole\"></span>Booked 15 times today</div>,\n",
       " <div class=\"booking\"><span class=\"tadpole\"></span>Booked 35 times today</div>,\n",
       " <div class=\"booking\"><span class=\"tadpole\"></span>Booked 31 times today</div>,\n",
       " <div class=\"booking\"><span class=\"tadpole\"></span>Booked 36 times today</div>,\n",
       " <div class=\"booking\"><span class=\"tadpole\"></span>Booked 77 times today</div>,\n",
       " <div class=\"booking\"><span class=\"tadpole\"></span>Booked 43 times today</div>,\n",
       " <div class=\"booking\"><span class=\"tadpole\"></span>Booked 28 times today</div>,\n",
       " <div class=\"booking\"><span class=\"tadpole\"></span>Booked 51 times today</div>,\n",
       " <div class=\"booking\"><span class=\"tadpole\"></span>Booked 59 times today</div>,\n",
       " <div class=\"booking\"><span class=\"tadpole\"></span>Booked 55 times today</div>,\n",
       " <div class=\"booking\"><span class=\"tadpole\"></span>Booked 14 times today</div>,\n",
       " <div class=\"booking\"><span class=\"tadpole\"></span>Booked 49 times today</div>,\n",
       " <div class=\"booking\"><span class=\"tadpole\"></span>Booked 11 times today</div>,\n",
       " <div class=\"booking\"><span class=\"tadpole\"></span>Booked 57 times today</div>,\n",
       " <div class=\"booking\"><span class=\"tadpole\"></span>Booked 70 times today</div>,\n",
       " <div class=\"booking\"><span class=\"tadpole\"></span>Booked 56 times today</div>,\n",
       " <div class=\"booking\"><span class=\"tadpole\"></span>Booked 40 times today</div>,\n",
       " <div class=\"booking\"><span class=\"tadpole\"></span>Booked 6 times today</div>,\n",
       " <div class=\"booking\"><span class=\"tadpole\"></span>Booked 7 times today</div>,\n",
       " <div class=\"booking\"><span class=\"tadpole\"></span>Booked 34 times today</div>,\n",
       " <div class=\"booking\"><span class=\"tadpole\"></span>Booked 22 times today</div>,\n",
       " <div class=\"booking\"><span class=\"tadpole\"></span>Booked 26 times today</div>,\n",
       " <div class=\"booking\"><span class=\"tadpole\"></span>Booked 36 times today</div>,\n",
       " <div class=\"booking\"><span class=\"tadpole\"></span>Booked 5 times today</div>,\n",
       " <div class=\"booking\"><span class=\"tadpole\"></span>Booked 31 times today</div>,\n",
       " <div class=\"booking\"><span class=\"tadpole\"></span>Booked 11 times today</div>,\n",
       " <div class=\"booking\"><span class=\"tadpole\"></span>Booked 46 times today</div>,\n",
       " <div class=\"booking\"><span class=\"tadpole\"></span>Booked 53 times today</div>,\n",
       " <div class=\"booking\"><span class=\"tadpole\"></span>Booked 21 times today</div>,\n",
       " <div class=\"booking\"><span class=\"tadpole\"></span>Booked 52 times today</div>,\n",
       " <div class=\"booking\"><span class=\"tadpole\"></span>Booked 48 times today</div>,\n",
       " <div class=\"booking\"><span class=\"tadpole\"></span>Booked 40 times today</div>,\n",
       " <div class=\"booking\"><span class=\"tadpole\"></span>Booked 20 times today</div>,\n",
       " <div class=\"booking\"><span class=\"tadpole\"></span>Booked 21 times today</div>,\n",
       " <div class=\"booking\"><span class=\"tadpole\"></span>Booked 10 times today</div>,\n",
       " <div class=\"booking\"><span class=\"tadpole\"></span>Booked 34 times today</div>,\n",
       " <div class=\"booking\"><span class=\"tadpole\"></span>Booked 8 times today</div>,\n",
       " <div class=\"booking\"><span class=\"tadpole\"></span>Booked 37 times today</div>,\n",
       " <div class=\"booking\"><span class=\"tadpole\"></span>Booked 13 times today</div>,\n",
       " <div class=\"booking\"><span class=\"tadpole\"></span>Booked 33 times today</div>,\n",
       " <div class=\"booking\"><span class=\"tadpole\"></span>Booked 5 times today</div>,\n",
       " <div class=\"booking\"><span class=\"tadpole\"></span>Booked 48 times today</div>,\n",
       " <div class=\"booking\"><span class=\"tadpole\"></span>Booked 45 times today</div>,\n",
       " <div class=\"booking\"><span class=\"tadpole\"></span>Booked 9 times today</div>,\n",
       " <div class=\"booking\"><span class=\"tadpole\"></span>Booked 12 times today</div>,\n",
       " <div class=\"booking\"><span class=\"tadpole\"></span>Booked 23 times today</div>,\n",
       " <div class=\"booking\"><span class=\"tadpole\"></span>Booked 24 times today</div>,\n",
       " <div class=\"booking\"><span class=\"tadpole\"></span>Booked 23 times today</div>,\n",
       " <div class=\"booking\"><span class=\"tadpole\"></span>Booked 13 times today</div>,\n",
       " <div class=\"booking\"><span class=\"tadpole\"></span>Booked 50 times today</div>,\n",
       " <div class=\"booking\"><span class=\"tadpole\"></span>Booked 22 times today</div>,\n",
       " <div class=\"booking\"><span class=\"tadpole\"></span>Booked 11 times today</div>,\n",
       " <div class=\"booking\"><span class=\"tadpole\"></span>Booked 27 times today</div>,\n",
       " <div class=\"booking\"><span class=\"tadpole\"></span>Booked 21 times today</div>,\n",
       " <div class=\"booking\"><span class=\"tadpole\"></span>Booked 22 times today</div>,\n",
       " <div class=\"booking\"><span class=\"tadpole\"></span>Booked 18 times today</div>,\n",
       " <div class=\"booking\"><span class=\"tadpole\"></span>Booked 24 times today</div>,\n",
       " <div class=\"booking\"><span class=\"tadpole\"></span>Booked 24 times today</div>,\n",
       " <div class=\"booking\"><span class=\"tadpole\"></span>Booked 32 times today</div>,\n",
       " <div class=\"booking\"><span class=\"tadpole\"></span>Booked 32 times today</div>,\n",
       " <div class=\"booking\"><span class=\"tadpole\"></span>Booked 11 times today</div>,\n",
       " <div class=\"booking\"><span class=\"tadpole\"></span>Booked 36 times today</div>,\n",
       " <div class=\"booking\"><span class=\"tadpole\"></span>Booked 5 times today</div>,\n",
       " <div class=\"booking\"><span class=\"tadpole\"></span>Booked 15 times today</div>,\n",
       " <div class=\"booking\"><span class=\"tadpole\"></span>Booked 27 times today</div>,\n",
       " <div class=\"booking\"><span class=\"tadpole\"></span>Booked 6 times today</div>,\n",
       " <div class=\"booking\"><span class=\"tadpole\"></span>Booked 4 times today</div>,\n",
       " <div class=\"booking\"><span class=\"tadpole\"></span>Booked 23 times today</div>,\n",
       " <div class=\"booking\"><span class=\"tadpole\"></span>Booked 17 times today</div>,\n",
       " <div class=\"booking\"><span class=\"tadpole\"></span>Booked 18 times today</div>]"
      ]
     },
     "execution_count": 26,
     "metadata": {},
     "output_type": "execute_result"
    }
   ],
   "source": [
    "# print out the number bookings for all restaurants\n",
    "html.find_all('div', {'class':'booking'})"
   ]
  },
  {
   "cell_type": "code",
   "execution_count": 27,
   "metadata": {
    "scrolled": true
   },
   "outputs": [
    {
     "name": "stdout",
     "output_type": "stream",
     "text": [
      "<div class=\"booking\"><span class=\"tadpole\"></span>Booked 1 times today</div>\n",
      "<div class=\"booking\"><span class=\"tadpole\"></span>Booked 407 times today</div>\n",
      "<div class=\"booking\"><span class=\"tadpole\"></span>Booked 190 times today</div>\n",
      "<div class=\"booking\"><span class=\"tadpole\"></span>Booked 136 times today</div>\n",
      "<div class=\"booking\"><span class=\"tadpole\"></span>Booked 53 times today</div>\n",
      "<div class=\"booking\"><span class=\"tadpole\"></span>Booked 156 times today</div>\n",
      "<div class=\"booking\"><span class=\"tadpole\"></span>Booked 90 times today</div>\n",
      "<div class=\"booking\"><span class=\"tadpole\"></span>Booked 51 times today</div>\n",
      "<div class=\"booking\"><span class=\"tadpole\"></span>Booked 50 times today</div>\n",
      "<div class=\"booking\"><span class=\"tadpole\"></span>Booked 40 times today</div>\n",
      "<div class=\"booking\"><span class=\"tadpole\"></span>Booked 27 times today</div>\n",
      "<div class=\"booking\"><span class=\"tadpole\"></span>Booked 71 times today</div>\n",
      "<div class=\"booking\"><span class=\"tadpole\"></span>Booked 25 times today</div>\n",
      "<div class=\"booking\"><span class=\"tadpole\"></span>Booked 57 times today</div>\n",
      "<div class=\"booking\"><span class=\"tadpole\"></span>Booked 34 times today</div>\n",
      "<div class=\"booking\"><span class=\"tadpole\"></span>Booked 15 times today</div>\n",
      "<div class=\"booking\"><span class=\"tadpole\"></span>Booked 35 times today</div>\n",
      "<div class=\"booking\"><span class=\"tadpole\"></span>Booked 31 times today</div>\n",
      "<div class=\"booking\"><span class=\"tadpole\"></span>Booked 36 times today</div>\n",
      "<div class=\"booking\"><span class=\"tadpole\"></span>Booked 77 times today</div>\n",
      "<div class=\"booking\"><span class=\"tadpole\"></span>Booked 43 times today</div>\n",
      "<div class=\"booking\"><span class=\"tadpole\"></span>Booked 28 times today</div>\n",
      "<div class=\"booking\"><span class=\"tadpole\"></span>Booked 51 times today</div>\n",
      "<div class=\"booking\"><span class=\"tadpole\"></span>Booked 59 times today</div>\n",
      "<div class=\"booking\"><span class=\"tadpole\"></span>Booked 55 times today</div>\n",
      "<div class=\"booking\"><span class=\"tadpole\"></span>Booked 14 times today</div>\n",
      "<div class=\"booking\"><span class=\"tadpole\"></span>Booked 49 times today</div>\n",
      "<div class=\"booking\"><span class=\"tadpole\"></span>Booked 11 times today</div>\n",
      "<div class=\"booking\"><span class=\"tadpole\"></span>Booked 57 times today</div>\n",
      "<div class=\"booking\"><span class=\"tadpole\"></span>Booked 70 times today</div>\n",
      "<div class=\"booking\"><span class=\"tadpole\"></span>Booked 56 times today</div>\n",
      "<div class=\"booking\"><span class=\"tadpole\"></span>Booked 40 times today</div>\n",
      "<div class=\"booking\"><span class=\"tadpole\"></span>Booked 6 times today</div>\n",
      "<div class=\"booking\"><span class=\"tadpole\"></span>Booked 7 times today</div>\n",
      "<div class=\"booking\"><span class=\"tadpole\"></span>Booked 34 times today</div>\n",
      "<div class=\"booking\"><span class=\"tadpole\"></span>Booked 22 times today</div>\n",
      "<div class=\"booking\"><span class=\"tadpole\"></span>Booked 26 times today</div>\n",
      "<div class=\"booking\"><span class=\"tadpole\"></span>Booked 36 times today</div>\n",
      "<div class=\"booking\"><span class=\"tadpole\"></span>Booked 5 times today</div>\n",
      "<div class=\"booking\"><span class=\"tadpole\"></span>Booked 31 times today</div>\n",
      "<div class=\"booking\"><span class=\"tadpole\"></span>Booked 11 times today</div>\n",
      "<div class=\"booking\"><span class=\"tadpole\"></span>Booked 46 times today</div>\n",
      "<div class=\"booking\"><span class=\"tadpole\"></span>Booked 53 times today</div>\n",
      "<div class=\"booking\"><span class=\"tadpole\"></span>Booked 21 times today</div>\n",
      "<div class=\"booking\"><span class=\"tadpole\"></span>Booked 52 times today</div>\n",
      "<div class=\"booking\"><span class=\"tadpole\"></span>Booked 48 times today</div>\n",
      "<div class=\"booking\"><span class=\"tadpole\"></span>Booked 40 times today</div>\n",
      "<div class=\"booking\"><span class=\"tadpole\"></span>Booked 20 times today</div>\n",
      "<div class=\"booking\"><span class=\"tadpole\"></span>Booked 21 times today</div>\n",
      "<div class=\"booking\"><span class=\"tadpole\"></span>Booked 10 times today</div>\n",
      "<div class=\"booking\"><span class=\"tadpole\"></span>Booked 34 times today</div>\n",
      "<div class=\"booking\"><span class=\"tadpole\"></span>Booked 8 times today</div>\n",
      "<div class=\"booking\"><span class=\"tadpole\"></span>Booked 37 times today</div>\n",
      "<div class=\"booking\"><span class=\"tadpole\"></span>Booked 13 times today</div>\n",
      "<div class=\"booking\"><span class=\"tadpole\"></span>Booked 33 times today</div>\n",
      "<div class=\"booking\"><span class=\"tadpole\"></span>Booked 5 times today</div>\n",
      "<div class=\"booking\"><span class=\"tadpole\"></span>Booked 48 times today</div>\n",
      "<div class=\"booking\"><span class=\"tadpole\"></span>Booked 45 times today</div>\n",
      "<div class=\"booking\"><span class=\"tadpole\"></span>Booked 9 times today</div>\n",
      "<div class=\"booking\"><span class=\"tadpole\"></span>Booked 12 times today</div>\n",
      "<div class=\"booking\"><span class=\"tadpole\"></span>Booked 23 times today</div>\n",
      "<div class=\"booking\"><span class=\"tadpole\"></span>Booked 24 times today</div>\n",
      "<div class=\"booking\"><span class=\"tadpole\"></span>Booked 23 times today</div>\n",
      "<div class=\"booking\"><span class=\"tadpole\"></span>Booked 13 times today</div>\n",
      "<div class=\"booking\"><span class=\"tadpole\"></span>Booked 50 times today</div>\n",
      "<div class=\"booking\"><span class=\"tadpole\"></span>Booked 22 times today</div>\n",
      "<div class=\"booking\"><span class=\"tadpole\"></span>Booked 11 times today</div>\n",
      "<div class=\"booking\"><span class=\"tadpole\"></span>Booked 27 times today</div>\n",
      "<div class=\"booking\"><span class=\"tadpole\"></span>Booked 21 times today</div>\n",
      "<div class=\"booking\"><span class=\"tadpole\"></span>Booked 22 times today</div>\n",
      "<div class=\"booking\"><span class=\"tadpole\"></span>Booked 18 times today</div>\n",
      "<div class=\"booking\"><span class=\"tadpole\"></span>Booked 24 times today</div>\n",
      "<div class=\"booking\"><span class=\"tadpole\"></span>Booked 24 times today</div>\n",
      "<div class=\"booking\"><span class=\"tadpole\"></span>Booked 32 times today</div>\n",
      "<div class=\"booking\"><span class=\"tadpole\"></span>Booked 32 times today</div>\n",
      "<div class=\"booking\"><span class=\"tadpole\"></span>Booked 11 times today</div>\n",
      "<div class=\"booking\"><span class=\"tadpole\"></span>Booked 36 times today</div>\n",
      "<div class=\"booking\"><span class=\"tadpole\"></span>Booked 5 times today</div>\n",
      "<div class=\"booking\"><span class=\"tadpole\"></span>Booked 15 times today</div>\n",
      "<div class=\"booking\"><span class=\"tadpole\"></span>Booked 27 times today</div>\n",
      "<div class=\"booking\"><span class=\"tadpole\"></span>Booked 6 times today</div>\n",
      "<div class=\"booking\"><span class=\"tadpole\"></span>Booked 4 times today</div>\n",
      "<div class=\"booking\"><span class=\"tadpole\"></span>Booked 23 times today</div>\n",
      "<div class=\"booking\"><span class=\"tadpole\"></span>Booked 17 times today</div>\n",
      "<div class=\"booking\"><span class=\"tadpole\"></span>Booked 18 times today</div>\n"
     ]
    }
   ],
   "source": [
    "# now print out each booking for the listings using a loop\n",
    "for entry in html.find_all('div', {'class':'booking'}):\n",
    "    print(entry)"
   ]
  },
  {
   "cell_type": "markdown",
   "metadata": {},
   "source": [
    "Let's grab just the text of each of these entries."
   ]
  },
  {
   "cell_type": "code",
   "execution_count": 28,
   "metadata": {},
   "outputs": [
    {
     "name": "stdout",
     "output_type": "stream",
     "text": [
      "Booked 1 times today\n",
      "Booked 407 times today\n",
      "Booked 190 times today\n",
      "Booked 136 times today\n",
      "Booked 53 times today\n",
      "Booked 156 times today\n",
      "Booked 90 times today\n",
      "Booked 51 times today\n",
      "Booked 50 times today\n",
      "Booked 40 times today\n",
      "Booked 27 times today\n",
      "Booked 71 times today\n",
      "Booked 25 times today\n",
      "Booked 57 times today\n",
      "Booked 34 times today\n",
      "Booked 15 times today\n",
      "Booked 35 times today\n",
      "Booked 31 times today\n",
      "Booked 36 times today\n",
      "Booked 77 times today\n",
      "Booked 43 times today\n",
      "Booked 28 times today\n",
      "Booked 51 times today\n",
      "Booked 59 times today\n",
      "Booked 55 times today\n",
      "Booked 14 times today\n",
      "Booked 49 times today\n",
      "Booked 11 times today\n",
      "Booked 57 times today\n",
      "Booked 70 times today\n",
      "Booked 56 times today\n",
      "Booked 40 times today\n",
      "Booked 6 times today\n",
      "Booked 7 times today\n",
      "Booked 34 times today\n",
      "Booked 22 times today\n",
      "Booked 26 times today\n",
      "Booked 36 times today\n",
      "Booked 5 times today\n",
      "Booked 31 times today\n",
      "Booked 11 times today\n",
      "Booked 46 times today\n",
      "Booked 53 times today\n",
      "Booked 21 times today\n",
      "Booked 52 times today\n",
      "Booked 48 times today\n",
      "Booked 40 times today\n",
      "Booked 20 times today\n",
      "Booked 21 times today\n",
      "Booked 10 times today\n",
      "Booked 34 times today\n",
      "Booked 8 times today\n",
      "Booked 37 times today\n",
      "Booked 13 times today\n",
      "Booked 33 times today\n",
      "Booked 5 times today\n",
      "Booked 48 times today\n",
      "Booked 45 times today\n",
      "Booked 9 times today\n",
      "Booked 12 times today\n",
      "Booked 23 times today\n",
      "Booked 24 times today\n",
      "Booked 23 times today\n",
      "Booked 13 times today\n",
      "Booked 50 times today\n",
      "Booked 22 times today\n",
      "Booked 11 times today\n",
      "Booked 27 times today\n",
      "Booked 21 times today\n",
      "Booked 22 times today\n",
      "Booked 18 times today\n",
      "Booked 24 times today\n",
      "Booked 24 times today\n",
      "Booked 32 times today\n",
      "Booked 32 times today\n",
      "Booked 11 times today\n",
      "Booked 36 times today\n",
      "Booked 5 times today\n",
      "Booked 15 times today\n",
      "Booked 27 times today\n",
      "Booked 6 times today\n",
      "Booked 4 times today\n",
      "Booked 23 times today\n",
      "Booked 17 times today\n",
      "Booked 18 times today\n"
     ]
    }
   ],
   "source": [
    "# do the same as above, but grabbing only the text content\n",
    "for entry in html.find_all('div', {'class':'booking'}):\n",
    "    print(entry.text)"
   ]
  },
  {
   "cell_type": "code",
   "execution_count": 29,
   "metadata": {},
   "outputs": [],
   "source": [
    "driver.close()"
   ]
  },
  {
   "cell_type": "markdown",
   "metadata": {},
   "source": [
    "We've succeeded!\n",
    "\n",
    "<a id=\"selenium-regex\"></a>\n",
    "### Using regex to only get digits\n",
    "\n",
    "But we can clean this up a little bit. We're going to use regular expressions (regex) to grab only the digits that are available in each of the text.\n",
    "\n",
    "The best way to get good at regex is to, well, just keep trying and testing: http://pythex.org/"
   ]
  },
  {
   "cell_type": "code",
   "execution_count": 30,
   "metadata": {},
   "outputs": [],
   "source": [
    "# import regex\n",
    "import re"
   ]
  },
  {
   "cell_type": "markdown",
   "metadata": {},
   "source": [
    "Given we haven't covered regex, I'll show you how to use the search function to match any given digit."
   ]
  },
  {
   "cell_type": "code",
   "execution_count": 31,
   "metadata": {},
   "outputs": [
    {
     "name": "stdout",
     "output_type": "stream",
     "text": [
      "1\n",
      "407\n",
      "190\n",
      "136\n",
      "53\n",
      "156\n",
      "90\n",
      "51\n",
      "50\n",
      "40\n",
      "27\n",
      "71\n",
      "25\n",
      "57\n",
      "34\n",
      "15\n",
      "35\n",
      "31\n",
      "36\n",
      "77\n",
      "43\n",
      "28\n",
      "51\n",
      "59\n",
      "55\n",
      "14\n",
      "49\n",
      "11\n",
      "57\n",
      "70\n",
      "56\n",
      "40\n",
      "6\n",
      "7\n",
      "34\n",
      "22\n",
      "26\n",
      "36\n",
      "5\n",
      "31\n",
      "11\n",
      "46\n",
      "53\n",
      "21\n",
      "52\n",
      "48\n",
      "40\n",
      "20\n",
      "21\n",
      "10\n",
      "34\n",
      "8\n",
      "37\n",
      "13\n",
      "33\n",
      "5\n",
      "48\n",
      "45\n",
      "9\n",
      "12\n",
      "23\n",
      "24\n",
      "23\n",
      "13\n",
      "50\n",
      "22\n",
      "11\n",
      "27\n",
      "21\n",
      "22\n",
      "18\n",
      "24\n",
      "24\n",
      "32\n",
      "32\n",
      "11\n",
      "36\n",
      "5\n",
      "15\n",
      "27\n",
      "6\n",
      "4\n",
      "23\n",
      "17\n",
      "18\n"
     ]
    }
   ],
   "source": [
    "# for each entry, grab the text\n",
    "for booking in html.find_all('div', {'class':'booking'}):\n",
    "    # match all digits\n",
    "    match = re.search('\\d+', booking.text)\n",
    "    \n",
    "    if match:\n",
    "        # print if found\n",
    "        print(match.group())\n",
    "    else:\n",
    "        # otherwise pass\n",
    "        pass"
   ]
  },
  {
   "cell_type": "markdown",
   "metadata": {},
   "source": [
    "Before we demonstrate all the other amazing things about headless browsers, let's finish up collecting the data we want from this current example. Do you suppose the html parsing we wrote above will still work on the page source we've grabbed from our headless browser?"
   ]
  },
  {
   "cell_type": "markdown",
   "metadata": {},
   "source": [
    "To be most efficient, we want to only do a single loop for each entry on the page. That means we want to find what element all of other other elements (name, location, price, bookings) is housed within. Where on the page is each entry located?"
   ]
  },
  {
   "cell_type": "code",
   "execution_count": 32,
   "metadata": {},
   "outputs": [],
   "source": [
    "# print out all entries\n",
    "#   NOTE: Has many entries. Uncomment the below code to run it!\n",
    "\n",
    "# soup.find_all('div', {'class':'result content-section-list-row cf with-times'})"
   ]
  },
  {
   "cell_type": "markdown",
   "metadata": {},
   "source": [
    "Look over the page. Does every single entry have each element we're seeking?\n",
    "> I did this previously. I know for a fact that not every element has a number of recent bookings. That's probably exactly why OpenTable houses this in JavaScript: they want to continously update the number of bookings with the most relevant number of values."
   ]
  },
  {
   "cell_type": "code",
   "execution_count": 33,
   "metadata": {
    "scrolled": true
   },
   "outputs": [
    {
     "name": "stdout",
     "output_type": "stream",
     "text": [
      "<div class=\"booking\"><span class=\"tadpole\"></span>Booked 1 times today</div>\n",
      "None\n",
      "None\n",
      "None\n",
      "None\n",
      "None\n",
      "None\n",
      "None\n",
      "None\n",
      "None\n",
      "None\n",
      "None\n",
      "None\n",
      "None\n",
      "<div class=\"booking\"><span class=\"tadpole\"></span>Booked 407 times today</div>\n",
      "<div class=\"booking\"><span class=\"tadpole\"></span>Booked 190 times today</div>\n",
      "<div class=\"booking\"><span class=\"tadpole\"></span>Booked 136 times today</div>\n",
      "<div class=\"booking\"><span class=\"tadpole\"></span>Booked 53 times today</div>\n",
      "<div class=\"booking\"><span class=\"tadpole\"></span>Booked 156 times today</div>\n",
      "<div class=\"booking\"><span class=\"tadpole\"></span>Booked 90 times today</div>\n",
      "<div class=\"booking\"><span class=\"tadpole\"></span>Booked 51 times today</div>\n",
      "<div class=\"booking\"><span class=\"tadpole\"></span>Booked 50 times today</div>\n",
      "<div class=\"booking\"><span class=\"tadpole\"></span>Booked 40 times today</div>\n",
      "<div class=\"booking\"><span class=\"tadpole\"></span>Booked 27 times today</div>\n",
      "<div class=\"booking\"><span class=\"tadpole\"></span>Booked 71 times today</div>\n",
      "<div class=\"booking\"><span class=\"tadpole\"></span>Booked 25 times today</div>\n",
      "<div class=\"booking\"><span class=\"tadpole\"></span>Booked 57 times today</div>\n",
      "<div class=\"booking\"><span class=\"tadpole\"></span>Booked 34 times today</div>\n",
      "<div class=\"booking\"><span class=\"tadpole\"></span>Booked 15 times today</div>\n",
      "<div class=\"booking\"><span class=\"tadpole\"></span>Booked 35 times today</div>\n",
      "<div class=\"booking\"><span class=\"tadpole\"></span>Booked 31 times today</div>\n",
      "<div class=\"booking\"><span class=\"tadpole\"></span>Booked 36 times today</div>\n",
      "<div class=\"booking\"><span class=\"tadpole\"></span>Booked 77 times today</div>\n",
      "<div class=\"booking\"><span class=\"tadpole\"></span>Booked 43 times today</div>\n",
      "<div class=\"booking\"><span class=\"tadpole\"></span>Booked 28 times today</div>\n",
      "<div class=\"booking\"><span class=\"tadpole\"></span>Booked 51 times today</div>\n",
      "<div class=\"booking\"><span class=\"tadpole\"></span>Booked 59 times today</div>\n",
      "<div class=\"booking\"><span class=\"tadpole\"></span>Booked 55 times today</div>\n",
      "<div class=\"booking\"><span class=\"tadpole\"></span>Booked 14 times today</div>\n",
      "<div class=\"booking\"><span class=\"tadpole\"></span>Booked 49 times today</div>\n",
      "<div class=\"booking\"><span class=\"tadpole\"></span>Booked 11 times today</div>\n",
      "<div class=\"booking\"><span class=\"tadpole\"></span>Booked 57 times today</div>\n",
      "<div class=\"booking\"><span class=\"tadpole\"></span>Booked 70 times today</div>\n",
      "<div class=\"booking\"><span class=\"tadpole\"></span>Booked 56 times today</div>\n",
      "<div class=\"booking\"><span class=\"tadpole\"></span>Booked 40 times today</div>\n",
      "<div class=\"booking\"><span class=\"tadpole\"></span>Booked 6 times today</div>\n",
      "<div class=\"booking\"><span class=\"tadpole\"></span>Booked 7 times today</div>\n",
      "<div class=\"booking\"><span class=\"tadpole\"></span>Booked 34 times today</div>\n",
      "<div class=\"booking\"><span class=\"tadpole\"></span>Booked 22 times today</div>\n",
      "<div class=\"booking\"><span class=\"tadpole\"></span>Booked 26 times today</div>\n",
      "<div class=\"booking\"><span class=\"tadpole\"></span>Booked 36 times today</div>\n",
      "<div class=\"booking\"><span class=\"tadpole\"></span>Booked 5 times today</div>\n",
      "<div class=\"booking\"><span class=\"tadpole\"></span>Booked 31 times today</div>\n",
      "<div class=\"booking\"><span class=\"tadpole\"></span>Booked 11 times today</div>\n",
      "<div class=\"booking\"><span class=\"tadpole\"></span>Booked 46 times today</div>\n",
      "<div class=\"booking\"><span class=\"tadpole\"></span>Booked 53 times today</div>\n",
      "<div class=\"booking\"><span class=\"tadpole\"></span>Booked 21 times today</div>\n",
      "<div class=\"booking\"><span class=\"tadpole\"></span>Booked 52 times today</div>\n",
      "<div class=\"booking\"><span class=\"tadpole\"></span>Booked 48 times today</div>\n",
      "<div class=\"booking\"><span class=\"tadpole\"></span>Booked 40 times today</div>\n",
      "<div class=\"booking\"><span class=\"tadpole\"></span>Booked 20 times today</div>\n",
      "<div class=\"booking\"><span class=\"tadpole\"></span>Booked 21 times today</div>\n",
      "<div class=\"booking\"><span class=\"tadpole\"></span>Booked 10 times today</div>\n",
      "<div class=\"booking\"><span class=\"tadpole\"></span>Booked 34 times today</div>\n",
      "<div class=\"booking\"><span class=\"tadpole\"></span>Booked 8 times today</div>\n",
      "<div class=\"booking\"><span class=\"tadpole\"></span>Booked 37 times today</div>\n",
      "<div class=\"booking\"><span class=\"tadpole\"></span>Booked 13 times today</div>\n",
      "<div class=\"booking\"><span class=\"tadpole\"></span>Booked 33 times today</div>\n",
      "<div class=\"booking\"><span class=\"tadpole\"></span>Booked 5 times today</div>\n",
      "<div class=\"booking\"><span class=\"tadpole\"></span>Booked 48 times today</div>\n",
      "<div class=\"booking\"><span class=\"tadpole\"></span>Booked 45 times today</div>\n",
      "<div class=\"booking\"><span class=\"tadpole\"></span>Booked 9 times today</div>\n",
      "None\n",
      "<div class=\"booking\"><span class=\"tadpole\"></span>Booked 12 times today</div>\n",
      "<div class=\"booking\"><span class=\"tadpole\"></span>Booked 23 times today</div>\n",
      "<div class=\"booking\"><span class=\"tadpole\"></span>Booked 24 times today</div>\n",
      "<div class=\"booking\"><span class=\"tadpole\"></span>Booked 23 times today</div>\n",
      "<div class=\"booking\"><span class=\"tadpole\"></span>Booked 13 times today</div>\n",
      "<div class=\"booking\"><span class=\"tadpole\"></span>Booked 50 times today</div>\n",
      "None\n",
      "<div class=\"booking\"><span class=\"tadpole\"></span>Booked 22 times today</div>\n",
      "<div class=\"booking\"><span class=\"tadpole\"></span>Booked 11 times today</div>\n",
      "<div class=\"booking\"><span class=\"tadpole\"></span>Booked 27 times today</div>\n",
      "<div class=\"booking\"><span class=\"tadpole\"></span>Booked 21 times today</div>\n",
      "<div class=\"booking\"><span class=\"tadpole\"></span>Booked 22 times today</div>\n",
      "<div class=\"booking\"><span class=\"tadpole\"></span>Booked 18 times today</div>\n",
      "<div class=\"booking\"><span class=\"tadpole\"></span>Booked 24 times today</div>\n",
      "<div class=\"booking\"><span class=\"tadpole\"></span>Booked 24 times today</div>\n",
      "<div class=\"booking\"><span class=\"tadpole\"></span>Booked 32 times today</div>\n",
      "<div class=\"booking\"><span class=\"tadpole\"></span>Booked 32 times today</div>\n",
      "<div class=\"booking\"><span class=\"tadpole\"></span>Booked 11 times today</div>\n",
      "<div class=\"booking\"><span class=\"tadpole\"></span>Booked 36 times today</div>\n",
      "<div class=\"booking\"><span class=\"tadpole\"></span>Booked 5 times today</div>\n",
      "<div class=\"booking\"><span class=\"tadpole\"></span>Booked 15 times today</div>\n",
      "<div class=\"booking\"><span class=\"tadpole\"></span>Booked 27 times today</div>\n",
      "<div class=\"booking\"><span class=\"tadpole\"></span>Booked 6 times today</div>\n",
      "<div class=\"booking\"><span class=\"tadpole\"></span>Booked 4 times today</div>\n",
      "<div class=\"booking\"><span class=\"tadpole\"></span>Booked 23 times today</div>\n",
      "<div class=\"booking\"><span class=\"tadpole\"></span>Booked 17 times today</div>\n",
      "<div class=\"booking\"><span class=\"tadpole\"></span>Booked 18 times today</div>\n"
     ]
    }
   ],
   "source": [
    "# What happens when a booking is not available?\n",
    "# Print out each booking entry, using the identification code we wrote above\n",
    "\n",
    "for entry in html.find_all('div', {'class':'result content-section-list-row cf with-times'}):\n",
    "    print(entry.find('div', {'class':'booking'}))"
   ]
  },
  {
   "cell_type": "code",
   "execution_count": 34,
   "metadata": {},
   "outputs": [
    {
     "name": "stdout",
     "output_type": "stream",
     "text": [
      "<div class=\"booking\"><span class=\"tadpole\"></span>Booked 1 times today</div>\n",
      "None\n",
      "None\n",
      "None\n",
      "None\n",
      "None\n",
      "None\n",
      "None\n",
      "None\n",
      "None\n",
      "None\n",
      "None\n",
      "None\n",
      "None\n",
      "<div class=\"booking\"><span class=\"tadpole\"></span>Booked 407 times today</div>\n",
      "<div class=\"booking\"><span class=\"tadpole\"></span>Booked 190 times today</div>\n",
      "<div class=\"booking\"><span class=\"tadpole\"></span>Booked 136 times today</div>\n",
      "<div class=\"booking\"><span class=\"tadpole\"></span>Booked 53 times today</div>\n",
      "<div class=\"booking\"><span class=\"tadpole\"></span>Booked 156 times today</div>\n",
      "<div class=\"booking\"><span class=\"tadpole\"></span>Booked 90 times today</div>\n",
      "<div class=\"booking\"><span class=\"tadpole\"></span>Booked 51 times today</div>\n",
      "<div class=\"booking\"><span class=\"tadpole\"></span>Booked 50 times today</div>\n",
      "<div class=\"booking\"><span class=\"tadpole\"></span>Booked 40 times today</div>\n",
      "<div class=\"booking\"><span class=\"tadpole\"></span>Booked 27 times today</div>\n",
      "<div class=\"booking\"><span class=\"tadpole\"></span>Booked 71 times today</div>\n",
      "<div class=\"booking\"><span class=\"tadpole\"></span>Booked 25 times today</div>\n",
      "<div class=\"booking\"><span class=\"tadpole\"></span>Booked 57 times today</div>\n",
      "<div class=\"booking\"><span class=\"tadpole\"></span>Booked 34 times today</div>\n",
      "<div class=\"booking\"><span class=\"tadpole\"></span>Booked 15 times today</div>\n",
      "<div class=\"booking\"><span class=\"tadpole\"></span>Booked 35 times today</div>\n",
      "<div class=\"booking\"><span class=\"tadpole\"></span>Booked 31 times today</div>\n",
      "<div class=\"booking\"><span class=\"tadpole\"></span>Booked 36 times today</div>\n",
      "<div class=\"booking\"><span class=\"tadpole\"></span>Booked 77 times today</div>\n",
      "<div class=\"booking\"><span class=\"tadpole\"></span>Booked 43 times today</div>\n",
      "<div class=\"booking\"><span class=\"tadpole\"></span>Booked 28 times today</div>\n",
      "<div class=\"booking\"><span class=\"tadpole\"></span>Booked 51 times today</div>\n",
      "<div class=\"booking\"><span class=\"tadpole\"></span>Booked 59 times today</div>\n",
      "<div class=\"booking\"><span class=\"tadpole\"></span>Booked 55 times today</div>\n",
      "<div class=\"booking\"><span class=\"tadpole\"></span>Booked 14 times today</div>\n",
      "<div class=\"booking\"><span class=\"tadpole\"></span>Booked 49 times today</div>\n",
      "<div class=\"booking\"><span class=\"tadpole\"></span>Booked 11 times today</div>\n",
      "<div class=\"booking\"><span class=\"tadpole\"></span>Booked 57 times today</div>\n",
      "<div class=\"booking\"><span class=\"tadpole\"></span>Booked 70 times today</div>\n",
      "<div class=\"booking\"><span class=\"tadpole\"></span>Booked 56 times today</div>\n",
      "<div class=\"booking\"><span class=\"tadpole\"></span>Booked 40 times today</div>\n",
      "<div class=\"booking\"><span class=\"tadpole\"></span>Booked 6 times today</div>\n",
      "<div class=\"booking\"><span class=\"tadpole\"></span>Booked 7 times today</div>\n",
      "<div class=\"booking\"><span class=\"tadpole\"></span>Booked 34 times today</div>\n",
      "<div class=\"booking\"><span class=\"tadpole\"></span>Booked 22 times today</div>\n",
      "<div class=\"booking\"><span class=\"tadpole\"></span>Booked 26 times today</div>\n",
      "<div class=\"booking\"><span class=\"tadpole\"></span>Booked 36 times today</div>\n",
      "<div class=\"booking\"><span class=\"tadpole\"></span>Booked 5 times today</div>\n",
      "<div class=\"booking\"><span class=\"tadpole\"></span>Booked 31 times today</div>\n",
      "<div class=\"booking\"><span class=\"tadpole\"></span>Booked 11 times today</div>\n",
      "<div class=\"booking\"><span class=\"tadpole\"></span>Booked 46 times today</div>\n",
      "<div class=\"booking\"><span class=\"tadpole\"></span>Booked 53 times today</div>\n",
      "<div class=\"booking\"><span class=\"tadpole\"></span>Booked 21 times today</div>\n",
      "<div class=\"booking\"><span class=\"tadpole\"></span>Booked 52 times today</div>\n",
      "<div class=\"booking\"><span class=\"tadpole\"></span>Booked 48 times today</div>\n",
      "<div class=\"booking\"><span class=\"tadpole\"></span>Booked 40 times today</div>\n",
      "<div class=\"booking\"><span class=\"tadpole\"></span>Booked 20 times today</div>\n",
      "<div class=\"booking\"><span class=\"tadpole\"></span>Booked 21 times today</div>\n",
      "<div class=\"booking\"><span class=\"tadpole\"></span>Booked 10 times today</div>\n",
      "<div class=\"booking\"><span class=\"tadpole\"></span>Booked 34 times today</div>\n",
      "<div class=\"booking\"><span class=\"tadpole\"></span>Booked 8 times today</div>\n",
      "<div class=\"booking\"><span class=\"tadpole\"></span>Booked 37 times today</div>\n",
      "<div class=\"booking\"><span class=\"tadpole\"></span>Booked 13 times today</div>\n",
      "<div class=\"booking\"><span class=\"tadpole\"></span>Booked 33 times today</div>\n",
      "<div class=\"booking\"><span class=\"tadpole\"></span>Booked 5 times today</div>\n",
      "<div class=\"booking\"><span class=\"tadpole\"></span>Booked 48 times today</div>\n",
      "<div class=\"booking\"><span class=\"tadpole\"></span>Booked 45 times today</div>\n",
      "<div class=\"booking\"><span class=\"tadpole\"></span>Booked 9 times today</div>\n",
      "None\n",
      "<div class=\"booking\"><span class=\"tadpole\"></span>Booked 12 times today</div>\n",
      "<div class=\"booking\"><span class=\"tadpole\"></span>Booked 23 times today</div>\n",
      "<div class=\"booking\"><span class=\"tadpole\"></span>Booked 24 times today</div>\n",
      "<div class=\"booking\"><span class=\"tadpole\"></span>Booked 23 times today</div>\n",
      "<div class=\"booking\"><span class=\"tadpole\"></span>Booked 13 times today</div>\n",
      "<div class=\"booking\"><span class=\"tadpole\"></span>Booked 50 times today</div>\n",
      "None\n",
      "<div class=\"booking\"><span class=\"tadpole\"></span>Booked 22 times today</div>\n",
      "<div class=\"booking\"><span class=\"tadpole\"></span>Booked 11 times today</div>\n",
      "<div class=\"booking\"><span class=\"tadpole\"></span>Booked 27 times today</div>\n",
      "<div class=\"booking\"><span class=\"tadpole\"></span>Booked 21 times today</div>\n",
      "<div class=\"booking\"><span class=\"tadpole\"></span>Booked 22 times today</div>\n",
      "<div class=\"booking\"><span class=\"tadpole\"></span>Booked 18 times today</div>\n",
      "<div class=\"booking\"><span class=\"tadpole\"></span>Booked 24 times today</div>\n",
      "<div class=\"booking\"><span class=\"tadpole\"></span>Booked 24 times today</div>\n",
      "<div class=\"booking\"><span class=\"tadpole\"></span>Booked 32 times today</div>\n",
      "<div class=\"booking\"><span class=\"tadpole\"></span>Booked 32 times today</div>\n",
      "<div class=\"booking\"><span class=\"tadpole\"></span>Booked 11 times today</div>\n",
      "<div class=\"booking\"><span class=\"tadpole\"></span>Booked 36 times today</div>\n",
      "<div class=\"booking\"><span class=\"tadpole\"></span>Booked 5 times today</div>\n",
      "<div class=\"booking\"><span class=\"tadpole\"></span>Booked 15 times today</div>\n",
      "<div class=\"booking\"><span class=\"tadpole\"></span>Booked 27 times today</div>\n",
      "<div class=\"booking\"><span class=\"tadpole\"></span>Booked 6 times today</div>\n",
      "<div class=\"booking\"><span class=\"tadpole\"></span>Booked 4 times today</div>\n",
      "<div class=\"booking\"><span class=\"tadpole\"></span>Booked 23 times today</div>\n",
      "<div class=\"booking\"><span class=\"tadpole\"></span>Booked 17 times today</div>\n",
      "<div class=\"booking\"><span class=\"tadpole\"></span>Booked 18 times today</div>\n"
     ]
    }
   ],
   "source": [
    "# We want to only retrieve the text of the bookings.\n",
    "# But what would happen if we just naively print the text of each node?\n",
    "for entry in html.find_all('div', {'class':'result content-section-list-row cf with-times'}):\n",
    "    print(entry.find('div', {'class':'booking'}))   # try adding .text"
   ]
  },
  {
   "cell_type": "markdown",
   "metadata": {},
   "source": [
    "What do you notice takes the place when booking is not found?\n",
    "\n",
    "We could use exception handling (`try`/`except` blocks) to resolve this. However, exceptions should only be used to handle rare or unexpected errors -- never for normal program flow.\n",
    "\n",
    "In this case, we expect that some entries will be zero. So, we can just use an `if` statement that tests whether there are any `divs` present; if not, display `'ZERO'`. Here's a demo:"
   ]
  },
  {
   "cell_type": "code",
   "execution_count": 35,
   "metadata": {},
   "outputs": [
    {
     "name": "stdout",
     "output_type": "stream",
     "text": [
      "Booked 1 times today\n",
      "ZERO\n",
      "ZERO\n",
      "ZERO\n",
      "ZERO\n",
      "ZERO\n",
      "ZERO\n",
      "ZERO\n",
      "ZERO\n",
      "ZERO\n",
      "ZERO\n",
      "ZERO\n",
      "ZERO\n",
      "ZERO\n",
      "Booked 407 times today\n",
      "Booked 190 times today\n",
      "Booked 136 times today\n",
      "Booked 53 times today\n",
      "Booked 156 times today\n",
      "Booked 90 times today\n",
      "Booked 51 times today\n",
      "Booked 50 times today\n",
      "Booked 40 times today\n",
      "Booked 27 times today\n",
      "Booked 71 times today\n",
      "Booked 25 times today\n",
      "Booked 57 times today\n",
      "Booked 34 times today\n",
      "Booked 15 times today\n",
      "Booked 35 times today\n",
      "Booked 31 times today\n",
      "Booked 36 times today\n",
      "Booked 77 times today\n",
      "Booked 43 times today\n",
      "Booked 28 times today\n",
      "Booked 51 times today\n",
      "Booked 59 times today\n",
      "Booked 55 times today\n",
      "Booked 14 times today\n",
      "Booked 49 times today\n",
      "Booked 11 times today\n",
      "Booked 57 times today\n",
      "Booked 70 times today\n",
      "Booked 56 times today\n",
      "Booked 40 times today\n",
      "Booked 6 times today\n",
      "Booked 7 times today\n",
      "Booked 34 times today\n",
      "Booked 22 times today\n",
      "Booked 26 times today\n",
      "Booked 36 times today\n",
      "Booked 5 times today\n",
      "Booked 31 times today\n",
      "Booked 11 times today\n",
      "Booked 46 times today\n",
      "Booked 53 times today\n",
      "Booked 21 times today\n",
      "Booked 52 times today\n",
      "Booked 48 times today\n",
      "Booked 40 times today\n",
      "Booked 20 times today\n",
      "Booked 21 times today\n",
      "Booked 10 times today\n",
      "Booked 34 times today\n",
      "Booked 8 times today\n",
      "Booked 37 times today\n",
      "Booked 13 times today\n",
      "Booked 33 times today\n",
      "Booked 5 times today\n",
      "Booked 48 times today\n",
      "Booked 45 times today\n",
      "Booked 9 times today\n",
      "ZERO\n",
      "Booked 12 times today\n",
      "Booked 23 times today\n",
      "Booked 24 times today\n",
      "Booked 23 times today\n",
      "Booked 13 times today\n",
      "Booked 50 times today\n",
      "ZERO\n",
      "Booked 22 times today\n",
      "Booked 11 times today\n",
      "Booked 27 times today\n",
      "Booked 21 times today\n",
      "Booked 22 times today\n",
      "Booked 18 times today\n",
      "Booked 24 times today\n",
      "Booked 24 times today\n",
      "Booked 32 times today\n",
      "Booked 32 times today\n",
      "Booked 11 times today\n",
      "Booked 36 times today\n",
      "Booked 5 times today\n",
      "Booked 15 times today\n",
      "Booked 27 times today\n",
      "Booked 6 times today\n",
      "Booked 4 times today\n",
      "Booked 23 times today\n",
      "Booked 17 times today\n",
      "Booked 18 times today\n"
     ]
    }
   ],
   "source": [
    "# if we find the element we want, we print it. Otherwise, we print 'ZERO'\n",
    "for entry in html.find_all('div', {'class':'result content-section-list-row cf with-times'}):\n",
    "    booking_tag = entry.find('div', {'class':'booking'})\n",
    "    \n",
    "    if booking_tag:\n",
    "        print(booking_tag.text)\n",
    "    else:\n",
    "        print('ZERO')"
   ]
  },
  {
   "cell_type": "markdown",
   "metadata": {},
   "source": [
    "After previously completing this, we observed that all other elements WILL be returned. This means we do not have to always handle these cases.\n",
    "\n",
    "<a id=\"challenge-pandas\"></a>\n",
    "### Challenge: Use Pandas to create a DataFrame of bookings\n",
    "\n",
    "However, the onus is on you to now put all the pieces together.\n",
    "\n",
    "Loop through each entry. For each entry, grab the relevant information we want (name, location, price, bookings). Produce a dataframe with the columns \"name\",\"location\",\"price\",\"bookings\" that contains the 100 entries we would like."
   ]
  },
  {
   "cell_type": "code",
   "execution_count": 36,
   "metadata": {},
   "outputs": [],
   "source": [
    "import pandas as pd"
   ]
  },
  {
   "cell_type": "code",
   "execution_count": 37,
   "metadata": {},
   "outputs": [],
   "source": [
    "# I'm going to create my empty df first\n",
    "dc_eats = pd.DataFrame(columns=[\"name\",\"location\",\"price\",\"bookings\"])"
   ]
  },
  {
   "cell_type": "code",
   "execution_count": 38,
   "metadata": {},
   "outputs": [],
   "source": [
    "# Put code here that populates the DataFrame using Selenium and BeautifulSoup!"
   ]
  },
  {
   "cell_type": "code",
   "execution_count": 39,
   "metadata": {},
   "outputs": [
    {
     "data": {
      "text/html": [
       "<div>\n",
       "<style scoped>\n",
       "    .dataframe tbody tr th:only-of-type {\n",
       "        vertical-align: middle;\n",
       "    }\n",
       "\n",
       "    .dataframe tbody tr th {\n",
       "        vertical-align: top;\n",
       "    }\n",
       "\n",
       "    .dataframe thead th {\n",
       "        text-align: right;\n",
       "    }\n",
       "</style>\n",
       "<table border=\"1\" class=\"dataframe\">\n",
       "  <thead>\n",
       "    <tr style=\"text-align: right;\">\n",
       "      <th></th>\n",
       "      <th>name</th>\n",
       "      <th>location</th>\n",
       "      <th>price</th>\n",
       "      <th>bookings</th>\n",
       "    </tr>\n",
       "  </thead>\n",
       "  <tbody>\n",
       "  </tbody>\n",
       "</table>\n",
       "</div>"
      ],
      "text/plain": [
       "Empty DataFrame\n",
       "Columns: [name, location, price, bookings]\n",
       "Index: []"
      ]
     },
     "execution_count": 39,
     "metadata": {},
     "output_type": "execute_result"
    }
   ],
   "source": [
    "# check out our work\n",
    "dc_eats.head()"
   ]
  },
  {
   "cell_type": "markdown",
   "metadata": {},
   "source": [
    "Awesome! We succeeded.\n",
    "\n",
    "<a id=\"selenium-typing\"></a>\n",
    "### Auto-typing using Selenium\n",
    "\n",
    "Now, let's explore some of the other functionality of a webdriver. We've barely scratched the surface."
   ]
  },
  {
   "cell_type": "code",
   "execution_count": 40,
   "metadata": {},
   "outputs": [],
   "source": [
    "# we can send keys as well\n",
    "\n",
    "from selenium.webdriver.common.keys import Keys"
   ]
  },
  {
   "cell_type": "code",
   "execution_count": 41,
   "metadata": {},
   "outputs": [],
   "source": [
    "# open Firefox\n",
    "driver = webdriver.Firefox()\n",
    "\n",
    "# visit Python\n",
    "driver.get(\"http://www.python.org\")\n",
    "\n",
    "# verify we're in the right place\n",
    "assert \"Python\" in driver.title"
   ]
  },
  {
   "cell_type": "markdown",
   "metadata": {},
   "source": [
    "Let's try automatedly typing `pycon` in the search box and hitting the return key:"
   ]
  },
  {
   "cell_type": "code",
   "execution_count": 42,
   "metadata": {},
   "outputs": [],
   "source": [
    "# find the search position\n",
    "elem = driver.find_element_by_name(\"q\")\n",
    "\n",
    "# clear it\n",
    "elem.clear()\n",
    "\n",
    "# type in pycon\n",
    "elem.send_keys(\"pycon\")\n",
    "\n",
    "# send those keys\n",
    "elem.send_keys(Keys.RETURN)"
   ]
  },
  {
   "cell_type": "code",
   "execution_count": 43,
   "metadata": {},
   "outputs": [],
   "source": [
    "# close\n",
    "driver.close()"
   ]
  },
  {
   "cell_type": "code",
   "execution_count": 44,
   "metadata": {},
   "outputs": [],
   "source": [
    "# all at once:\n",
    "driver = webdriver.Firefox()\n",
    "driver.get(\"http://www.python.org\")\n",
    "assert \"Python\" in driver.title\n",
    "\n",
    "elem = driver.find_element_by_name(\"q\")\n",
    "elem.clear()\n",
    "elem.send_keys(\"pycon\")\n",
    "elem.send_keys(Keys.RETURN)\n",
    "#assert \"No results found.\" not in driver.page_source\n",
    "driver.close()"
   ]
  },
  {
   "cell_type": "markdown",
   "metadata": {},
   "source": [
    "The above example (and many others) are available in the Selenium docs: http://selenium-python.readthedocs.io/getting-started.html\n",
    "\n",
    "What is especially important is exploring functionality like locating elements: http://selenium-python.readthedocs.io/locating-elements.html#locating-elements\n",
    "\n",
    "FAQ:\n",
    "http://selenium-python.readthedocs.io/faq.html"
   ]
  },
  {
   "cell_type": "markdown",
   "metadata": {},
   "source": [
    "### Summary\n",
    "\n",
    "In this lesson, we used the Beautiful Soup library to locate elements on a website then scrape their text. We also used the Selenium headless browser to run JavaScript first before retrieving the page contents."
   ]
  },
  {
   "cell_type": "markdown",
   "metadata": {},
   "source": [
    "Further study:\n",
    "- Al Sweigart, \"[Automating Your Browser and Desktop Apps](https://www.youtube.com/watch?v=dZLyfbSQPXI)\" (Quick survey of tools)\n",
    "- Asheesh Laroia, \"[Web scraping: Reliably and efficiently pull data from pages that don't expect it\n",
    "](https://www.youtube.com/watch?v=52wxGESwQSA)\" (In-depth, hands-on tutorial)\n",
    "- Data Science Dojo, \"[Intro to Web Scraping with Python and Beautiful Soup](https://www.youtube.com/watch?v=XQgXKtPSzUI)\" (Quick and dirty demo)"
   ]
  }
 ],
 "metadata": {
  "anaconda-cloud": {},
  "kernelspec": {
   "display_name": "Python [default]",
   "language": "python",
   "name": "python3"
  },
  "language_info": {
   "codemirror_mode": {
    "name": "ipython",
    "version": 3
   },
   "file_extension": ".py",
   "mimetype": "text/x-python",
   "name": "python",
   "nbconvert_exporter": "python",
   "pygments_lexer": "ipython3",
   "version": "3.6.4"
  }
 },
 "nbformat": 4,
 "nbformat_minor": 1
}
