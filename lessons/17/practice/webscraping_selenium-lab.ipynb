{
 "cells": [
  {
   "cell_type": "markdown",
   "metadata": {
    "collapsed": true
   },
   "source": [
    "<img src=\"http://imgur.com/1ZcRyrc.png\" style=\"float: left; margin: 20px; height: 55px\">\n",
    "\n",
    "# Webscraping OpenTable with Selenium: Guided Lab\n",
    "\n",
    "_Authors: Joseph Nelson (DC)_\n",
    "\n",
    "---\n",
    "\n",
    "In today's codealong lab, we will build a scraper using urllib and BeautifulSoup. We will remedy some of the pitfalls of automated scraping by using a a \"headless\" browser called Selenium.\n",
    "\n",
    "You will be scraping OpenTable's DC listings. We're interested in knowing the restaurant's **name, location, price, and how many people booked it today.**\n",
    "\n",
    "OpenTable provides all of this information on this given page: http://www.opentable.com/washington-dc-restaurant-listings."
   ]
  },
  {
   "cell_type": "markdown",
   "metadata": {},
   "source": [
    "### 1. Inspect the elements of this page to assure we can find each of the bits of information in which we're interested."
   ]
  },
  {
   "cell_type": "markdown",
   "metadata": {},
   "source": [
    "### 2. Use `urllib` and `BeautifulSoup` to read the contents of the HTML."
   ]
  },
  {
   "cell_type": "code",
   "execution_count": 1,
   "metadata": {
    "collapsed": true,
    "scrolled": true
   },
   "outputs": [],
   "source": [
    "from bs4 import BeautifulSoup\n",
    "import requests"
   ]
  },
  {
   "cell_type": "code",
   "execution_count": 3,
   "metadata": {
    "collapsed": true
   },
   "outputs": [],
   "source": [
    "# set the url we want to visit\n",
    "url = \"http://www.opentable.com/washington-dc-restaurant-listings\"\n",
    "\n",
    "# A:\n",
    "html = requests.get(url)"
   ]
  },
  {
   "cell_type": "markdown",
   "metadata": {},
   "source": [
    "### 3. Print out the HTML (only print a fraction of it). What is in it?"
   ]
  },
  {
   "cell_type": "code",
   "execution_count": 6,
   "metadata": {},
   "outputs": [
    {
     "data": {
      "text/plain": [
       "'           <!DOCTYPE html><html lang=\"en\"><head><meta charset=\"utf-8\"/><meta http-equiv=\"X-UA-Compatible\" content=\"IE=9; IE=8; IE=7; IE=EDGE\"/> <title>Restaurant Reservation Availability</title>    <meta  name=\"robots\" content=\"noindex\" > </meta><link  rel=\"canonical\" href=\"https://www.opentable.com/washington-dc-restaurant-listings\" > </link>      <link rel=\"shortcut icon\" href=\"//components.otstatic.com/components/favicon/1.0.5/favicon/favicon.ico\" type=\"image/x-icon\"/><link rel=\"icon\" href=\"/'"
      ]
     },
     "execution_count": 6,
     "metadata": {},
     "output_type": "execute_result"
    }
   ],
   "source": [
    "# A:\n",
    "html.text[:500]"
   ]
  },
  {
   "cell_type": "markdown",
   "metadata": {},
   "source": [
    "### 4. Use Beautiful Soup to convert the raw HTML into a soup object."
   ]
  },
  {
   "cell_type": "code",
   "execution_count": 7,
   "metadata": {
    "collapsed": true
   },
   "outputs": [],
   "source": [
    "# A:\n",
    "soup = BeautifulSoup(html.text, 'html.parser')"
   ]
  },
  {
   "cell_type": "markdown",
   "metadata": {},
   "source": [
    "### 5. Extract the name of each restaurant.\n",
    "\n",
    "Let's first find each restaurant name listed on the page we've loaded. How do we find the page location of the restaurant? \n",
    "\n",
    "> *Hint: we need to know where in the **html** the restaurant element is housed.*\n",
    "\n",
    "**5.A See if you can find the restaurant name on the page. Keep in mind there are many restaurants loaded on the page.**"
   ]
  },
  {
   "cell_type": "code",
   "execution_count": 11,
   "metadata": {},
   "outputs": [
    {
     "name": "stdout",
     "output_type": "stream",
     "text": [
      "<span class=\"rest-row-name-text\">Sydnies</span>\n",
      "<span class=\"rest-row-name-text\">Cove</span>\n",
      "<span class=\"rest-row-name-text\">Velit Stream</span>\n",
      "<span class=\"rest-row-name-text\">Bryana Klocko</span>\n",
      "<span class=\"rest-row-name-text\">Vitae View</span>\n",
      "<span class=\"rest-row-name-text\">A Valleys</span>\n",
      "<span class=\"rest-row-name-text\">Consequatur Lane</span>\n",
      "<span class=\"rest-row-name-text\">Sipes</span>\n",
      "<span class=\"rest-row-name-text\">Klocko</span>\n",
      "<span class=\"rest-row-name-text\">Altenwerth</span>\n",
      "<span class=\"rest-row-name-text\">Reprehenderit Ford</span>\n",
      "<span class=\"rest-row-name-text\">Paige Sipes</span>\n",
      "<span class=\"rest-row-name-text\">Wilfred Nader</span>\n",
      "<span class=\"rest-row-name-text\">Durgan</span>\n",
      "<span class=\"rest-row-name-text\">Distinctio Grove</span>\n",
      "<span class=\"rest-row-name-text\">Perspiciatis Mountains</span>\n",
      "<span class=\"rest-row-name-text\">Commodi Nader</span>\n",
      "<span class=\"rest-row-name-text\">512 Gorczany</span>\n",
      "<span class=\"rest-row-name-text\">Odit Langworth</span>\n",
      "<span class=\"rest-row-name-text\">Dolorem</span>\n",
      "<span class=\"rest-row-name-text\">Edgardo Course</span>\n",
      "<span class=\"rest-row-name-text\">Rerum Kozey</span>\n",
      "<span class=\"rest-row-name-text\">Saiges</span>\n",
      "<span class=\"rest-row-name-text\">Qui Glen</span>\n",
      "<span class=\"rest-row-name-text\">Wilhelm Cliffs</span>\n",
      "<span class=\"rest-row-name-text\">Placeat Club</span>\n",
      "<span class=\"rest-row-name-text\">Laudantium Pagac</span>\n",
      "<span class=\"rest-row-name-text\">951 Olson</span>\n",
      "<span class=\"rest-row-name-text\">Unions</span>\n",
      "<span class=\"rest-row-name-text\">Suscipit Windler</span>\n",
      "<span class=\"rest-row-name-text\">Est Cremin</span>\n",
      "<span class=\"rest-row-name-text\">642 Cassin</span>\n",
      "<span class=\"rest-row-name-text\">Kohler</span>\n",
      "<span class=\"rest-row-name-text\">Charity Summit</span>\n",
      "<span class=\"rest-row-name-text\">Motorway</span>\n",
      "<span class=\"rest-row-name-text\">Harum Lueilwitz</span>\n",
      "<span class=\"rest-row-name-text\">Crossing</span>\n",
      "<span class=\"rest-row-name-text\">Larkin</span>\n",
      "<span class=\"rest-row-name-text\">Ipsa Plaza</span>\n",
      "<span class=\"rest-row-name-text\">Mountain</span>\n",
      "<span class=\"rest-row-name-text\">Et</span>\n",
      "<span class=\"rest-row-name-text\">Peters</span>\n",
      "<span class=\"rest-row-name-text\">1097 Bode</span>\n",
      "<span class=\"rest-row-name-text\">Robel</span>\n",
      "<span class=\"rest-row-name-text\">71 Pfeffer</span>\n",
      "<span class=\"rest-row-name-text\">Manor</span>\n",
      "<span class=\"rest-row-name-text\">Leopoldo Welch</span>\n",
      "<span class=\"rest-row-name-text\">Facere Kuhlman</span>\n",
      "<span class=\"rest-row-name-text\">Debitis Harvey</span>\n",
      "<span class=\"rest-row-name-text\">79 Schuster</span>\n",
      "<span class=\"rest-row-name-text\">Toy Mission</span>\n",
      "<span class=\"rest-row-name-text\">Ullam Langosh</span>\n",
      "<span class=\"rest-row-name-text\">Linas</span>\n",
      "<span class=\"rest-row-name-text\">Fugit Village</span>\n",
      "<span class=\"rest-row-name-text\">Reprehenderit</span>\n",
      "<span class=\"rest-row-name-text\">Non Rapid</span>\n",
      "<span class=\"rest-row-name-text\">Est McCullough</span>\n",
      "<span class=\"rest-row-name-text\">Well</span>\n",
      "<span class=\"rest-row-name-text\">Nitzsche</span>\n",
      "<span class=\"rest-row-name-text\">Est Port</span>\n",
      "<span class=\"rest-row-name-text\">Nesciunt Shields</span>\n",
      "<span class=\"rest-row-name-text\">Eaque Common</span>\n",
      "<span class=\"rest-row-name-text\">Luettgen</span>\n",
      "<span class=\"rest-row-name-text\">Quo</span>\n",
      "<span class=\"rest-row-name-text\">Abagails</span>\n",
      "<span class=\"rest-row-name-text\">Corwin</span>\n",
      "<span class=\"rest-row-name-text\">Alessandro Way</span>\n",
      "<span class=\"rest-row-name-text\">Autem Greens</span>\n",
      "<span class=\"rest-row-name-text\">Path</span>\n",
      "<span class=\"rest-row-name-text\">Griffin Kling</span>\n",
      "<span class=\"rest-row-name-text\">Et</span>\n",
      "<span class=\"rest-row-name-text\">Dicki</span>\n",
      "<span class=\"rest-row-name-text\">Qui Hoppe</span>\n",
      "<span class=\"rest-row-name-text\">Deleniti Ville</span>\n",
      "<span class=\"rest-row-name-text\">Estates</span>\n",
      "<span class=\"rest-row-name-text\">Roads</span>\n",
      "<span class=\"rest-row-name-text\">Dameon Dam</span>\n",
      "<span class=\"rest-row-name-text\">Delectus Rice</span>\n",
      "<span class=\"rest-row-name-text\">Sapiente Robel</span>\n",
      "<span class=\"rest-row-name-text\">Henri Squares</span>\n",
      "<span class=\"rest-row-name-text\">Earum Underpass</span>\n",
      "<span class=\"rest-row-name-text\">Muhammad Bridge</span>\n",
      "<span class=\"rest-row-name-text\">Elinor Sauer</span>\n",
      "<span class=\"rest-row-name-text\">Breitenberg Ferry</span>\n",
      "<span class=\"rest-row-name-text\">Alysha Shore</span>\n",
      "<span class=\"rest-row-name-text\">Rest</span>\n",
      "<span class=\"rest-row-name-text\">Commodi Cliffs</span>\n",
      "<span class=\"rest-row-name-text\">Bins</span>\n",
      "<span class=\"rest-row-name-text\">Shoals</span>\n",
      "<span class=\"rest-row-name-text\">Taya Glen</span>\n",
      "<span class=\"rest-row-name-text\">Quas</span>\n",
      "<span class=\"rest-row-name-text\">Zetta Prohaska</span>\n",
      "<span class=\"rest-row-name-text\">Dolor</span>\n",
      "<span class=\"rest-row-name-text\">Clemmies</span>\n",
      "<span class=\"rest-row-name-text\">Agloe Bar &amp; Grill</span>\n",
      "<span class=\"rest-row-name-text\">Leonards</span>\n",
      "<span class=\"rest-row-name-text\">1060 Gibson</span>\n",
      "<span class=\"rest-row-name-text\">Doloribus</span>\n",
      "<span class=\"rest-row-name-text\">Ea Camp</span>\n",
      "<span class=\"rest-row-name-text\">Feest</span>\n"
     ]
    }
   ],
   "source": [
    "# A:\n",
    "for i in soup.find_all(name='span', attrs={'class':'rest-row-name-text'}):\n",
    "    print(i)"
   ]
  },
  {
   "cell_type": "markdown",
   "metadata": {},
   "source": [
    "**5.B Create a list of _only_ the restaurant names (no tags).**\n"
   ]
  },
  {
   "cell_type": "code",
   "execution_count": 12,
   "metadata": {},
   "outputs": [
    {
     "name": "stdout",
     "output_type": "stream",
     "text": [
      "Sydnies\n",
      "Cove\n",
      "Velit Stream\n",
      "Bryana Klocko\n",
      "Vitae View\n",
      "A Valleys\n",
      "Consequatur Lane\n",
      "Sipes\n",
      "Klocko\n",
      "Altenwerth\n",
      "Reprehenderit Ford\n",
      "Paige Sipes\n",
      "Wilfred Nader\n",
      "Durgan\n",
      "Distinctio Grove\n",
      "Perspiciatis Mountains\n",
      "Commodi Nader\n",
      "512 Gorczany\n",
      "Odit Langworth\n",
      "Dolorem\n",
      "Edgardo Course\n",
      "Rerum Kozey\n",
      "Saiges\n",
      "Qui Glen\n",
      "Wilhelm Cliffs\n",
      "Placeat Club\n",
      "Laudantium Pagac\n",
      "951 Olson\n",
      "Unions\n",
      "Suscipit Windler\n",
      "Est Cremin\n",
      "642 Cassin\n",
      "Kohler\n",
      "Charity Summit\n",
      "Motorway\n",
      "Harum Lueilwitz\n",
      "Crossing\n",
      "Larkin\n",
      "Ipsa Plaza\n",
      "Mountain\n",
      "Et\n",
      "Peters\n",
      "1097 Bode\n",
      "Robel\n",
      "71 Pfeffer\n",
      "Manor\n",
      "Leopoldo Welch\n",
      "Facere Kuhlman\n",
      "Debitis Harvey\n",
      "79 Schuster\n",
      "Toy Mission\n",
      "Ullam Langosh\n",
      "Linas\n",
      "Fugit Village\n",
      "Reprehenderit\n",
      "Non Rapid\n",
      "Est McCullough\n",
      "Well\n",
      "Nitzsche\n",
      "Est Port\n",
      "Nesciunt Shields\n",
      "Eaque Common\n",
      "Luettgen\n",
      "Quo\n",
      "Abagails\n",
      "Corwin\n",
      "Alessandro Way\n",
      "Autem Greens\n",
      "Path\n",
      "Griffin Kling\n",
      "Et\n",
      "Dicki\n",
      "Qui Hoppe\n",
      "Deleniti Ville\n",
      "Estates\n",
      "Roads\n",
      "Dameon Dam\n",
      "Delectus Rice\n",
      "Sapiente Robel\n",
      "Henri Squares\n",
      "Earum Underpass\n",
      "Muhammad Bridge\n",
      "Elinor Sauer\n",
      "Breitenberg Ferry\n",
      "Alysha Shore\n",
      "Rest\n",
      "Commodi Cliffs\n",
      "Bins\n",
      "Shoals\n",
      "Taya Glen\n",
      "Quas\n",
      "Zetta Prohaska\n",
      "Dolor\n",
      "Clemmies\n",
      "Agloe Bar & Grill\n",
      "Leonards\n",
      "1060 Gibson\n",
      "Doloribus\n",
      "Ea Camp\n",
      "Feest\n"
     ]
    }
   ],
   "source": [
    "# A:\n",
    "for i in soup.find_all(name='span', attrs={'class':'rest-row-name-text'}):\n",
    "    print(i.text)"
   ]
  },
  {
   "cell_type": "markdown",
   "metadata": {},
   "source": [
    "### 6. Repeat this process but for location.\n",
    "\n",
    "For example, barmini by Jose Andres is in the location listed as \"Penn Quarter\" in our search results."
   ]
  },
  {
   "cell_type": "code",
   "execution_count": 7,
   "metadata": {
    "collapsed": true
   },
   "outputs": [],
   "source": [
    "# A:\n"
   ]
  },
  {
   "cell_type": "markdown",
   "metadata": {},
   "source": [
    "### 7. Get the price for each restaurant.\n",
    "\n",
    "The price is number of dollar signs on a scale of one to four for each restaurant. We'll follow the same process."
   ]
  },
  {
   "cell_type": "code",
   "execution_count": 8,
   "metadata": {
    "collapsed": true
   },
   "outputs": [],
   "source": [
    "# A:"
   ]
  },
  {
   "cell_type": "markdown",
   "metadata": {},
   "source": [
    "**7.B Convert the dollar sign strings to a count of the number of dollar signs.**\n",
    "\n",
    "Can you figure out a way to simply print out the number of dollar signs per restaurant listed?"
   ]
  },
  {
   "cell_type": "code",
   "execution_count": 9,
   "metadata": {
    "collapsed": true
   },
   "outputs": [],
   "source": [
    "# A:"
   ]
  },
  {
   "cell_type": "markdown",
   "metadata": {},
   "source": [
    "### 8. Can you find the number of times a restaurant was booked.\n",
    "\n",
    "In the next cell, print out a sample of objects that contain the number of times the restaurant was booked.\n",
    "\n",
    "> *Note: if you can't, why do you think this is happening?*"
   ]
  },
  {
   "cell_type": "code",
   "execution_count": 10,
   "metadata": {
    "collapsed": true
   },
   "outputs": [],
   "source": [
    "# A:"
   ]
  },
  {
   "cell_type": "markdown",
   "metadata": {},
   "source": [
    "## Enter Selenium\n",
    "\n",
    "---\n",
    "\n",
    "Selenium is a headless browser. That means it enables us to mock human browsing behavior -- even waiting for JavaScript elements to load.\n",
    "\n",
    "If you do not already have Selenium installed, you can do so via pip. Simply: `pip install selenium`"
   ]
  },
  {
   "cell_type": "code",
   "execution_count": 11,
   "metadata": {
    "collapsed": true
   },
   "outputs": [],
   "source": [
    "# import\n",
    "from selenium import webdriver"
   ]
  },
  {
   "cell_type": "markdown",
   "metadata": {},
   "source": [
    "Selenium requires us to determine a default browser to run. I'm going to opt for Firefox, but Chromium is also a very common choice. http://selenium-python.readthedocs.io/faq.html"
   ]
  },
  {
   "cell_type": "markdown",
   "metadata": {
    "collapsed": true
   },
   "source": [
    "### 9. What is going to happen when I run the next cell?\n",
    "\n",
    "The chromedriver (for mac) is already contained in this repository.\n",
    "\n",
    "For other OS's, just download the latest appropriate driver from [here](https://sites.google.com/a/chromium.org/chromedriver/downloads) and run the following commands from the folder containing the chromedriver you downloaded:\n",
    "\n",
    "`$sudo mv chromedriver /usr/bin/chromedriver`  \n",
    "`$sudo chown root:root /usr/bin/chromedriver`  \n",
    "`$sudo chmod +x /usr/bin/chromedriver`"
   ]
  },
  {
   "cell_type": "code",
   "execution_count": 12,
   "metadata": {
    "collapsed": true
   },
   "outputs": [],
   "source": [
    "# create a driver called driver\n",
    "# If mac use: \n",
    "# driver = webdriver.Chrome(executable_path=\"../chromedriver/chromedriver\")\n",
    "# Else follow directions above and use command below:\n",
    "# driver = webdriver.Chrome(executable_path=\"/usr/bin/chromedriver\")\n",
    "#driver = webdriver.Firefox()"
   ]
  },
  {
   "cell_type": "markdown",
   "metadata": {},
   "source": [
    "Pretty crazy, right? Let's close that driver.\n",
    "\n",
    "In case you're wondering. this should have opened up a new browswer window.  Check all of your desktop displays if you didn't see it automatically pop up."
   ]
  },
  {
   "cell_type": "code",
   "execution_count": 13,
   "metadata": {
    "collapsed": true
   },
   "outputs": [],
   "source": [
    "# close it\n",
    "# driver.close()"
   ]
  },
  {
   "cell_type": "markdown",
   "metadata": {},
   "source": [
    "### 10. Use the driver to visit `www.python.org`"
   ]
  },
  {
   "cell_type": "code",
   "execution_count": 14,
   "metadata": {
    "collapsed": true
   },
   "outputs": [],
   "source": [
    "# A:"
   ]
  },
  {
   "cell_type": "markdown",
   "metadata": {},
   "source": [
    "### 11. Visit the OpenTable page using the driver\n",
    "\n",
    "Let's return to our problem at hand. We need to visit the OpenTable listing for DC. Once there, we need to get the html to load. \n",
    "\n",
    "In the next cell, prove you can programmatically visit the page."
   ]
  },
  {
   "cell_type": "code",
   "execution_count": 15,
   "metadata": {
    "collapsed": true
   },
   "outputs": [],
   "source": [
    "# A:"
   ]
  },
  {
   "cell_type": "markdown",
   "metadata": {},
   "source": [
    "### 12. Resolve the javascript issue using the driver and find the bookings.\n",
    "\n",
    "What we can do in this case is:\n",
    "1. Request that the page load\n",
    "2. wait one second\n",
    "3. grab the source html from the page \n",
    "\n",
    "Because the page should believe I'm visiting from a live connection on a browser client, the JavaScript should render to be a part of the page source. I can then grab the page source.\n",
    "\n",
    "**Once you have the HTML with the javascript rendered, repeat the processes above to find the bookings.**"
   ]
  },
  {
   "cell_type": "code",
   "execution_count": 16,
   "metadata": {
    "collapsed": true
   },
   "outputs": [],
   "source": [
    "# import sleep\n",
    "from time import sleep"
   ]
  },
  {
   "cell_type": "code",
   "execution_count": 17,
   "metadata": {
    "collapsed": true
   },
   "outputs": [],
   "source": [
    "# A:"
   ]
  },
  {
   "cell_type": "markdown",
   "metadata": {},
   "source": [
    "### 13. Can we get all of the items we want from the page in a single `find_all`?\n",
    "\n",
    "To be most efficient, we want to only do a single loop for each entry on the page. That means we want to find what element all of other other elements (name, location, price, bookings) is housed within. Where on the page is each entry located?"
   ]
  },
  {
   "cell_type": "code",
   "execution_count": 18,
   "metadata": {
    "collapsed": true
   },
   "outputs": [],
   "source": [
    "# A:"
   ]
  },
  {
   "cell_type": "markdown",
   "metadata": {},
   "source": [
    "### 14. Does every single entry have each element we want?"
   ]
  },
  {
   "cell_type": "code",
   "execution_count": 19,
   "metadata": {
    "collapsed": true
   },
   "outputs": [],
   "source": [
    "# A:"
   ]
  },
  {
   "cell_type": "markdown",
   "metadata": {},
   "source": [
    "### 15. Use python exceptions to handle cases when bookings aren't found.\n",
    "\n",
    "When a booking is not found, store `'ZERO'`."
   ]
  },
  {
   "cell_type": "code",
   "execution_count": 20,
   "metadata": {
    "collapsed": true
   },
   "outputs": [],
   "source": [
    "# A:"
   ]
  },
  {
   "cell_type": "markdown",
   "metadata": {},
   "source": [
    "### 16. Putting it all together in a dataframe.\n",
    "\n",
    "**Loop through each entry. For each entry:**\n",
    "1. Grab the relevant information we want (name, location, price, bookings). \n",
    "2. Produce a dataframe with the columns \"name\",\"location\",\"price\",\"bookings\" that contains the 100 entries we would like."
   ]
  },
  {
   "cell_type": "code",
   "execution_count": 21,
   "metadata": {
    "collapsed": true
   },
   "outputs": [],
   "source": [
    "# A:"
   ]
  },
  {
   "cell_type": "markdown",
   "metadata": {},
   "source": [
    "### 17. [Bonus] Sending keys over the driver.\n",
    "\n",
    "We can send keys to the page using the driver. Below is a demonstration of how to search the page using the Selenium driver."
   ]
  },
  {
   "cell_type": "code",
   "execution_count": 22,
   "metadata": {
    "collapsed": true
   },
   "outputs": [],
   "source": [
    "# we can send keys as well\n",
    "# from selenium.webdriver.common.keys import Keys"
   ]
  },
  {
   "cell_type": "code",
   "execution_count": 23,
   "metadata": {
    "collapsed": true
   },
   "outputs": [],
   "source": [
    "# # open the driver\n",
    "# driver = webdriver.Chrome(executable_path=\"./chromedriver/chromedriver\")\n",
    "\n",
    "# # visit Python\n",
    "# driver.get(\"http://www.python.org\")\n",
    "\n",
    "# # verify we're in the right place\n",
    "# assert \"Python\" in driver.title"
   ]
  },
  {
   "cell_type": "code",
   "execution_count": 24,
   "metadata": {
    "collapsed": true
   },
   "outputs": [],
   "source": [
    "# # find the search position\n",
    "# elem = driver.find_element_by_name(\"q\")\n",
    "# # clear it\n",
    "# elem.clear()\n",
    "# # type in pycon\n",
    "# elem.send_keys(\"pycon\")\n"
   ]
  },
  {
   "cell_type": "code",
   "execution_count": 25,
   "metadata": {
    "collapsed": true
   },
   "outputs": [],
   "source": [
    "# # send those keys\n",
    "# elem.send_keys(Keys.RETURN)\n",
    "\n",
    "# # no results\n",
    "# assert \"No results found.\" not in driver.page_source"
   ]
  },
  {
   "cell_type": "code",
   "execution_count": 26,
   "metadata": {
    "collapsed": true
   },
   "outputs": [],
   "source": [
    "# driver.close()"
   ]
  },
  {
   "cell_type": "code",
   "execution_count": 27,
   "metadata": {
    "collapsed": true
   },
   "outputs": [],
   "source": [
    "# # all at once:\n",
    "# driver = webdriver.Chrome(executable_path=\"./chromedriver/chromedriver\")\n",
    "# driver.get(\"http://www.python.org\")\n",
    "# assert \"Python\" in driver.title\n",
    "# elem = driver.find_element_by_name(\"q\")\n",
    "# elem.clear()\n",
    "# elem.send_keys(\"pycon\")\n",
    "# elem.send_keys(Keys.RETURN)\n",
    "# assert \"No results found.\" not in driver.page_source\n",
    "# driver.close()"
   ]
  },
  {
   "cell_type": "markdown",
   "metadata": {},
   "source": [
    "## Additional resources\n",
    "\n",
    "---\n",
    "\n",
    "The above example (and many others) are available in the Selenium docs: http://selenium-python.readthedocs.io/getting-started.html\n",
    "\n",
    "What is especially important is exploring functionality like locating elements: http://selenium-python.readthedocs.io/locating-elements.html#locating-elements\n",
    "\n",
    "FAQ:\n",
    "http://selenium-python.readthedocs.io/faq.html"
   ]
  }
 ],
 "metadata": {
  "kernelspec": {
   "display_name": "Python 3",
   "language": "python",
   "name": "python3"
  },
  "language_info": {
   "codemirror_mode": {
    "name": "ipython",
    "version": 3
   },
   "file_extension": ".py",
   "mimetype": "text/x-python",
   "name": "python",
   "nbconvert_exporter": "python",
   "pygments_lexer": "ipython3",
   "version": "3.6.2"
  }
 },
 "nbformat": 4,
 "nbformat_minor": 1
}
