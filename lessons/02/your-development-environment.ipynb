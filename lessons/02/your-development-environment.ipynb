{
 "cells": [
  {
   "cell_type": "markdown",
   "metadata": {
    "slideshow": {
     "slide_type": "notes"
    }
   },
   "source": [
    "> **Jupyter slideshow:** This notebook can be displayed as slides. To view it as a slideshow in your browser, type the following into the console:\n",
    "\n",
    "\n",
    "> `> ipython nbconvert [this_notebook.ipynb] --to slides --post serve`\n",
    "\n",
    "\n",
    "> To toggle off the slideshow cell formatting, click the `CellToolbar` button, then `View --> Cell Toolbar --> None`."
   ]
  },
  {
   "cell_type": "markdown",
   "metadata": {
    "slideshow": {
     "slide_type": "slide"
    }
   },
   "source": [
    "<img src=\"http://imgur.com/1ZcRyrc.png\" style=\"float: left; margin: 20px; height: 55px\">\n",
    "\n",
    "## Your Development Environment\n",
    "\n",
    "_Authors: Kiefer Katovich (San Francisco), Dave Yerrington (San Francisco), Sam Stack (Washington, D.C.)_"
   ]
  },
  {
   "cell_type": "markdown",
   "metadata": {
    "slideshow": {
     "slide_type": "slide"
    }
   },
   "source": [
    "## Student Pre-Work \n",
    "\n",
    "**Mac**\n",
    "- Install [Homebrew](http://brew.sh/).\n",
    "- Install Git (after installing Homebrew, type \"brew install git\").  \n",
    "\n",
    "**Windows**  \n",
    "- Install [Git Bash](https://git-for-windows.github.io/)."
   ]
  },
  {
   "cell_type": "markdown",
   "metadata": {
    "slideshow": {
     "slide_type": "slide"
    }
   },
   "source": [
    "\n",
    "### Learning Objectives\n",
    "\n",
    "#### Part 1: Using the Command Line\n",
    "_After this lesson, you will be able to:_\n",
    "- Create folders and files using the command line (mkdir, touch).\n",
    "- Change directories and list directory content (cd, ls).\n",
    "- Check the current working directory (pwd)."
   ]
  },
  {
   "cell_type": "markdown",
   "metadata": {
    "slideshow": {
     "slide_type": "subslide"
    }
   },
   "source": [
    "#### Part 2: Git and GitHub\n",
    "*After this lesson, you will be able to:*\n",
    "- Use and explain common Git commands, including `init`, `add`, `commit`, `push`, `pull`, and `clone`.\n",
    "- Distinguish between local and remote repositories.\n",
    "- Create, copy, and delete repositories locally or on GitHub.\n",
    "- Clone remote repositories.\n",
    "- Establish Secure Shell connections to remote repositories."
   ]
  },
  {
   "cell_type": "markdown",
   "metadata": {
    "slideshow": {
     "slide_type": "slide"
    }
   },
   "source": [
    "## Lesson Guide\n",
    "\n",
    "---\n",
    "### [Part 1: Using the Command Line](#command)\n",
    "- [Introduction](#introduction)\n",
    "- [Command Line](#command_line)\n",
    "- [Paths](#paths)\n",
    "- [Editing and Examining Files](#editing_files)\n",
    "- [Finding Files](#finding_files)\n",
    "- [Independent Practice](#independent_practice)\n",
    "- [Environments for Data Science](#ide)\n",
    "- [Conclusion](#conclusion)"
   ]
  },
  {
   "cell_type": "markdown",
   "metadata": {
    "slideshow": {
     "slide_type": "subslide"
    }
   },
   "source": [
    "### [Part 2: Git and GitHub](#git_github)\n",
    "- [Introduction](#introduction2)  \n",
    "- [Git Basics](#git_basics) \n",
    "- [GitHub & GitHub Enterprise Accounts](#gh_ghe_accounts)\n",
    "- [Creating and Cloning Repos](#making_cloning) \n",
    "- [Pulling](#pulling)  \n",
    "- [Secure Shell (SSH)](#ssh) \n",
    "- [Independent Practice](#independent_practice2)  \n",
    "- [Conclusion](#conclusion2)"
   ]
  },
  {
   "cell_type": "markdown",
   "metadata": {
    "slideshow": {
     "slide_type": "slide"
    }
   },
   "source": [
    "<a id='command'></a>\n",
    "## Using the Command Line\n",
    "\n",
    "<a id='introduction'></a>\n",
    "\n",
    "####  What is a GUI?\n",
    "\n",
    "---"
   ]
  },
  {
   "cell_type": "markdown",
   "metadata": {
    "slideshow": {
     "slide_type": "fragment"
    }
   },
   "source": [
    "There was a time when computers didn't come with a graphical user interface (GUI, pronounced \"gooey\"). Instead, everyone interacted with the computer using text commands in what we call a command-line interface (CLI).\n",
    "\n",
    "<img src=\"./assets/dos_wikimedia.png\" style=\"width: 750px;\"/>\n",
    "\n",
    "*Image from Wikimedia*"
   ]
  },
  {
   "cell_type": "markdown",
   "metadata": {
    "slideshow": {
     "slide_type": "subslide"
    }
   },
   "source": [
    "Today, the command line still exists, even though you may have never seen it as a casual computer user. However, knowing basic CLI commands is a useful skill.\n",
    "\n",
    "This CLI is the gateway to your operating system and can perform many of the same actions without a graphical interface. It is also facilitated by what we call a \"shell.\""
   ]
  },
  {
   "cell_type": "markdown",
   "metadata": {
    "slideshow": {
     "slide_type": "subslide"
    }
   },
   "source": [
    "<a id='command_line'></a>\n",
    "\n",
    "\n",
    "## Why Command Line?\n",
    "\n",
    "---\n",
    "\n",
    "Everything you can do in a windowed environment, you can do in the terminal — and faster. When you use the mouse, click on buttons, confirm operations, or wait for windows to load, you waste time! Terminal commands can assist you with:\n",
    "\n",
    "* Running processes\n",
    "* Finding files\n",
    "* Substring match of file contents\n",
    "* Assessing performance\n",
    "* Remote operations\n",
    "* Web browsing\n",
    "* Installing packages\n",
    "* Managing your development environment"
   ]
  },
  {
   "cell_type": "markdown",
   "metadata": {
    "slideshow": {
     "slide_type": "subslide"
    }
   },
   "source": [
    "## What Is a Shell?\n",
    "\n",
    "---\n",
    "\n",
    "A shell is a type of command-line program that contains a simple, text-based user interface, enabling us to access all of an operating system's services. It is, put simply, a program that accepts text as an input and translates that text into the appropriate functions you want your computer to run.\n",
    "\n",
    "*Taken from Just for Fun: [Type like a hacker](http://hackertyper.com/)*\n",
    "\n",
    "Running applications, checking settings such as free hard drive space, and even web browsing can all happen from the shell."
   ]
  },
  {
   "cell_type": "markdown",
   "metadata": {
    "slideshow": {
     "slide_type": "subslide"
    }
   },
   "source": [
    "**Windows Users**\n",
    "\n",
    "In Windows, you can access a shell in several ways:\n",
    "+ **Windows Command Prompt:** A legacy DOS-based shell. Press `Win-R` to open a Run dialog. Then, enter `cmd` to open the shell.\n",
    "+ **Windows PowerShell:** The official Windows-native shell and scripting language, intended to replace the antiquated Command Prompt.\n",
    "+ **Windows Subsystem for Linux:** New to Windows 10, this allows you to run Ubuntu (a popular Linux distribution) natively in Windows. [You must turn on this Windows feature manually.](https://docs.microsoft.com/en-us/windows/wsl/install-win10)"
   ]
  },
  {
   "cell_type": "markdown",
   "metadata": {
    "slideshow": {
     "slide_type": "subslide"
    }
   },
   "source": [
    "**Windows Users**\n",
    "\n",
    "In this class, we will use a popular UNIX shell called `bash`. If you have not already, we recommend installing [Git Bash](https://git-for-windows.github.io/).\n",
    "\n",
    "**What Is Git Bash?**\n",
    "Git Bash provides a set of executables that emulate `bash` commands in the Windows shells.\n",
    "\n",
    "**Why?**\n",
    "Since UNIX is the prefered operating system for programmers and developers alike, almost all of the lessons at GA have been written for interaction with UNIX.  \n",
    "\n",
    "**Pro Tip:** UNIX commands and Windows commands are not polar opposites — in fact, most of their commands and interactions are quite similar."
   ]
  },
  {
   "cell_type": "markdown",
   "metadata": {
    "slideshow": {
     "slide_type": "subslide"
    }
   },
   "source": [
    "## Forget Finder — Get Fast at Using Your Laptop\n",
    "\n",
    "---\n",
    "\n",
    "#### Opening and Closing Terminal\n",
    "\n",
    "First, we need to launch the command prompt. We do this by using Spotlight:\n",
    "\n",
    "- ⌘ (Command) + Space\n",
    "- \"Terminal\"\n",
    "- Enter\n",
    "\n",
    "Notice that you can actually hit enter as soon as the field autocompletes. Get used to taking shortcuts — don't type the whole word out if you don't have to, and avoid using your mouse if you can open or use an app with just keyboard shortcuts. It may seem hard right now, but, when you get used to it, it will save you hours of time cumulatively."
   ]
  },
  {
   "cell_type": "markdown",
   "metadata": {
    "slideshow": {
     "slide_type": "slide"
    }
   },
   "source": [
    "<a id='paths'></a>\n",
    "\n",
    "## Paths\n",
    "\n",
    "---\n",
    "\n",
    "Every file or folder in a file system can be read, written, and deleted by referencing its position inside that system. When we talk about the position of a file or a folder in a file system, we refer to its \"path.\" There are two different kinds of paths we can use to refer to a file — **absolute paths** and **relative paths**.\n",
    "\n",
    "**Directory** is an important term that is typically used interchangeably with *folder*. Technically, a folder contains the files themselves, whereas a directory is just a listing of them (e.g. a student directory). That said, when we say \"navigate to your project directory,\" think of it as \"navigate to your project folder.\""
   ]
  },
  {
   "cell_type": "markdown",
   "metadata": {
    "slideshow": {
     "slide_type": "subslide"
    }
   },
   "source": [
    "### What Is an Absolute Path?\n",
    "\n",
    "All files can created, updated, or deleted using the command line interface. We do this by referencing **paths**; either relative or absolute.\n",
    "\n",
    "An absolute path is the specific location of a file or folder as accessed from the root directory, typically shown as `/`. The root directory is the starting point from which all other folders are defined and is not usually the same as your **home** directory, which is normally found at `/Users/[Your Username]`."
   ]
  },
  {
   "cell_type": "markdown",
   "metadata": {
    "slideshow": {
     "slide_type": "subslide"
    }
   },
   "source": [
    "### Working With UNIX Commands and File Paths\n",
    "\n",
    "Typing **`cd`** — a command for \"change directory\" — with no parameters takes us to our home directory.\n",
    "\n",
    "```bash\n",
    "cd\n",
    "```\n",
    "\n",
    "If we type in `pwd` — a command for \"print working directory\" — from that folder, we can see where we are in relation to the root directory. The `pwd` command will always give you the absolute path of your current location.\n",
    "\n",
    "Here's an example of absolute path:\n",
    "\n",
    "```bash\n",
    "open /Users/Lucy/desktop/a/b/c/file.txt\n",
    "```\n",
    "\n",
    "Notice that this path starts from `/` directory, which is a root directory for every Linux/Unix machine."
   ]
  },
  {
   "cell_type": "markdown",
   "metadata": {
    "slideshow": {
     "slide_type": "subslide"
    }
   },
   "source": [
    "### What Is a Relative Path?\n",
    "\n",
    "A relative path is a reference to a file or folder **relative** to your current position or the present working directory (pwd). If we are in the folder `/a/b/` and we want to open the file that has the absolute path `/a/b/c/file.txt`, we can simply type:\n",
    "\n",
    "```bash\n",
    "open c/file.txt\n",
    "```\n",
    "\n",
    "or\n",
    "\n",
    "```bash\n",
    "open ./c/file.txt\n",
    "```\n",
    "\n",
    "We can also use the absolute path at any time by adding a slash to the beginning of the relative path. The absolute path is the same for a file or a folder, regardless of the current working directory, but relative paths differ based on directory. Directory structures are laid out like so: `directory/subdirectory/subsubdirectory`."
   ]
  },
  {
   "cell_type": "markdown",
   "metadata": {
    "slideshow": {
     "slide_type": "subslide"
    }
   },
   "source": [
    "**Check:** What is the difference between an absolute path and a relative path?"
   ]
  },
  {
   "cell_type": "markdown",
   "metadata": {
    "slideshow": {
     "slide_type": "subslide"
    }
   },
   "source": [
    "\n",
    "### Navigating Using the Command Prompt\n",
    "\n",
    "* Changing directories\n",
    "* Listing files\n",
    "* Creating directories and files\n",
    "* Removing files\n",
    "\n",
    "The tilde (`~`) character is an alias for your home directory. Use it to quickly return home.\n",
    "\n",
    "```bash\n",
    "cd ~\n",
    "```\n",
    "\n",
    "Or, even more simply, you can type:\n",
    "\n",
    "```bash\n",
    "cd\n",
    "```\n",
    "\n",
    "The tilde is useful for shortening paths that would otherwise be absolute. For example, to navigate to your desktop, you can type:\n",
    "\n",
    "```bash\n",
    "cd ~/Desktop\n",
    "```\n"
   ]
  },
  {
   "cell_type": "markdown",
   "metadata": {
    "slideshow": {
     "slide_type": "subslide"
    }
   },
   "source": [
    "The `ls` command lists files and directories in the current folder.\n",
    "```bash\n",
    "ls\n",
    "```\n",
    "\n",
    "It can also be used to list files located in any directory. For example, to list your applications, you can type:\n",
    "```bash\n",
    "ls /Applications\n",
    "```"
   ]
  },
  {
   "cell_type": "markdown",
   "metadata": {
    "slideshow": {
     "slide_type": "subslide"
    }
   },
   "source": [
    "To make a new directory, type:\n",
    "```bash\n",
    "mkdir folder\n",
    "```\n",
    "\n",
    "To create a new file, type:\n",
    "```bash\n",
    "touch file1\n",
    "```\n",
    "\n",
    "To remove a file, type:\n",
    "```bash\n",
    "rm file1\n",
    "```"
   ]
  },
  {
   "cell_type": "markdown",
   "metadata": {
    "slideshow": {
     "slide_type": "subslide"
    }
   },
   "source": [
    "### General Format for Commands\n",
    "\n",
    "`<command> -<options> <arguments>`\n",
    "* `<command>` is the action we want the computer to take.\n",
    "* `<options>` (or \"flags\") modify the behavior of the command.\n",
    "* `<arguments>` are the things we want the command to act on."
   ]
  },
  {
   "cell_type": "markdown",
   "metadata": {
    "slideshow": {
     "slide_type": "subslide"
    }
   },
   "source": [
    "### Using Wildcards in the Command Prompt\n",
    "\n",
    "The wildcard symbol (`*`) is useful for using commands to operate on multiple\n",
    "files. To provide an example, first create a folder on your desktop and add some\n",
    "files.\n",
    "```bash\n",
    "mkdir ~/Desktop/example_folder\n",
    "cd ~/Desktop/example_folder\n",
    "touch cat.txt\n",
    "touch dog.txt\n",
    "touch bird.txt\n",
    "touch fish.txt\n",
    "```\n",
    "\n",
    "You can then use the wildcard `*` to operate on subsets of files. List any\n",
    "file with \"i\" in the file name, for example:\n",
    "```bash\n",
    "ls *i*\n",
    "```\n",
    "\n",
    "Or, remove any file with \"d\":\n",
    "```bash\n",
    "rm *d*\n",
    "ls\n",
    "```"
   ]
  },
  {
   "cell_type": "markdown",
   "metadata": {
    "slideshow": {
     "slide_type": "subslide"
    }
   },
   "source": [
    "### Hidden Directories Can Also Be Found\n",
    "\n",
    "There are hidden directories all over your file system — mainly to save you from youself. Using the parameters `-lha` to `ls`, we can find these directories.\n",
    "\n",
    "```bash\n",
    "ls -lha\n",
    "```\n",
    "<pre>\n",
    "-l: &nbsp;&nbsp; One entry per line.\n",
    "-h: &nbsp;&nbsp; When used with the -l option, use unit suffixes: byte, kilobyte, megabyte, etc.\n",
    "-a: &nbsp;&nbsp; Include directory entries whose names begin with a dot (.).\n",
    "</pre>"
   ]
  },
  {
   "cell_type": "markdown",
   "metadata": {
    "slideshow": {
     "slide_type": "slide"
    }
   },
   "source": [
    "<a id='editing_files'></a>\n",
    "## Editing and Examining Files\n",
    "\n",
    "---\n",
    "\n",
    "At times it's helpful to edit files in a pinch. We can accomplish this by using the terminal editor `nano`.\n",
    "\n",
    "Use the following syntax to edit files from the terminal with `nano`:\n",
    "\n",
    "`nano [filename]`\n",
    "\n",
    "These hotkeys are available:\n",
    "\n",
    "* **ctrl-w**: Search within file.\n",
    "* **ctrl-o**: Save file as [filename].\n",
    "* **ctrl-x**: Exit editor.\n",
    "\n",
    "*The bottom of the editor contains the most common operations.*"
   ]
  },
  {
   "cell_type": "markdown",
   "metadata": {
    "slideshow": {
     "slide_type": "subslide"
    }
   },
   "source": [
    "### Echo File Content to the Terminal\n",
    "\n",
    "Sometimes it's nice to view the contents of files as text. There are a variety of ways to do this. The commands `cat`, `head`, and `tail` will allow us to view the entire or partial contents of a target file.\n",
    "\n",
    "The `cat` command is typically used to quickly display short files. (`cat` is also used for concatenating files, hence its name!)\n",
    "\n",
    "```\n",
    "cat /etc/passwd\n",
    "```\n",
    "\n",
    "Traditionally, the /etc/passwd file is used to keep track of every registered user with access to a system."
   ]
  },
  {
   "cell_type": "markdown",
   "metadata": {
    "slideshow": {
     "slide_type": "subslide"
    }
   },
   "source": [
    "**Only the first few lines of a file**\n",
    "\n",
    "This command is useful when looking at files that might be too large to open in a traditional editor such as Sublime or Atom.\n",
    "```\n",
    "head /etc/passwd\n",
    "```\n",
    "\n",
    "**Only the last few lines of a file**\n",
    "```\n",
    "tail /etc/passwd\n",
    "```\n",
    "\n",
    "You can also pass the paramter `-n` to `head` and `tail` to control the amount of output displayed."
   ]
  },
  {
   "cell_type": "markdown",
   "metadata": {
    "slideshow": {
     "slide_type": "subslide"
    }
   },
   "source": [
    "### Searching Inside Files: `grep`\n",
    "\n",
    "The `grep` command will search within files and traverse within subdirectories.\n",
    "\n",
    "**Find all files with the word \"the\" inside.**\n",
    "```\n",
    "grep -r \"the\" *\n",
    "```\n",
    "\n",
    "Omitting `-r` will cause `grep` to only look within the current subdirectory.\n",
    "Using `-i` will make `grep` ignore the casing of characters, but at the expense of efficiency.\n"
   ]
  },
  {
   "cell_type": "markdown",
   "metadata": {
    "slideshow": {
     "slide_type": "slide"
    }
   },
   "source": [
    "<a id='finding_files'></a>\n",
    "\n",
    "## Finding Files\n",
    "\n",
    "---\n",
    "\n",
    "By far, the most useful operation from the terminal is finding files. `locate` finds files all over your file system.  The `find` command will find files relative to the current working directory but needs to be used in conjunction with a pipe operation."
   ]
  },
  {
   "cell_type": "markdown",
   "metadata": {
    "slideshow": {
     "slide_type": "fragment"
    }
   },
   "source": [
    "#### Finding All Notebook Files Within Subdirectories of the Current Working Directory\n",
    "`find . | grep ipynb`\n",
    "#### Finding Specific File(s) Within the Entire System\n",
    "`locate nanorc`\n",
    "#### Finding Specific File(s) With a Substring Match\n",
    "`locate log`"
   ]
  },
  {
   "cell_type": "markdown",
   "metadata": {
    "slideshow": {
     "slide_type": "subslide"
    }
   },
   "source": [
    "### Miscellaneous Trick: Counting the Number of Lines in a File\n",
    "\n",
    "At times, you may not want to load an entire file in memory. Using a combination of `head`, `tail`, `cat`, and a new command, `wc`, you can quickly assess the various size characteristics of any file.\n",
    "\n",
    "#### Find the number of lines in a file:\n",
    "```bash\n",
    "cat /etc/passwd | wc -l\n",
    "```\n",
    "\n",
    "#### Find the number of words in a file:\n",
    "```bash\n",
    "cat /etc/test.txt | wc -w\n",
    "```"
   ]
  },
  {
   "cell_type": "markdown",
   "metadata": {
    "slideshow": {
     "slide_type": "subslide"
    }
   },
   "source": [
    "### Have Questions About \"piping\"?\n",
    "Here's some optional (but highly recommended) reading about pipe and I/O redirection on the command line:\n",
    "\n",
    "\n",
    "* [I/O redirection](http://linuxcommand.org/lc3_lts0070.php)\n",
    "* [Good examples of piping commands together](http://unix.stackexchange.com/questions/30759/whats-a-good-example-of-piping-commands-together)\n"
   ]
  },
  {
   "cell_type": "markdown",
   "metadata": {
    "slideshow": {
     "slide_type": "slide"
    }
   },
   "source": [
    "<a id='independent_practice'></a>\n",
    "\n",
    "## Independent Practice\n",
    "\n",
    "---\n",
    "\n",
    "Try out the `mkdir`, `touch`, `cd`, `pwd`, and `ls` commands on your own. If you want, try out using the wildcard command as well."
   ]
  },
  {
   "cell_type": "markdown",
   "metadata": {
    "slideshow": {
     "slide_type": "slide"
    }
   },
   "source": [
    "<a id='ide'></a>\n",
    "## Intro to Development Environments\n",
    "\n",
    "In addition to being able to write commands in the Unix OS(mac) or Windows OS(PC) command language in the terminal, we can also execute commands in a variaty of languages like Python, Java and Git in terminal/command line as well.\n",
    "\n",
    "In your terminal, you can enter into a Python shell by simply typing `python`.\n",
    "\n",
    "Within the Python shell, we can execute Python expressions\n",
    "\n",
    "```python\n",
    ">>> # assigning a variable\n",
    ">>> x = 'hello world'\n",
    "\n",
    ">>> # printing a variables contents\n",
    ">>> print(x)\n",
    "hello world\n",
    "```"
   ]
  },
  {
   "cell_type": "markdown",
   "metadata": {
    "slideshow": {
     "slide_type": "subslide"
    }
   },
   "source": [
    "Writing and trouble shooting a lot of code in the terminal can be tedious, as it is hard to write several line scripts.  Almost all developers don't actually write their scripts in the command line; instead they use text editors or development environments to write their code.\n",
    "\n",
    "Try writing a `for loop` in the Python shell\n",
    "\n",
    "```python\n",
    "listo = [1, 5, 9]\n",
    "\n",
    "for item in listo:\n",
    "    print(itm)\n",
    "```\n",
    "\n",
    "We made an error in the second line of the `for loop` but we still have to rewrite the entire loop and we can't go back and just edit out mistake inline."
   ]
  },
  {
   "cell_type": "markdown",
   "metadata": {
    "slideshow": {
     "slide_type": "subslide"
    }
   },
   "source": [
    "## Common Environments for Data Science\n",
    "\n",
    "The Anaconda distribution we installed earlier comes with two useful Python-based development environments, `Spyder` and `Jupyter`. A common third-party environment is `PyCharm`.\n",
    "\n",
    "None of these environments is better than the other; you will even find many Python developers who only use a text editor to edit their code! That said, often Jupyter Notebook is preferred for quick experimentation and initial data exploration, whereas Spyder and Pycharm are preferred for writing non-notebook code files."
   ]
  },
  {
   "cell_type": "markdown",
   "metadata": {
    "slideshow": {
     "slide_type": "subslide"
    }
   },
   "source": [
    "**Jupyter Notebooks**\n",
    "\n",
    "Jupyter uses cell based execution, which means you can run all the code in a cell simultaneously. Jupyter notebooks also have markdown and slide show integration, which means they make great blog and instructional resources!  _All of the lessons in this class have been written in a Jupyter Notebook_.\n",
    "\n",
    "Jupyter Notebooks open in your default browser and can be opened from the Anaconda Navigator or from the command line by executing ```jupyter notebook```.\n",
    "\n",
    "- [28 Jupyter Notebook tips, tricks and shortcuts](https://www.dataquest.io/blog/jupyter-notebook-tips-tricks-shortcuts/)\n",
    "- [Markdown Cheatsheet](https://github.com/adam-p/markdown-here/wiki/Markdown-Here-Cheatsheet)"
   ]
  },
  {
   "cell_type": "markdown",
   "metadata": {
    "slideshow": {
     "slide_type": "subslide"
    }
   },
   "source": [
    "> An IDE (Integrated Development Environment) is a program that provides an all-in-one environment to programmers. For example, often in development you will open many programs all at once, e.g. Finder, a text editor, debugging terminal, a terminal window for displaying output, and a graphics editor. An IDE will provide all of these (and more!) inside a single application. That said, IDEs are often sluggish. So, many professional Python programmers prefer a plain text editor."
   ]
  },
  {
   "cell_type": "markdown",
   "metadata": {
    "slideshow": {
     "slide_type": "subslide"
    }
   },
   "source": [
    "**Spyder IDE (Integrated Development Environment)**\n",
    "\n",
    "Spyder has a selection-based execution which allows you to run all the code that you have _selected_ simultaneously.  Spyder is very similar to R Studio, supports Jupyter notebooks, and has several customizable windows for displaying output, variables, and computer usage.\n",
    "\n",
    "Syder is desktop software that opens in its own window. It can be opened from the Anaconda Navigator or from the command line by executing ```spyder```.\n",
    "\n",
    "- [Introduction to Spyder (Video)](https://www.youtube.com/watch?v=8JiWEZEnJ40)"
   ]
  },
  {
   "cell_type": "markdown",
   "metadata": {
    "slideshow": {
     "slide_type": "subslide"
    }
   },
   "source": [
    "**PyCharm IDE (by JetBrains)**\n",
    "\n",
    "PyCharm is an excellent fully-featured commercial IDE for writing Python code files. It has a free-of-charge Community Edition which has no restrictions. PyCharm is often used for developing larger Python applications. However, it offers powerful features that other environments lack such as debugging capabilities, intelligent code refactoring, and integration with Git.\n",
    "\n",
    "- [Free PyCharm Community Edition](https://www.jetbrains.com/pycharm/download)"
   ]
  },
  {
   "cell_type": "markdown",
   "metadata": {
    "slideshow": {
     "slide_type": "subslide"
    }
   },
   "source": [
    "### Text Editors\n",
    "\n",
    "In addition to IDEs, developers also use text editors to create or edit code and files. Text editors or more commonly used for files that are executed via the command line, as well as for software and website development.  \n",
    "\n",
    "Some common text editors that you may see or use include\n",
    "- [Sublime](https://www.sublimetext.com/)\n",
    "- [Atom](https://atom.io/)\n",
    "- [Notepad++](https://notepad-plus-plus.org/) (Windows)\n",
    "- [Vim](http://www.vim.org/)\n"
   ]
  },
  {
   "cell_type": "markdown",
   "metadata": {
    "slideshow": {
     "slide_type": "subslide"
    }
   },
   "source": [
    "### Independent Practice\n",
    "\n",
    "_Instructor Demo: Opening a Jupyter Notebook and Spyder Notebook_\n",
    "\n",
    "Open up a Jupyter Notebook with the Anaconda Navigator or command line and familiarze yourself with environment.\n",
    "- Execute some Python code\n",
    "- Add and remove cells\n",
    "- Change cell type\n",
    "- Look at the Cell, Kernel and Insert tabs\n",
    "\n",
    "Open up a Spyder Notebook with the Anaconda Navigator or command line and familiarize yourself with environment.\n",
    "- Execute some Python code\n",
    "- Look at the Editor, iPython Console and Variable Explorer pane\n",
    "> _if you dont see them go to `view` -> `panes`_"
   ]
  },
  {
   "cell_type": "markdown",
   "metadata": {
    "slideshow": {
     "slide_type": "subslide"
    }
   },
   "source": [
    "**Python Version** \n",
    "\n",
    "Please use this time to also check which version of Python you are running.  \n",
    "\n",
    "in your terminal type\n",
    "\n",
    "```bash\n",
    "python -V\n",
    "```\n",
    "\n",
    "Check the upper right hand corner of your Jupyter Notebook as well.\n",
    "\n",
    "This class uses Python 3.\n",
    "\n",
    "---"
   ]
  },
  {
   "cell_type": "markdown",
   "metadata": {
    "slideshow": {
     "slide_type": "subslide"
    }
   },
   "source": [
    "Even if you installed the Python 3 version of Anaconda, you can still easily run code in Python 2.7 by [creating a new Anaconda environment](https://conda.io/docs/user-guide/tasks/manage-python.html#installing-a-different-version-of-python).\n",
    "\n",
    "For example, to create a new Python 2 environment called `py27`, from the command line run\n",
    "\n",
    "```bash\n",
    "# Adding Python 2 Kernel\n",
    "conda create -n py27 python=2.7 ipykernel\n",
    "\n",
    "source activate py27\n",
    "conda install notebook ipykernel\n",
    "ipython kernel install --user\n",
    "```\n",
    "\n",
    "Once the environment is created, you can select it within Jupyter notebook and use Python 2 as your kernel."
   ]
  },
  {
   "cell_type": "markdown",
   "metadata": {
    "slideshow": {
     "slide_type": "slide"
    }
   },
   "source": [
    "<a id='conclusion'></a>\n",
    "\n",
    "##  Lesson Review : Command Line\n",
    "\n",
    "---\n",
    "\n",
    "Today, we learned about the command line and some of its common commands.  We also learned about file structures, absolute paths, and relative paths.\n",
    "\n",
    "Additionally, we reviewed running Python in the command line as well as in other environments. There is a [Jupyter Notebook exercise](./practice/ipynb_practice1.ipynb) available if you want to practice working in the Jupyter IDE.\n",
    "\n",
    "In time, you might find that simple operations are actually faster to perform from the command line."
   ]
  },
  {
   "cell_type": "markdown",
   "metadata": {
    "slideshow": {
     "slide_type": "slide"
    }
   },
   "source": [
    "### _Lesson Break_"
   ]
  },
  {
   "cell_type": "markdown",
   "metadata": {
    "slideshow": {
     "slide_type": "slide"
    }
   },
   "source": [
    "<a id=\"introduction2\"></a>\n",
    "## Git vs. GitHub and Version Control, an Introduction \n",
    "\n",
    "\n",
    "First things first — Git is not GitHub. This is a common mistake people make."
   ]
  },
  {
   "cell_type": "markdown",
   "metadata": {
    "slideshow": {
     "slide_type": "subslide"
    }
   },
   "source": [
    "#### What is Git?\n",
    "\n",
    "[Git](https://git-scm.com/) is:\n",
    "\n",
    "- A program you run from the command line.\n",
    "- A distributed version control system.\n",
    "\n",
    "Programmers use Git so that they can keep a history of all changes made to their code. This means that they can roll back changes (or switch to older versions) as far back as when they started using Git in their project.\n",
    "\n",
    "A code base in Git is referred to as a **repository**, or **repo**, for short.\n",
    "\n",
    "Git was created by Linus Torvalds, the creator of the Linux kernel."
   ]
  },
  {
   "cell_type": "markdown",
   "metadata": {
    "slideshow": {
     "slide_type": "subslide"
    }
   },
   "source": [
    "#### What is GitHub?\n",
    "\n",
    "[GitHub](https://github.com/) is:\n",
    "\n",
    "- A hosting service for Git repositories.\n",
    "- A web interface to explore Git repositories.\n",
    "- A social network of programmers.\n",
    "\n",
    "Some other points to note: \n",
    "\n",
    "- We all have individual GitHub accounts and will be storing our code there.\n",
    "- You can follow users and star your favorite projects.\n",
    "- Developers frequently use Github to share and collaborate on open-source code.\n",
    "- GitHub uses Git."
   ]
  },
  {
   "cell_type": "markdown",
   "metadata": {
    "slideshow": {
     "slide_type": "subslide"
    }
   },
   "source": [
    "#### What is GitHub Enterprise (GHE)?\n",
    "[GitHub Enterprise](https://enterprise.github.com/home) Is:\n",
    "\n",
    "- Professional application of GitHub\n",
    "- All repository data is stored on private and/or local machines and networks.\n",
    "\n",
    "Where GitHub is the _public_, 'Social Network' for programming and programmers, Github Enterprise is the _private_, professional application of GitHub.  Because, GitHub and GitHub Enterprise have a similar structure and are based off the `git` language, interacting with the two is is almost identical."
   ]
  },
  {
   "cell_type": "markdown",
   "metadata": {
    "slideshow": {
     "slide_type": "subslide"
    }
   },
   "source": [
    "**Additional information on [GitHub.com vs GitHub Enterprise](https://enterprise.github.com/downloads/en/comvsenterprise-082415.pdf)**\n",
    "\n",
    "Over the course of this class we will be interacting with both GitHub and GitHub Enterprise(GHE).  You will set up a GHE account for sharing course materials and as a private repo for you to store your own works-in-progress.  \n",
    "\n",
    "You will also setup a GitHub account as a location for you to host projects and work that you want to exhibit or share. "
   ]
  },
  {
   "cell_type": "markdown",
   "metadata": {
    "slideshow": {
     "slide_type": "subslide"
    }
   },
   "source": [
    "#### Can you use Git without GitHub?\n",
    "\n",
    "Think about this quote: “Git is software. GitHub is a company that happens to use Git software.” So yes, you can certainly use Git without GitHub!"
   ]
  },
  {
   "cell_type": "markdown",
   "metadata": {
    "slideshow": {
     "slide_type": "subslide"
    }
   },
   "source": [
    "Your local repository consists of three \"trees\" that are maintained by Git.\n",
    "\n",
    "- **Working Directory**: holds the actual files.\n",
    "- **Index**: acts as a staging area.\n",
    "- **HEAD**: points to the last commit you've made.\n",
    "\n",
    "<img src=\"./assets/workflow.png\" style=\"width: 500px;\"/>\n"
   ]
  },
  {
   "cell_type": "markdown",
   "metadata": {
    "slideshow": {
     "slide_type": "subslide"
    }
   },
   "source": [
    "#### What about commands?\n",
    "\n",
    "There are also a variety of commands you can use in Git. You can take a look at a list of the available commands by running:\n",
    "\n",
    "```bash\n",
    "$ git help -a\n",
    "```\n",
    "\n",
    "Even though there are lots of commands, in the course, we will really only need about 10.\n",
    "\n",
    "---"
   ]
  },
  {
   "cell_type": "markdown",
   "metadata": {
    "slideshow": {
     "slide_type": "slide"
    }
   },
   "source": [
    "<a id=\"git_basics\"></a>\n",
    "## Let's Git into it!: Code-Along (20 min)\n",
    "\n",
    "\n",
    "First, create a directory on your Desktop.\n",
    "\n",
    "```bash\n",
    "$ cd ~/Desktop\n",
    "$ mkdir hello-world\n",
    "```\n",
    "\n",
    "You can place this directory under Git revision control using the following command:\n",
    "\n",
    "```bash\n",
    "$ cd hello-world      # don't forget to CD into the folder.\n",
    "$ git init\n",
    "```\n",
    "\n",
    "Git will reply:\n",
    "\n",
    "```bash\n",
    "Initialized empty Git repository in <location>\n",
    "```\n",
    "\n",
    "You've now initialized the working directory."
   ]
  },
  {
   "cell_type": "markdown",
   "metadata": {
    "slideshow": {
     "slide_type": "subslide"
    }
   },
   "source": [
    "#### The .git folder\n",
    "\n",
    "We can look at the contents of this empty folder using this command:\n",
    "\n",
    "```bash\n",
    "ls -A\n",
    "```\n",
    "\n",
    "We should see that there is now a hidden folder called `.git`. This is where all of the information about your repository is stored. There is no need for you to make any changes to this folder. You can control all of the Git flow using `git` commands."
   ]
  },
  {
   "cell_type": "markdown",
   "metadata": {
    "slideshow": {
     "slide_type": "subslide"
    }
   },
   "source": [
    "\n",
    "#### Add a file\n",
    "\n",
    "Let's create a new file.\n",
    "\n",
    "```bash\n",
    "$ touch a.txt\n",
    "```\n",
    "\n",
    "If we run `git status`, we should get:\n",
    "\n",
    "```bash\n",
    "On branch master\n",
    "\n",
    "Initial commit\n",
    "\n",
    "Untracked files:\n",
    "  (use \"git add <file>...\" to include in what will be committed)\n",
    "\n",
    "\ta.txt\n",
    "\n",
    "nothing added to commit but untracked files present (use \"git add\" to track)\n",
    "```"
   ]
  },
  {
   "cell_type": "markdown",
   "metadata": {
    "slideshow": {
     "slide_type": "subslide"
    }
   },
   "source": [
    "This means that there is a new, **untracked** file. Next, tell Git to take a snapshot of the contents of all files under the current directory. (Note the `.`).\n",
    "\n",
    "```bash\n",
    "$ git add a.txt\n",
    "```\n",
    "\n",
    "This snapshot is now stored in a temporary staging area, which Git calls the \"index.\" To confirm the files are staged and ready to be committed, again run `git status`.\n",
    "\n",
    "---\n",
    "\n",
    "You can alternatively add _all_ new and modified files at once using the command below. This is not recommended, because you can accidentally add extra files if you are not careful! However, sometimes it is useful if you are adding many files at once and carefully use `git status` for verification.\n",
    "\n",
    "```bash\n",
    "$ git add .\n",
    "```"
   ]
  },
  {
   "cell_type": "markdown",
   "metadata": {
    "slideshow": {
     "slide_type": "subslide"
    }
   },
   "source": [
    "#### Commit\n",
    "\n",
    "To permanently store the contents of the index in the repository, (i.e., commit these changes to the \"HEAD\"), you need to run the following command:\n",
    "\n",
    "```bash\n",
    "$ git commit -m \"Please remember this file at this time\"\n",
    "```\n",
    "\n",
    "You should now get:\n",
    "\n",
    "```bash\n",
    "[master (root-commit) b4faebd] Please remember this file at this time\n",
    " 1 file changed, 0 insertions(+), 0 deletions(-)\n",
    " create mode 100644 a.txt\n",
    "```"
   ]
  },
  {
   "cell_type": "markdown",
   "metadata": {
    "slideshow": {
     "slide_type": "subslide"
    }
   },
   "source": [
    "#### Checking the log\n",
    "\n",
    "If we want to view the commit history, we can run:\n",
    "\n",
    "```bash\n",
    "git log\n",
    "```\n",
    "\n",
    "As a result, you should see:\n",
    "\n",
    "```bash\n",
    "* b4faebd (HEAD, master) Please remember this file at this time\n",
    "```"
   ]
  },
  {
   "cell_type": "markdown",
   "metadata": {
    "slideshow": {
     "slide_type": "slide"
    }
   },
   "source": [
    "<a id=\"gh_ghe_accounts\"></a>\n",
    "## 'Git' on GitHub and GitHub Enterprise:\n",
    "\n",
    "For those of you that have not already set up your GitHub and GitHub Enterprise accounts, lets take a minute to do that now.\n",
    "\n",
    "Account creation for both is simple.  Create a _Username_, and provide an _email_ & _password_.\n",
    "\n",
    "_Keep in mind while you **can** use the same email, username and password for both accounts, they are **wholly separate**._\n",
    "\n",
    "**[GitHub](https://github.com/)**\n",
    " _This is yours_\n",
    " \n",
    "**[GitHub Enterprise for General Assembly](https://git.generalassemb.ly/join?source=header)**\n",
    "_This is ours_\n",
    "\n",
    "You can use a GitHub account to create a GitHub Enterprise account, but that will be **your** enterprise; in that, you will not be able to use it to access the General Assembly Enterprise GitHub.\n",
    "\n",
    "If in the future you join another GitHub Enterprise you will also need to create another account for said enterprise. "
   ]
  },
  {
   "cell_type": "markdown",
   "metadata": {
    "slideshow": {
     "slide_type": "slide"
    }
   },
   "source": [
    "<a id=\"making_cloning\"></a>\n",
    "## Making and Cloning Repositories: Code-Along (20 min)\n",
    "\n",
    "When using Git, GitHub and GHE it is common to have your repositories in several locations.  Typically when we use GitHub and GHE we will have two repository locations, **Remote** and **Local**.\n",
    "- **Remote:** Repositories that are not stored in our current location/machine. Usually where we store the repo.\n",
    "- **Local:** Repositories that are stored on our current machine. Usually where we work on the repo.\n",
    "\n",
    "\n"
   ]
  },
  {
   "cell_type": "markdown",
   "metadata": {
    "slideshow": {
     "slide_type": "subslide"
    }
   },
   "source": [
    "**Let's do this together:**\n",
    "\n",
    "1. Go to your GitHub account.\n",
    "2. On the right-hand side, hit the `+` button for `New repository`.\n",
    "3. Name your repository `hello-world`.\n",
    "    - **DO NOT initialize the repository with a `README`, `.gitignore`, or license.**\n",
    "\n",
    "4. Click the big, green `Create Repository` button."
   ]
  },
  {
   "cell_type": "markdown",
   "metadata": {
    "slideshow": {
     "slide_type": "subslide"
    }
   },
   "source": [
    "We now need to connect our local Git repository with our newly created remote repository on GitHub. We have to add a \"remote\" repository, an address where we can send our local files to be stored.\n",
    "\n",
    "On the right-hand side of your GitHub there should be a green 'Clone or download' button. This button should reveal a tiny window with a URL.  Copy the provided URL, which is the path to this remote repo.  \n",
    "\n",
    "\n",
    "_Make sure you changed directories into `hello-world` prior to running this_\n",
    "```bash\n",
    "git remote add origin https://github.com/<GITHUB-NAME>/hello-world.git\n",
    "```\n",
    "\n",
    "_At this point you **may** be prompted for a password, especially when using GHE_"
   ]
  },
  {
   "cell_type": "markdown",
   "metadata": {
    "slideshow": {
     "slide_type": "subslide"
    }
   },
   "source": [
    "#### Pushing to GitHub\n",
    "\n",
    "In order to send files from our local machine to our remote repository on GitHub, we need to use the command `git push`. However, you also need to add the name of the remote repo — in this case, we called it `origin` — and the name of the branch, in this case `master`.\n",
    "\n",
    "```bash\n",
    "git push -u origin master\n",
    "```\n",
    "\n",
    "Refresh your GitHub web page, and your files should appear."
   ]
  },
  {
   "cell_type": "markdown",
   "metadata": {
    "slideshow": {
     "slide_type": "subslide"
    }
   },
   "source": [
    "#### Creating a README.md file\n",
    "\n",
    "Let's create a `README.md` file and push it to GitHub! \n",
    "\n",
    "Any file ending with `.md` is a Markdown file -- a text file with optional [Markdown formatting](https://daringfireball.net/projects/markdown/syntax). On GitHub, the contents of the displayed directory's `README.md` is automatically displayed.\n",
    "\n",
    "Create a new `README.md` text file and add some text. (We'll try the command-line text editor `nano` this time!)\n",
    "\n",
    "```bash\n",
    "nano README.md\n",
    "```"
   ]
  },
  {
   "cell_type": "markdown",
   "metadata": {
    "slideshow": {
     "slide_type": "subslide"
    }
   },
   "source": [
    "---\n",
    "\n",
    "Now, try using the same procedure as before to:\n",
    "\n",
    "1. Add the new file to the staging area.\n",
    "2. Verify the file is in the staging area, ready to be committed.\n",
    "3. Commit the file.\n",
    "4. Push the commits to GitHub.\n",
    "\n",
    "Refresh your GitHub web page, and the new `README.md` file should appear. Take a look underneath the directory tree, and its contents will be automatically displayed."
   ]
  },
  {
   "cell_type": "markdown",
   "metadata": {
    "slideshow": {
     "slide_type": "subslide"
    }
   },
   "source": [
    "#### Pulling from GitHub\n",
    "\n",
    "Sometimes, other people will make commits and push them to GitHub. Locally, we will need to `fetch` these changes and `merge` them with our local files. To do both of these steps at once, run the `pull` command:\n",
    "\n",
    "```bash\n",
    "git pull origin master\n",
    "```\n",
    "\n",
    "This pulls from our remote `origin` to our local `master` branch.\n",
    "\n",
    "Since our remote repo contains the same commits as we do locally, it will tell us everything is up-to-date."
   ]
  },
  {
   "cell_type": "markdown",
   "metadata": {
    "slideshow": {
     "slide_type": "slide"
    }
   },
   "source": [
    "By now, you have have noticed that you are being prompted quite a bit for your password when interacting with GitHub or GitHub Enterprise via Git.  There are two ways to work around this. \n",
    "\n",
    "**[Caching your password in Git](https://help.github.com/articles/caching-your-github-password-in-git/)**\n",
    "\n",
    "or\n",
    "\n",
    "**Using SSH and SSH Agent** (_recommended_)  "
   ]
  },
  {
   "cell_type": "markdown",
   "metadata": {
    "slideshow": {
     "slide_type": "subslide"
    }
   },
   "source": [
    "<a id=\"ssh\"></a>\n",
    "\n",
    "#### Secure Shell (SSH)\n",
    "\n",
    "SSH, or Secure SHell, is a common means of adding an additional layer of security.  Simply put, SSH is used to establish authenticity between a client and a server so that a secure connection can be formed.  This can be useful for secure file sharing or remote application access.  \n",
    "\n",
    "#### How SSH works\n",
    "\n",
    "The SSH process at a high level is relatively simple.  \n",
    "1. Client makes a request to the server.\n",
    "2. Server responds asking for authentication.\n",
    "3. Client provides authentication.\n",
    "4. If authentication is correct, a connection is established.\n",
    "\n",
    "**Note:** An SSH Agent can be used to avoid being prompted for a password every time you push or pull to Github."
   ]
  },
  {
   "cell_type": "markdown",
   "metadata": {
    "slideshow": {
     "slide_type": "subslide"
    }
   },
   "source": [
    "You can use these guides or those available on github\n",
    "- [Working with SSH key passphrases](https://help.github.com/articles/working-with-ssh-key-passphrases/)\n",
    "- [Generating a new SSH key and adding it to the ssh-agent](https://help.github.com/articles/generating-a-new-ssh-key-and-adding-it-to-the-ssh-agent/)\n",
    "- [Adding a new SSH key to your GitHub account](https://help.github.com/articles/adding-a-new-ssh-key-to-your-github-account/)"
   ]
  },
  {
   "cell_type": "markdown",
   "metadata": {
    "slideshow": {
     "slide_type": "slide"
    }
   },
   "source": [
    "#### Independent Practice (15 mins)\n",
    "\n",
    "Repeat the steps above, starting from the creation of the remote repo, to create a _local_ and _remote_ repository with your GitHub Enterprise account.  \n",
    "\n",
    "\n",
    "If you have extra time feel free to try to set up an SSH.  If you have any issues there are [SSH troubleshooting guides](#ssh_trouble) at the end of the lesson."
   ]
  },
  {
   "cell_type": "markdown",
   "metadata": {
    "slideshow": {
     "slide_type": "slide"
    }
   },
   "source": [
    "### Cloning your first repository\n",
    "\n",
    "Alternatively, you can clone this repo from your GitHub link to have it automatically configured in a new directory.\n",
    "\n",
    "```\n",
    "git clone https://github.com/github-username/hello-world.git\n",
    "```\n",
    "\n",
    "Now that everyone has a repository on GitHub, let's clone one!\n",
    "\n",
    "Cloning allows you to make a local copy of a remote repository.\n",
    "\n",
    "Navigate back to your Desktop, and **delete your `hello-world` repository**.\n",
    "\n",
    "```bash\n",
    "cd ~/Desktop\n",
    "rm -rf hello-world\n",
    "```\n",
    "\n",
    "Now, ask the person sitting next to you for his or her GitHub name and navigate to that repository on GitHub.\n",
    "\n",
    "```bash\n",
    "https://www.github.com/<github-username>/hello-world\n",
    "```\n",
    "\n",
    "On the right-hand side, you will see the green button 'Clone or download'."
   ]
  },
  {
   "cell_type": "markdown",
   "metadata": {
    "slideshow": {
     "slide_type": "subslide"
    }
   },
   "source": [
    "#### Clone that repo!\n",
    "\n",
    "To retrieve the contents of the repo, all you need to do is:\n",
    "\n",
    "```bash\n",
    "$ git clone git@github.com/<partners-github-username>/hello-world.git\n",
    "```\n",
    "\n",
    "Git should reply:\n",
    "\n",
    "```bash\n",
    "Cloning into 'hello-world'...\n",
    "remote: Counting objects: 3, done.\n",
    "remote: Total 3 (delta 0), reused 3 (delta 0), pack-reused 0\n",
    "Receiving objects: 100% (3/3), done.\n",
    "Checking connectivity... done.\n",
    "```\n",
    "\n",
    "You've now cloned your first repository!   The process will be the same with GitHub Enterprise.  \n",
    "\n",
    "Cloning is most useful when there is a repo that exists remotely that we want on our local machines. "
   ]
  },
  {
   "cell_type": "markdown",
   "metadata": {
    "slideshow": {
     "slide_type": "slide"
    }
   },
   "source": [
    "<a name=\"pulling\"></a>\n",
    "## Create a Pull Request on GitHub: Code-Along (15 min)\n",
    "\n",
    "#### What's a \"Pull Request\"?\n",
    "Often times when we are working on a project with other collaborators we all can't work on the same repo at the same time so we have these things called _branches_.  With branches we can create a branch off of the main repo or \"Master Branch\", perform our work whether that be additions or alterations and then merge the changes we made on _our_ branch back into the master.\n",
    "\n",
    "You can probably think of a few ways that multiple people trying to merge their work can get messy.  Fortunately, we have Pull Requests as means of queing and validating merges.  Rather than having your branch merge automatically, your request will go through an administrator who can review your changes and additions and approve or deny your request."
   ]
  },
  {
   "cell_type": "markdown",
   "metadata": {
    "slideshow": {
     "slide_type": "subslide"
    }
   },
   "source": [
    "<img src=\"./assets/branches.jpg\" style=\"width: 600px;\"/>\n",
    "\n",
    "_Even though we are trying to **push** our information into the master, it is called a pull request because we are making a request to the administrator to **pull** or branch into the master._"
   ]
  },
  {
   "cell_type": "markdown",
   "metadata": {
    "slideshow": {
     "slide_type": "subslide"
    }
   },
   "source": [
    "#### Creating a Pull Request\n",
    "Before you can open a pull request, you must create a branch in your local repository, commit to it, and push that branch to a repository or fork on GitHub."
   ]
  },
  {
   "cell_type": "markdown",
   "metadata": {
    "slideshow": {
     "slide_type": "subslide"
    }
   },
   "source": [
    "1. Visit the repository you've pushed to.\n",
    "2. Click \"Branch:master\" on the left-hand side and create a branch called 'branch-edits' by typing in the box and hitting enter.  This should put you on your new branches page.\n",
    "3. Make sure you're on your new branch and in GitHub create a new '.md' or '.txt' file using the 'Create new file' button. Call it what you like and place some text in it.\n",
    "4. Click the \"Compare & pull request\" button in the repository.\n",
    "5. You'll land right onto the compare page. Next, you can click \"Edit\" at the top to pick a new branch to merge to using the \"Head Branch\" dropdown menu.\n",
    "4. Select the target branch that your branch should be merged to using the \"Base Branch\" dropdown menu.\n",
    "5. Review your proposed change.\n",
    "6. Hit \"Click to create a pull request\" for this comparison.\n",
    "7. Enter a title and description for your pull request.\n",
    "8. Click \"Send pull request.\"\n",
    "\n",
    "As you are working on your own repo in your own GitHub you will be able to merge the branch at your leisure."
   ]
  },
  {
   "cell_type": "markdown",
   "metadata": {
    "slideshow": {
     "slide_type": "slide"
    }
   },
   "source": [
    "#### GitHub Example Project\n",
    "\n",
    "A company is building onto their website and adding a few new features.  They are assigning a team of engineers to complete the task.  \n",
    "\n",
    "Engineer 1 is responsible for redoing the home page.\n",
    "Engineer 2 is responsible for reworking content pages 1 & 2\n",
    "Engineer 3 is responsible for reworking content pages 3 & 4\n",
    "\n",
    "In this situation the master branch would probably be a copy of the files and scripts for the original website.  As this is the master copy it is best not to make any edits to it until those changes have been vetted.\n",
    "\n",
    "The engineer team starts by making branch off of the master called '`project_1`'."
   ]
  },
  {
   "cell_type": "markdown",
   "metadata": {
    "slideshow": {
     "slide_type": "subslide"
    }
   },
   "source": [
    "From '`project_1`' the team of engineers would probably create their own branches to perform their tasks in.\n",
    "\n",
    "- Engineer 1 : '`project_1_homepage`'\n",
    "- Engineer 2 : '`project_1_content1_2`'\n",
    "- Engineer 3 : '`project_1_content3_4`'\n",
    "\n",
    "\n",
    "Once each engineer completed their task they would merge the changes from their branch into '`project_1`'.  \n",
    "\n",
    "Now that all of the individual work has been compiled they can test the website and make sure that there are no bugs or issues then merge '`project_1`' back into the master copy."
   ]
  },
  {
   "cell_type": "markdown",
   "metadata": {
    "slideshow": {
     "slide_type": "subslide"
    }
   },
   "source": [
    "#### How we will use GitHub in this class.\n",
    "\n",
    "_This may be a good time to stop and set up repositories for the class_\n",
    "\n",
    "For the most part ,our use of GitHub in this class will be much more linear.  \n",
    "\n",
    "We will have a central class repository where all of the lesson materials are housed.  You will create a Forked version of the master repo which will be yours to do as you please.  \n",
    "\n",
    "<img src=\"./assets/fork.png\" style=\"width: 150px;\"/>"
   ]
  },
  {
   "cell_type": "markdown",
   "metadata": {
    "slideshow": {
     "slide_type": "subslide"
    }
   },
   "source": [
    "- Forked repos are essentually personal copies of repositories.\n",
    "- If the original is updated you can pull those changes to your copy via ```git pull upstream master```.\n",
    "\n",
    "Once we have a forked copy, we will clone the fork to our machines to make a local copy.\n",
    "\n",
    "Most of your git commands will be pulling updates from the main class repo to your local and pushing changes make on your local to your remote version."
   ]
  },
  {
   "cell_type": "markdown",
   "metadata": {
    "slideshow": {
     "slide_type": "slide"
    }
   },
   "source": [
    "<a id=\"independent_practice2\"></a>\n",
    "## Assess: Independent Practice (10 min)\n",
    "- With a partner take turns explaining the following commands.  Pretend that they are unfamiliar with Git and this is their first exposure to it.\n",
    "- `init`, `add`, `commit`, `push`, `pull`, and `clone`."
   ]
  },
  {
   "cell_type": "markdown",
   "metadata": {
    "slideshow": {
     "slide_type": "slide"
    }
   },
   "source": [
    "<a id=\"conclusion2\"></a>\n",
    "## Lesson Review : Git and GitHub\n",
    "Do you feel comfortable with Git, GitHub and GitHub Enterprise? As we'll be using them in a lot of our coursework, let's make sure you are! \n",
    "\n",
    "We understand that Git and GitHub can be difficult to mentally grasp initially, so if you have an questions about the following or other Git aspects please ask now.\n",
    "\n",
    "- Basic Git commands, `init`, `add`, `commit`, `push`, `pull`, and `clone`\n",
    "- Local and Remote repositories\n",
    "- Cloning, Branching, Merging and Pull Requests\n",
    "- Installing Git\n"
   ]
  },
  {
   "cell_type": "markdown",
   "metadata": {
    "slideshow": {
     "slide_type": "slide"
    }
   },
   "source": [
    "### More useful Git tips\n",
    "\n",
    "*Get the status relative to the remote version*\n",
    "\n",
    "```\n",
    "git remote update\n",
    "git status\n",
    "```\n",
    "\n",
    "*Setup the upstream remote*\n",
    "\n",
    "```\n",
    "git remote add upstream <origin URL>\n",
    "```\n",
    "\n",
    "*Configure your name and email address*\n",
    "\n",
    "```\n",
    "git config --global user.name \"John Doe\"\n",
    "git config --global user.email johndoe@example.com\n",
    "```"
   ]
  },
  {
   "cell_type": "markdown",
   "metadata": {
    "collapsed": true,
    "slideshow": {
     "slide_type": "subslide"
    }
   },
   "source": [
    "<a id='ssh_trouble'></a>\n",
    "#### Additional SSH Troubleshooting:\n",
    "\n",
    "**Access Denied**  \n",
    "If you receive a message about \"access denied,\" please notify an instructor or you can read [these instructions for diagnosing the issue.](https://help.github.com/articles/error-permission-denied-publickey/)\n",
    "\n",
    "**HTTPS to SSH switch**  \n",
    "If you're switching from HTTPS to SSH, you'll now need to update your remote repository URLs. For more information, see [Changing a remote's URL.](https://help.github.com/articles/changing-a-remote-s-url/)"
   ]
  }
 ],
 "metadata": {
  "celltoolbar": "Slideshow",
  "kernelspec": {
   "display_name": "Python [default]",
   "language": "python",
   "name": "python3"
  },
  "language_info": {
   "codemirror_mode": {
    "name": "ipython",
    "version": 3
   },
   "file_extension": ".py",
   "mimetype": "text/x-python",
   "name": "python",
   "nbconvert_exporter": "python",
   "pygments_lexer": "ipython3",
   "version": "3.6.4"
  }
 },
 "nbformat": 4,
 "nbformat_minor": 1
}
