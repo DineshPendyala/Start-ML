{
 "cells": [
  {
   "cell_type": "markdown",
   "metadata": {},
   "source": [
    "# Final Project Proposal\n",
    "\n",
    "Draft a well-formed problem statement relevant to a business problem affecting your team, division, or organization.\n",
    "\n",
    "Include the following elements:\n",
    "- Hypothesis/assumptions\n",
    "- Goals and success metrics\n",
    "- Risks or limitations\n",
    "\n",
    "Identify at least one relevant internal dataset and confirm that you have (or can get) the right access permissions."
   ]
  },
  {
   "cell_type": "markdown",
   "metadata": {},
   "source": [
    "## Problem Statement"
   ]
  },
  {
   "cell_type": "markdown",
   "metadata": {},
   "source": [
    "#### Ideas:\n",
    "- How do literary awards impact book sales? Ratings? Rate turned into movies?\n",
    "     - Pulitzer (Fiction)\n",
    "     - Man Booker\n",
    "     \n",
    "Hypothesis: Prize-winners will be statistically different than the short-listers\n",
    "  \n",
    "#### Data:  \n",
    "- Pulitzer Winners:\n",
    "      - https://en.wikipedia.org/wiki/Pulitzer_Prize_for_Fiction\n",
    "      - http://www.pulitzer.org/prize-winners-by-category/219\n",
    "\n",
    "- Man Booker Winners:\n",
    "      - https://en.wikipedia.org/wiki/List_of_winners_and_shortlisted_authors_of_the_Booker_Prize\n"
   ]
  },
  {
   "cell_type": "code",
   "execution_count": null,
   "metadata": {
    "collapsed": true
   },
   "outputs": [],
   "source": []
  },
  {
   "cell_type": "code",
   "execution_count": null,
   "metadata": {
    "collapsed": true
   },
   "outputs": [],
   "source": []
  },
  {
   "cell_type": "markdown",
   "metadata": {},
   "source": [
    "## Dataset"
   ]
  },
  {
   "cell_type": "code",
   "execution_count": null,
   "metadata": {
    "collapsed": true
   },
   "outputs": [],
   "source": []
  },
  {
   "cell_type": "code",
   "execution_count": null,
   "metadata": {
    "collapsed": true
   },
   "outputs": [],
   "source": []
  }
 ],
 "metadata": {
  "kernelspec": {
   "display_name": "Python 3",
   "language": "python",
   "name": "python3"
  },
  "language_info": {
   "codemirror_mode": {
    "name": "ipython",
    "version": 3
   },
   "file_extension": ".py",
   "mimetype": "text/x-python",
   "name": "python",
   "nbconvert_exporter": "python",
   "pygments_lexer": "ipython3",
   "version": "3.6.2"
  }
 },
 "nbformat": 4,
 "nbformat_minor": 2
}
