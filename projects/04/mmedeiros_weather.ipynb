{
 "cells": [
  {
   "cell_type": "markdown",
   "metadata": {},
   "source": [
    "## Import and clean weather dataset\n",
    "Central Park Monthly Avg Temp and Precipitation from 1869 - 2018:\n",
    "- https://www.weather.gov/media/okx/Climate/CentralPark/monthlyannualtemp.pdf\n",
    "- https://www.weather.gov/media/okx/Climate/CentralPark/monthlyannualprecip.pdf"
   ]
  },
  {
   "cell_type": "code",
   "execution_count": 10,
   "metadata": {
    "collapsed": true
   },
   "outputs": [],
   "source": [
    "import pandas as pd\n",
    "import datetime as dt"
   ]
  },
  {
   "cell_type": "code",
   "execution_count": 2,
   "metadata": {
    "collapsed": true
   },
   "outputs": [],
   "source": [
    "# Function to convert PDF tables into CSVs using https://pdftables.com/\n",
    "# Only get 50 free calls to the API! \n",
    "def pdfToTable(PDFfilename, apiKey, fileExt, downloadDir):\n",
    "\n",
    "    fileData = (PDFfilename, open(PDFfilename, 'rb')) #\"rb\" stands for \"read bytes\"\n",
    "    files = {'f': fileData} \n",
    "    postUrl = \"https://pdftables.com/api?key={0}&format={1}\".format(apiKey, fileExt)\n",
    "\n",
    "    response = requests.post(postUrl, files=files)\n",
    "    response.raise_for_status() # ensure we notice bad responses\n",
    "\n",
    "    with open(downloadDir, \"wb\") as f:\n",
    "        f.write(response.content) #write data to csv"
   ]
  },
  {
   "cell_type": "markdown",
   "metadata": {},
   "source": [
    "#### Monthly avg temp data"
   ]
  },
  {
   "cell_type": "code",
   "execution_count": 5,
   "metadata": {},
   "outputs": [
    {
     "data": {
      "text/html": [
       "<div>\n",
       "<style>\n",
       "    .dataframe thead tr:only-child th {\n",
       "        text-align: right;\n",
       "    }\n",
       "\n",
       "    .dataframe thead th {\n",
       "        text-align: left;\n",
       "    }\n",
       "\n",
       "    .dataframe tbody tr th {\n",
       "        vertical-align: top;\n",
       "    }\n",
       "</style>\n",
       "<table border=\"1\" class=\"dataframe\">\n",
       "  <thead>\n",
       "    <tr style=\"text-align: right;\">\n",
       "      <th></th>\n",
       "      <th>YEAR</th>\n",
       "      <th>JAN</th>\n",
       "      <th>FEB</th>\n",
       "      <th>MAR</th>\n",
       "      <th>APR</th>\n",
       "      <th>MAY</th>\n",
       "      <th>JUN</th>\n",
       "      <th>JUL</th>\n",
       "      <th>AUG</th>\n",
       "      <th>SEP</th>\n",
       "      <th>OCT</th>\n",
       "      <th>NOV</th>\n",
       "      <th>DEC</th>\n",
       "      <th>ANNUAL</th>\n",
       "    </tr>\n",
       "  </thead>\n",
       "  <tbody>\n",
       "    <tr>\n",
       "      <th>0</th>\n",
       "      <td>1869</td>\n",
       "      <td>35.1</td>\n",
       "      <td>34.5</td>\n",
       "      <td>34.8</td>\n",
       "      <td>49.2</td>\n",
       "      <td>57.7</td>\n",
       "      <td>69.3</td>\n",
       "      <td>72.8</td>\n",
       "      <td>71.8</td>\n",
       "      <td>65.6</td>\n",
       "      <td>50.9</td>\n",
       "      <td>40.3</td>\n",
       "      <td>34.7</td>\n",
       "      <td>51.4</td>\n",
       "    </tr>\n",
       "    <tr>\n",
       "      <th>1</th>\n",
       "      <td>1870</td>\n",
       "      <td>37.5</td>\n",
       "      <td>31.3</td>\n",
       "      <td>34.1</td>\n",
       "      <td>50.7</td>\n",
       "      <td>60.9</td>\n",
       "      <td>72.9</td>\n",
       "      <td>76.6</td>\n",
       "      <td>75.3</td>\n",
       "      <td>67.6</td>\n",
       "      <td>56.7</td>\n",
       "      <td>45.5</td>\n",
       "      <td>34.1</td>\n",
       "      <td>53.6</td>\n",
       "    </tr>\n",
       "    <tr>\n",
       "      <th>2</th>\n",
       "      <td>1871</td>\n",
       "      <td>28.3</td>\n",
       "      <td>30.2</td>\n",
       "      <td>44.2</td>\n",
       "      <td>52.0</td>\n",
       "      <td>60.4</td>\n",
       "      <td>68.2</td>\n",
       "      <td>72.3</td>\n",
       "      <td>73.6</td>\n",
       "      <td>60.8</td>\n",
       "      <td>55.6</td>\n",
       "      <td>38.8</td>\n",
       "      <td>29.2</td>\n",
       "      <td>51.1</td>\n",
       "    </tr>\n",
       "    <tr>\n",
       "      <th>3</th>\n",
       "      <td>1872</td>\n",
       "      <td>28.8</td>\n",
       "      <td>29.9</td>\n",
       "      <td>30.5</td>\n",
       "      <td>49.4</td>\n",
       "      <td>61.5</td>\n",
       "      <td>71.2</td>\n",
       "      <td>77.5</td>\n",
       "      <td>75.6</td>\n",
       "      <td>66.4</td>\n",
       "      <td>53.2</td>\n",
       "      <td>41.0</td>\n",
       "      <td>26.7</td>\n",
       "      <td>51.0</td>\n",
       "    </tr>\n",
       "    <tr>\n",
       "      <th>4</th>\n",
       "      <td>1873</td>\n",
       "      <td>28.6</td>\n",
       "      <td>29.5</td>\n",
       "      <td>35.7</td>\n",
       "      <td>46.7</td>\n",
       "      <td>58.8</td>\n",
       "      <td>70.3</td>\n",
       "      <td>75.4</td>\n",
       "      <td>72.0</td>\n",
       "      <td>65.4</td>\n",
       "      <td>55.8</td>\n",
       "      <td>37.0</td>\n",
       "      <td>36.5</td>\n",
       "      <td>51.0</td>\n",
       "    </tr>\n",
       "  </tbody>\n",
       "</table>\n",
       "</div>"
      ],
      "text/plain": [
       "   YEAR   JAN   FEB   MAR   APR   MAY   JUN   JUL   AUG   SEP   OCT   NOV  \\\n",
       "0  1869  35.1  34.5  34.8  49.2  57.7  69.3  72.8  71.8  65.6  50.9  40.3   \n",
       "1  1870  37.5  31.3  34.1  50.7  60.9  72.9  76.6  75.3  67.6  56.7  45.5   \n",
       "2  1871  28.3  30.2  44.2  52.0  60.4  68.2  72.3  73.6  60.8  55.6  38.8   \n",
       "3  1872  28.8  29.9  30.5  49.4  61.5  71.2  77.5  75.6  66.4  53.2  41.0   \n",
       "4  1873  28.6  29.5  35.7  46.7  58.8  70.3  75.4  72.0  65.4  55.8  37.0   \n",
       "\n",
       "    DEC ANNUAL  \n",
       "0  34.7   51.4  \n",
       "1  34.1   53.6  \n",
       "2  29.2   51.1  \n",
       "3  26.7   51.0  \n",
       "4  36.5   51.0  "
      ]
     },
     "execution_count": 5,
     "metadata": {},
     "output_type": "execute_result"
    }
   ],
   "source": [
    "# import monthly temp data\n",
    "# don't run this over and over again - will run out of API credits\n",
    "#pdfToTable('centralpark_monthlyannualtemp.pdf', 'fehzjlvcj5ky', 'csv', 'centralpark_monthlyannualtemp.csv')\n",
    "temp = pd.read_csv('centralpark_monthlyannualtemp.csv', header=2)\n",
    "temp.head()"
   ]
  },
  {
   "cell_type": "code",
   "execution_count": 6,
   "metadata": {},
   "outputs": [
    {
     "name": "stdout",
     "output_type": "stream",
     "text": [
      "<class 'pandas.core.frame.DataFrame'>\n",
      "Int64Index: 45 entries, 60 to 105\n",
      "Data columns (total 13 columns):\n",
      "YEAR    45 non-null int64\n",
      "JAN     45 non-null float64\n",
      "FEB     45 non-null float64\n",
      "MAR     45 non-null float64\n",
      "APR     45 non-null float64\n",
      "MAY     45 non-null float64\n",
      "JUN     45 non-null float64\n",
      "JUL     45 non-null float64\n",
      "AUG     45 non-null float64\n",
      "SEP     45 non-null float64\n",
      "OCT     45 non-null float64\n",
      "NOV     45 non-null float64\n",
      "DEC     45 non-null float64\n",
      "dtypes: float64(12), int64(1)\n",
      "memory usage: 4.9 KB\n"
     ]
    }
   ],
   "source": [
    "# clean up:\n",
    "# remove rows with repeated column names from original PDF\n",
    "temp = temp[temp['YEAR']!='YEAR'] \n",
    "\n",
    "# convert YEAR to int\n",
    "temp['YEAR'] = temp['YEAR'].astype(int) \n",
    "\n",
    "# keep relevant years\n",
    "temp = temp[(temp.YEAR>=1928) & (temp.YEAR<=1972)] \n",
    "\n",
    "# convert month values to floats\n",
    "months = ['JAN', 'FEB', 'MAR', 'APR', 'MAY', 'JUN', \n",
    "          'JUL', 'AUG', 'SEP','OCT', 'NOV', 'DEC']\n",
    "\n",
    "temp[months] = temp[months].astype(float)\n",
    "\n",
    "# drop ANNUAL column\n",
    "temp.drop('ANNUAL', axis=1, inplace=True)\n",
    "\n",
    "temp.info()"
   ]
  },
  {
   "cell_type": "code",
   "execution_count": 7,
   "metadata": {},
   "outputs": [
    {
     "data": {
      "text/html": [
       "<div>\n",
       "<style>\n",
       "    .dataframe thead tr:only-child th {\n",
       "        text-align: right;\n",
       "    }\n",
       "\n",
       "    .dataframe thead th {\n",
       "        text-align: left;\n",
       "    }\n",
       "\n",
       "    .dataframe tbody tr th {\n",
       "        vertical-align: top;\n",
       "    }\n",
       "</style>\n",
       "<table border=\"1\" class=\"dataframe\">\n",
       "  <thead>\n",
       "    <tr style=\"text-align: right;\">\n",
       "      <th></th>\n",
       "      <th>YEAR</th>\n",
       "      <th>JAN</th>\n",
       "      <th>FEB</th>\n",
       "      <th>MAR</th>\n",
       "      <th>APR</th>\n",
       "      <th>MAY</th>\n",
       "      <th>JUN</th>\n",
       "      <th>JUL</th>\n",
       "      <th>AUG</th>\n",
       "      <th>SEP</th>\n",
       "      <th>OCT</th>\n",
       "      <th>NOV</th>\n",
       "      <th>DEC</th>\n",
       "    </tr>\n",
       "  </thead>\n",
       "  <tbody>\n",
       "    <tr>\n",
       "      <th>60</th>\n",
       "      <td>1928</td>\n",
       "      <td>34.0</td>\n",
       "      <td>33.0</td>\n",
       "      <td>38.8</td>\n",
       "      <td>48.4</td>\n",
       "      <td>59.4</td>\n",
       "      <td>67.4</td>\n",
       "      <td>75.9</td>\n",
       "      <td>75.4</td>\n",
       "      <td>64.7</td>\n",
       "      <td>58.9</td>\n",
       "      <td>47.4</td>\n",
       "      <td>39.3</td>\n",
       "    </tr>\n",
       "    <tr>\n",
       "      <th>61</th>\n",
       "      <td>1929</td>\n",
       "      <td>31.9</td>\n",
       "      <td>32.9</td>\n",
       "      <td>45.1</td>\n",
       "      <td>51.0</td>\n",
       "      <td>61.7</td>\n",
       "      <td>71.5</td>\n",
       "      <td>75.9</td>\n",
       "      <td>73.1</td>\n",
       "      <td>69.4</td>\n",
       "      <td>54.6</td>\n",
       "      <td>46.2</td>\n",
       "      <td>35.8</td>\n",
       "    </tr>\n",
       "    <tr>\n",
       "      <th>62</th>\n",
       "      <td>1930</td>\n",
       "      <td>33.3</td>\n",
       "      <td>37.0</td>\n",
       "      <td>40.3</td>\n",
       "      <td>48.4</td>\n",
       "      <td>63.7</td>\n",
       "      <td>73.5</td>\n",
       "      <td>76.4</td>\n",
       "      <td>73.6</td>\n",
       "      <td>72.0</td>\n",
       "      <td>55.6</td>\n",
       "      <td>45.5</td>\n",
       "      <td>34.6</td>\n",
       "    </tr>\n",
       "    <tr>\n",
       "      <th>63</th>\n",
       "      <td>1931</td>\n",
       "      <td>32.8</td>\n",
       "      <td>33.9</td>\n",
       "      <td>40.3</td>\n",
       "      <td>51.1</td>\n",
       "      <td>61.5</td>\n",
       "      <td>70.7</td>\n",
       "      <td>77.5</td>\n",
       "      <td>75.2</td>\n",
       "      <td>72.3</td>\n",
       "      <td>61.3</td>\n",
       "      <td>51.9</td>\n",
       "      <td>41.0</td>\n",
       "    </tr>\n",
       "    <tr>\n",
       "      <th>64</th>\n",
       "      <td>1932</td>\n",
       "      <td>43.2</td>\n",
       "      <td>36.1</td>\n",
       "      <td>37.3</td>\n",
       "      <td>49.0</td>\n",
       "      <td>62.0</td>\n",
       "      <td>70.5</td>\n",
       "      <td>76.1</td>\n",
       "      <td>76.7</td>\n",
       "      <td>69.5</td>\n",
       "      <td>58.5</td>\n",
       "      <td>43.9</td>\n",
       "      <td>39.1</td>\n",
       "    </tr>\n",
       "  </tbody>\n",
       "</table>\n",
       "</div>"
      ],
      "text/plain": [
       "    YEAR   JAN   FEB   MAR   APR   MAY   JUN   JUL   AUG   SEP   OCT   NOV  \\\n",
       "60  1928  34.0  33.0  38.8  48.4  59.4  67.4  75.9  75.4  64.7  58.9  47.4   \n",
       "61  1929  31.9  32.9  45.1  51.0  61.7  71.5  75.9  73.1  69.4  54.6  46.2   \n",
       "62  1930  33.3  37.0  40.3  48.4  63.7  73.5  76.4  73.6  72.0  55.6  45.5   \n",
       "63  1931  32.8  33.9  40.3  51.1  61.5  70.7  77.5  75.2  72.3  61.3  51.9   \n",
       "64  1932  43.2  36.1  37.3  49.0  62.0  70.5  76.1  76.7  69.5  58.5  43.9   \n",
       "\n",
       "     DEC  \n",
       "60  39.3  \n",
       "61  35.8  \n",
       "62  34.6  \n",
       "63  41.0  \n",
       "64  39.1  "
      ]
     },
     "execution_count": 7,
     "metadata": {},
     "output_type": "execute_result"
    }
   ],
   "source": [
    "temp.head()"
   ]
  },
  {
   "cell_type": "code",
   "execution_count": 8,
   "metadata": {},
   "outputs": [
    {
     "data": {
      "text/plain": [
       "[34.0, 33.0, 38.799999999999997, 48.399999999999999, 59.399999999999999]"
      ]
     },
     "execution_count": 8,
     "metadata": {},
     "output_type": "execute_result"
    }
   ],
   "source": [
    "# reshape the data set to match our series\n",
    "temp_list = []\n",
    "\n",
    "for _, row in temp.iterrows():\n",
    "    for month in range(1,13):\n",
    "        temp_list.append(row[month])\n",
    "    \n",
    "temp_list[:5]"
   ]
  },
  {
   "cell_type": "code",
   "execution_count": 11,
   "metadata": {},
   "outputs": [
    {
     "data": {
      "text/plain": [
       "[datetime.date(1928, 1, 1),\n",
       " datetime.date(1928, 2, 1),\n",
       " datetime.date(1928, 3, 1),\n",
       " datetime.date(1928, 4, 1),\n",
       " datetime.date(1928, 5, 1)]"
      ]
     },
     "execution_count": 11,
     "metadata": {},
     "output_type": "execute_result"
    }
   ],
   "source": [
    "date_list = []\n",
    "\n",
    "for year in range(1928,1973):\n",
    "    for month in range(1,13):\n",
    "        date_list.append(dt.date(year,month,1))\n",
    "        \n",
    "date_list[:5]"
   ]
  },
  {
   "cell_type": "code",
   "execution_count": 12,
   "metadata": {},
   "outputs": [
    {
     "data": {
      "text/plain": [
       "1928-01-01    34.0\n",
       "1928-02-01    33.0\n",
       "1928-03-01    38.8\n",
       "1928-04-01    48.4\n",
       "1928-05-01    59.4\n",
       "Name: temp, dtype: float64"
      ]
     },
     "execution_count": 12,
     "metadata": {},
     "output_type": "execute_result"
    }
   ],
   "source": [
    "temp_series = pd.Series(temp_list, index=date_list, name='temp')\n",
    "temp_series.head()"
   ]
  },
  {
   "cell_type": "code",
   "execution_count": 13,
   "metadata": {},
   "outputs": [
    {
     "data": {
      "text/plain": [
       "1970-08-01    77.6\n",
       "1970-09-01    70.8\n",
       "1970-10-01    58.9\n",
       "1970-11-01    48.5\n",
       "1970-12-01    34.4\n",
       "Name: temp, dtype: float64"
      ]
     },
     "execution_count": 13,
     "metadata": {},
     "output_type": "execute_result"
    }
   ],
   "source": [
    "# save the future (1971 - 1972)\n",
    "temp_future = temp_series[temp_series.index>=dt.date(1971,1,1)]\n",
    "temp_series = temp_series[temp_series.index<dt.date(1971,1,1)]\n",
    "temp_series.tail()"
   ]
  },
  {
   "cell_type": "markdown",
   "metadata": {},
   "source": [
    "#### Monthly avg precipitation data"
   ]
  },
  {
   "cell_type": "code",
   "execution_count": 15,
   "metadata": {},
   "outputs": [
    {
     "data": {
      "text/html": [
       "<div>\n",
       "<style>\n",
       "    .dataframe thead tr:only-child th {\n",
       "        text-align: right;\n",
       "    }\n",
       "\n",
       "    .dataframe thead th {\n",
       "        text-align: left;\n",
       "    }\n",
       "\n",
       "    .dataframe tbody tr th {\n",
       "        vertical-align: top;\n",
       "    }\n",
       "</style>\n",
       "<table border=\"1\" class=\"dataframe\">\n",
       "  <thead>\n",
       "    <tr style=\"text-align: right;\">\n",
       "      <th></th>\n",
       "      <th>YEAR</th>\n",
       "      <th>JAN</th>\n",
       "      <th>FEB</th>\n",
       "      <th>MAR</th>\n",
       "      <th>APR</th>\n",
       "      <th>MAY</th>\n",
       "      <th>JUN</th>\n",
       "      <th>JUL</th>\n",
       "      <th>AUG</th>\n",
       "      <th>SEP</th>\n",
       "      <th>OCT</th>\n",
       "      <th>NOV</th>\n",
       "      <th>DEC</th>\n",
       "      <th>ANNUAL</th>\n",
       "    </tr>\n",
       "  </thead>\n",
       "  <tbody>\n",
       "    <tr>\n",
       "      <th>0</th>\n",
       "      <td>1869</td>\n",
       "      <td>2.53</td>\n",
       "      <td>6.87</td>\n",
       "      <td>4.61</td>\n",
       "      <td>1.39</td>\n",
       "      <td>4.15</td>\n",
       "      <td>4.40</td>\n",
       "      <td>3.20</td>\n",
       "      <td>1.76</td>\n",
       "      <td>2.81</td>\n",
       "      <td>6.48</td>\n",
       "      <td>2.03</td>\n",
       "      <td>5.02</td>\n",
       "      <td>45.25</td>\n",
       "    </tr>\n",
       "    <tr>\n",
       "      <th>1</th>\n",
       "      <td>1870</td>\n",
       "      <td>4.41</td>\n",
       "      <td>2.83</td>\n",
       "      <td>3.33</td>\n",
       "      <td>5.11</td>\n",
       "      <td>1.83</td>\n",
       "      <td>2.82</td>\n",
       "      <td>3.76</td>\n",
       "      <td>3.07</td>\n",
       "      <td>2.52</td>\n",
       "      <td>4.97</td>\n",
       "      <td>2.42</td>\n",
       "      <td>2.18</td>\n",
       "      <td>39.25</td>\n",
       "    </tr>\n",
       "    <tr>\n",
       "      <th>2</th>\n",
       "      <td>1871</td>\n",
       "      <td>2.07</td>\n",
       "      <td>2.72</td>\n",
       "      <td>5.54</td>\n",
       "      <td>3.03</td>\n",
       "      <td>4.04</td>\n",
       "      <td>7.05</td>\n",
       "      <td>5.57</td>\n",
       "      <td>5.60</td>\n",
       "      <td>2.34</td>\n",
       "      <td>7.50</td>\n",
       "      <td>3.56</td>\n",
       "      <td>2.24</td>\n",
       "      <td>51.26</td>\n",
       "    </tr>\n",
       "    <tr>\n",
       "      <th>3</th>\n",
       "      <td>1872</td>\n",
       "      <td>1.88</td>\n",
       "      <td>1.29</td>\n",
       "      <td>3.74</td>\n",
       "      <td>2.29</td>\n",
       "      <td>2.68</td>\n",
       "      <td>2.93</td>\n",
       "      <td>7.83</td>\n",
       "      <td>6.29</td>\n",
       "      <td>2.95</td>\n",
       "      <td>3.35</td>\n",
       "      <td>4.08</td>\n",
       "      <td>3.18</td>\n",
       "      <td>42.49</td>\n",
       "    </tr>\n",
       "    <tr>\n",
       "      <th>4</th>\n",
       "      <td>1873</td>\n",
       "      <td>5.34</td>\n",
       "      <td>3.80</td>\n",
       "      <td>2.09</td>\n",
       "      <td>4.16</td>\n",
       "      <td>3.69</td>\n",
       "      <td>1.28</td>\n",
       "      <td>4.61</td>\n",
       "      <td>9.56</td>\n",
       "      <td>3.14</td>\n",
       "      <td>2.73</td>\n",
       "      <td>4.63</td>\n",
       "      <td>2.96</td>\n",
       "      <td>47.99</td>\n",
       "    </tr>\n",
       "  </tbody>\n",
       "</table>\n",
       "</div>"
      ],
      "text/plain": [
       "   YEAR   JAN   FEB   MAR   APR   MAY   JUN   JUL   AUG   SEP   OCT   NOV  \\\n",
       "0  1869  2.53  6.87  4.61  1.39  4.15  4.40  3.20  1.76  2.81  6.48  2.03   \n",
       "1  1870  4.41  2.83  3.33  5.11  1.83  2.82  3.76  3.07  2.52  4.97  2.42   \n",
       "2  1871  2.07  2.72  5.54  3.03  4.04  7.05  5.57  5.60  2.34  7.50  3.56   \n",
       "3  1872  1.88  1.29  3.74  2.29  2.68  2.93  7.83  6.29  2.95  3.35  4.08   \n",
       "4  1873  5.34  3.80  2.09  4.16  3.69  1.28  4.61  9.56  3.14  2.73  4.63   \n",
       "\n",
       "    DEC ANNUAL  \n",
       "0  5.02  45.25  \n",
       "1  2.18  39.25  \n",
       "2  2.24  51.26  \n",
       "3  3.18  42.49  \n",
       "4  2.96  47.99  "
      ]
     },
     "execution_count": 15,
     "metadata": {},
     "output_type": "execute_result"
    }
   ],
   "source": [
    "# monthly precipitation data\n",
    "# don't run this over and over again - will run out of API credits\n",
    "#pdfToTable('centralpark_monthlyannualprecip.pdf', 'fehzjlvcj5ky', 'csv', 'centralpark_monthlyannualprecip.csv')\n",
    "precip = pd.read_csv('centralpark_monthlyannualprecip.csv', header=2)\n",
    "precip.head()"
   ]
  },
  {
   "cell_type": "code",
   "execution_count": 16,
   "metadata": {},
   "outputs": [
    {
     "name": "stdout",
     "output_type": "stream",
     "text": [
      "<class 'pandas.core.frame.DataFrame'>\n",
      "Int64Index: 45 entries, 60 to 105\n",
      "Data columns (total 13 columns):\n",
      "YEAR    45 non-null int64\n",
      "JAN     45 non-null float64\n",
      "FEB     45 non-null float64\n",
      "MAR     45 non-null float64\n",
      "APR     45 non-null float64\n",
      "MAY     45 non-null float64\n",
      "JUN     45 non-null float64\n",
      "JUL     45 non-null float64\n",
      "AUG     45 non-null float64\n",
      "SEP     45 non-null float64\n",
      "OCT     45 non-null float64\n",
      "NOV     45 non-null float64\n",
      "DEC     45 non-null float64\n",
      "dtypes: float64(12), int64(1)\n",
      "memory usage: 4.9 KB\n"
     ]
    }
   ],
   "source": [
    "# clean up:\n",
    "# remove rows with repeated column names from original PDF\n",
    "precip = precip[precip['YEAR']!='YEAR'] \n",
    "\n",
    "# convert YEAR to int\n",
    "precip['YEAR'] = precip['YEAR'].astype(int) \n",
    "\n",
    "# keep relevant years\n",
    "precip = precip[(precip.YEAR>=1928) & (precip.YEAR<=1972)] \n",
    "\n",
    "# convert month values to floats\n",
    "months = ['JAN', 'FEB', 'MAR', 'APR', 'MAY', 'JUN', \n",
    "          'JUL', 'AUG', 'SEP','OCT', 'NOV', 'DEC']\n",
    "\n",
    "precip[months] = precip[months].astype(float)\n",
    "\n",
    "# drop ANNUAL column\n",
    "precip.drop('ANNUAL', axis=1, inplace=True)\n",
    "\n",
    "precip.info()"
   ]
  },
  {
   "cell_type": "code",
   "execution_count": 17,
   "metadata": {},
   "outputs": [
    {
     "data": {
      "text/plain": [
       "[1.8700000000000001,\n",
       " 4.8399999999999999,\n",
       " 2.8300000000000001,\n",
       " 4.8300000000000001,\n",
       " 2.0699999999999998]"
      ]
     },
     "execution_count": 17,
     "metadata": {},
     "output_type": "execute_result"
    }
   ],
   "source": [
    "# reshape into a series\n",
    "precip_list = []\n",
    "\n",
    "for _, row in precip.iterrows():\n",
    "    for month in range(1,13):\n",
    "        precip_list.append(row[month])\n",
    "    \n",
    "precip_list[:5]"
   ]
  },
  {
   "cell_type": "code",
   "execution_count": 18,
   "metadata": {},
   "outputs": [
    {
     "data": {
      "text/plain": [
       "1928-01-01    1.87\n",
       "1928-02-01    4.84\n",
       "1928-03-01    2.83\n",
       "1928-04-01    4.83\n",
       "1928-05-01    2.07\n",
       "Name: precip, dtype: float64"
      ]
     },
     "execution_count": 18,
     "metadata": {},
     "output_type": "execute_result"
    }
   ],
   "source": [
    "precip_series = pd.Series(precip_list, index=date_list, name='precip')\n",
    "precip_series.head()"
   ]
  },
  {
   "cell_type": "code",
   "execution_count": 19,
   "metadata": {},
   "outputs": [
    {
     "data": {
      "text/plain": [
       "1970-08-01    2.47\n",
       "1970-09-01    1.74\n",
       "1970-10-01    2.48\n",
       "1970-11-01    5.14\n",
       "1970-12-01    2.82\n",
       "Name: precip, dtype: float64"
      ]
     },
     "execution_count": 19,
     "metadata": {},
     "output_type": "execute_result"
    }
   ],
   "source": [
    "# save the future (1971 - 1972)\n",
    "precip_future = precip_series[precip_series.index>=dt.date(1971,1,1)]\n",
    "precip_series = precip_series[precip_series.index<dt.date(1971,1,1)]\n",
    "precip_series.tail()"
   ]
  },
  {
   "cell_type": "markdown",
   "metadata": {},
   "source": [
    "## Export the series"
   ]
  },
  {
   "cell_type": "code",
   "execution_count": 21,
   "metadata": {
    "collapsed": true
   },
   "outputs": [],
   "source": [
    "temp_series.to_csv('temp_series.csv')\n",
    "precip_series.to_csv('precip_series.csv')"
   ]
  }
 ],
 "metadata": {
  "kernelspec": {
   "display_name": "Python 3",
   "language": "python",
   "name": "python3"
  },
  "language_info": {
   "codemirror_mode": {
    "name": "ipython",
    "version": 3
   },
   "file_extension": ".py",
   "mimetype": "text/x-python",
   "name": "python",
   "nbconvert_exporter": "python",
   "pygments_lexer": "ipython3",
   "version": "3.6.2"
  }
 },
 "nbformat": 4,
 "nbformat_minor": 2
}
