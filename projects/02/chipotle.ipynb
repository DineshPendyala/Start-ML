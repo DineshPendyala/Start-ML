{
 "cells": [
  {
   "cell_type": "markdown",
   "metadata": {},
   "source": [
    "<img src=\"http://imgur.com/1ZcRyrc.png\" style=\"float: left; margin: 20px; height: 55px\">\n",
    "\n",
    "# Project 2: Analyzing Chipotle Data\n",
    "\n",
    "_Author: Joseph Nelson (DC)_\n",
    "\n",
    "---"
   ]
  },
  {
   "cell_type": "markdown",
   "metadata": {},
   "source": [
    "For Project 2, you will complete a series of exercises exploring [order data from Chipotle](https://github.com/TheUpshot/chipotle), compliments of _The New York Times'_ \"The Upshot.\"\n",
    "\n",
    "For these exercises, you will conduct basic exploratory data analysis (Pandas not required) to understand the essentials of Chipotle's order data: how many orders are being made, the average price per order, how many different ingredients are used, etc. These allow you to practice business analysis skills while also becoming comfortable with Python."
   ]
  },
  {
   "cell_type": "markdown",
   "metadata": {},
   "source": [
    "---\n",
    "\n",
    "## Basic Level"
   ]
  },
  {
   "cell_type": "markdown",
   "metadata": {},
   "source": [
    "### Part 1: Read in the file with `csv.reader()` and store it in an object called `file_nested_list`.\n",
    "\n",
    "Hint: This is a TSV (tab-separated value) file, and `csv.reader()` needs to be told [how to handle it](https://docs.python.org/2/library/csv.html)."
   ]
  },
  {
   "cell_type": "code",
   "execution_count": 214,
   "metadata": {
    "collapsed": true
   },
   "outputs": [],
   "source": [
    "import csv\n",
    "from collections import namedtuple   # Convenient to store the data rows\n",
    "\n",
    "DATA_FILE = './data/chipotle.tsv'"
   ]
  },
  {
   "cell_type": "code",
   "execution_count": 215,
   "metadata": {},
   "outputs": [
    {
     "data": {
      "text/plain": [
       "[['order_id', 'quantity', 'item_name', 'choice_description', 'item_price'],\n",
       " ['1', '1', 'Chips and Fresh Tomato Salsa', 'NULL', '$2.39 '],\n",
       " ['1', '1', 'Izze', '[Clementine]', '$3.39 '],\n",
       " ['1', '1', 'Nantucket Nectar', '[Apple]', '$3.39 '],\n",
       " ['1', '1', 'Chips and Tomatillo-Green Chili Salsa', 'NULL', '$2.39 ']]"
      ]
     },
     "execution_count": 215,
     "metadata": {},
     "output_type": "execute_result"
    }
   ],
   "source": [
    "file_nested_list = [] # an empty list to append data to\n",
    "\n",
    "with open(DATA_FILE) as fd:\n",
    "    rd = csv.reader(fd, delimiter=\"\\t\", quotechar='\"')\n",
    "    for row in rd: # loop through the rows (aka lists) in rd\n",
    "        file_nested_list.append(row)\n",
    "        \n",
    "file_nested_list[:5] # look at the first 5 rows"
   ]
  },
  {
   "cell_type": "markdown",
   "metadata": {},
   "source": [
    "### Part 2: Separate `file_nested_list` into the `header` and the `data`.\n"
   ]
  },
  {
   "cell_type": "code",
   "execution_count": 216,
   "metadata": {},
   "outputs": [
    {
     "data": {
      "text/plain": [
       "['order_id', 'quantity', 'item_name', 'choice_description', 'item_price']"
      ]
     },
     "execution_count": 216,
     "metadata": {},
     "output_type": "execute_result"
    }
   ],
   "source": [
    "header = file_nested_list[0] # create header from first row in file_nested_list\n",
    "header"
   ]
  },
  {
   "cell_type": "code",
   "execution_count": 217,
   "metadata": {},
   "outputs": [
    {
     "data": {
      "text/plain": [
       "[['1', '1', 'Chips and Fresh Tomato Salsa', 'NULL', '$2.39 '],\n",
       " ['1', '1', 'Izze', '[Clementine]', '$3.39 '],\n",
       " ['1', '1', 'Nantucket Nectar', '[Apple]', '$3.39 '],\n",
       " ['1', '1', 'Chips and Tomatillo-Green Chili Salsa', 'NULL', '$2.39 '],\n",
       " ['2',\n",
       "  '2',\n",
       "  'Chicken Bowl',\n",
       "  '[Tomatillo-Red Chili Salsa (Hot), [Black Beans, Rice, Cheese, Sour Cream]]',\n",
       "  '$16.98 ']]"
      ]
     },
     "execution_count": 217,
     "metadata": {},
     "output_type": "execute_result"
    }
   ],
   "source": [
    "data = file_nested_list[1:] # create data from every row AFTER the first\n",
    "data[:5] # show the first 5 rows"
   ]
  },
  {
   "cell_type": "markdown",
   "metadata": {},
   "source": [
    "---\n",
    "\n",
    "## Intermediate Level"
   ]
  },
  {
   "cell_type": "markdown",
   "metadata": {},
   "source": [
    "### Part 3: Calculate the average price of an order.\n",
    "\n",
    "Hint: Examine the data to see if the `quantity` column is relevant to this calculation.\n",
    "\n",
    "Hint: Think carefully about the simplest way to do this!"
   ]
  },
  {
   "cell_type": "code",
   "execution_count": 218,
   "metadata": {},
   "outputs": [
    {
     "data": {
      "text/html": [
       "<div>\n",
       "<style>\n",
       "    .dataframe thead tr:only-child th {\n",
       "        text-align: right;\n",
       "    }\n",
       "\n",
       "    .dataframe thead th {\n",
       "        text-align: left;\n",
       "    }\n",
       "\n",
       "    .dataframe tbody tr th {\n",
       "        vertical-align: top;\n",
       "    }\n",
       "</style>\n",
       "<table border=\"1\" class=\"dataframe\">\n",
       "  <thead>\n",
       "    <tr style=\"text-align: right;\">\n",
       "      <th></th>\n",
       "      <th>order_id</th>\n",
       "      <th>quantity</th>\n",
       "      <th>item_name</th>\n",
       "      <th>choice_description</th>\n",
       "      <th>item_price</th>\n",
       "    </tr>\n",
       "  </thead>\n",
       "  <tbody>\n",
       "    <tr>\n",
       "      <th>0</th>\n",
       "      <td>1</td>\n",
       "      <td>1</td>\n",
       "      <td>Chips and Fresh Tomato Salsa</td>\n",
       "      <td>NULL</td>\n",
       "      <td>$2.39</td>\n",
       "    </tr>\n",
       "    <tr>\n",
       "      <th>1</th>\n",
       "      <td>1</td>\n",
       "      <td>1</td>\n",
       "      <td>Izze</td>\n",
       "      <td>[Clementine]</td>\n",
       "      <td>$3.39</td>\n",
       "    </tr>\n",
       "    <tr>\n",
       "      <th>2</th>\n",
       "      <td>1</td>\n",
       "      <td>1</td>\n",
       "      <td>Nantucket Nectar</td>\n",
       "      <td>[Apple]</td>\n",
       "      <td>$3.39</td>\n",
       "    </tr>\n",
       "    <tr>\n",
       "      <th>3</th>\n",
       "      <td>1</td>\n",
       "      <td>1</td>\n",
       "      <td>Chips and Tomatillo-Green Chili Salsa</td>\n",
       "      <td>NULL</td>\n",
       "      <td>$2.39</td>\n",
       "    </tr>\n",
       "    <tr>\n",
       "      <th>4</th>\n",
       "      <td>2</td>\n",
       "      <td>2</td>\n",
       "      <td>Chicken Bowl</td>\n",
       "      <td>[Tomatillo-Red Chili Salsa (Hot), [Black Beans...</td>\n",
       "      <td>$16.98</td>\n",
       "    </tr>\n",
       "  </tbody>\n",
       "</table>\n",
       "</div>"
      ],
      "text/plain": [
       "  order_id quantity                              item_name  \\\n",
       "0        1        1           Chips and Fresh Tomato Salsa   \n",
       "1        1        1                                   Izze   \n",
       "2        1        1                       Nantucket Nectar   \n",
       "3        1        1  Chips and Tomatillo-Green Chili Salsa   \n",
       "4        2        2                           Chicken Bowl   \n",
       "\n",
       "                                  choice_description item_price  \n",
       "0                                               NULL     $2.39   \n",
       "1                                       [Clementine]     $3.39   \n",
       "2                                            [Apple]     $3.39   \n",
       "3                                               NULL     $2.39   \n",
       "4  [Tomatillo-Red Chili Salsa (Hot), [Black Beans...    $16.98   "
      ]
     },
     "execution_count": 218,
     "metadata": {},
     "output_type": "execute_result"
    }
   ],
   "source": [
    "# turn header and data into a dataframe\n",
    "orders = pd.DataFrame(data, columns=header)\n",
    "\n",
    "orders.head()"
   ]
  },
  {
   "cell_type": "code",
   "execution_count": 219,
   "metadata": {},
   "outputs": [
    {
     "name": "stdout",
     "output_type": "stream",
     "text": [
      "<class 'pandas.core.frame.DataFrame'>\n",
      "RangeIndex: 4622 entries, 0 to 4621\n",
      "Data columns (total 5 columns):\n",
      "order_id              4622 non-null object\n",
      "quantity              4622 non-null int64\n",
      "item_name             4622 non-null object\n",
      "choice_description    4622 non-null object\n",
      "item_price            4622 non-null float64\n",
      "dtypes: float64(1), int64(1), object(3)\n",
      "memory usage: 180.6+ KB\n"
     ]
    }
   ],
   "source": [
    "# convert quantity to int and item_price to float\n",
    "orders['quantity'] =  orders['quantity'].astype(int)\n",
    "orders['item_price'] =  orders['item_price'].map(lambda x: float(x.replace('$','')))\n",
    "\n",
    "orders.info() # confirm that quantity is now an int and item_price is now a float"
   ]
  },
  {
   "cell_type": "code",
   "execution_count": 220,
   "metadata": {},
   "outputs": [
    {
     "data": {
      "text/plain": [
       "0     2.39\n",
       "1     3.39\n",
       "2     3.39\n",
       "3     2.39\n",
       "4    33.96\n",
       "Name: total_price, dtype: float64"
      ]
     },
     "execution_count": 220,
     "metadata": {},
     "output_type": "execute_result"
    }
   ],
   "source": [
    "# first create a total_price columm to account for line items with quantity > 1\n",
    "orders['total_price'] = orders['quantity'] * orders['item_price']\n",
    "\n",
    "orders['total_price'].head()"
   ]
  },
  {
   "cell_type": "code",
   "execution_count": 221,
   "metadata": {},
   "outputs": [
    {
     "name": "stdout",
     "output_type": "stream",
     "text": [
      "The average order cost $21.39\n"
     ]
    }
   ],
   "source": [
    "# calculate avg order cost\n",
    "avg_order_cost = orders.groupby('order_id')['total_price'].sum().mean()\n",
    "print('The average order cost ${:.2f}'.format(avg_order_cost))"
   ]
  },
  {
   "cell_type": "markdown",
   "metadata": {},
   "source": [
    "### Part 4: Create a list (or set) named `unique_sodas` containing all of unique sodas and soft drinks that Chipotle sells.\n",
    "\n",
    "Note: Just look for `'Canned Soda'` and `'Canned Soft Drink'`, and ignore other drinks like `'Izze'`."
   ]
  },
  {
   "cell_type": "code",
   "execution_count": 222,
   "metadata": {},
   "outputs": [
    {
     "name": "stdout",
     "output_type": "stream",
     "text": [
      "['Sprite', 'Dr. Pepper', 'Mountain Dew', 'Diet Dr. Pepper', 'Coca Cola', 'Diet Coke', 'Coke', 'Lemonade', 'Nestea']\n"
     ]
    }
   ],
   "source": [
    "# find all the rows with a soda purchase, get the choice_description details and only keep unique values\n",
    "unique_sodas = orders[orders['item_name'].isin(['Canned Soda','Canned Soft Drink'])]['choice_description'].unique()\n",
    "unique_sodas = [x.replace('[','').replace(']','') for x in unique_sodas] # remove the [] characters\n",
    "\n",
    "print(unique_sodas)"
   ]
  },
  {
   "cell_type": "markdown",
   "metadata": {},
   "source": [
    "---\n",
    "\n",
    "## Advanced Level\n"
   ]
  },
  {
   "cell_type": "markdown",
   "metadata": {},
   "source": [
    "### Part 5: Calculate the average number of toppings per burrito.\n",
    "\n",
    "Note: Let's ignore the `quantity` column to simplify this task.\n",
    "\n",
    "Hint: Think carefully about the easiest way to count the number of toppings!\n"
   ]
  },
  {
   "cell_type": "code",
   "execution_count": 223,
   "metadata": {},
   "outputs": [
    {
     "data": {
      "text/html": [
       "<div>\n",
       "<style>\n",
       "    .dataframe thead tr:only-child th {\n",
       "        text-align: right;\n",
       "    }\n",
       "\n",
       "    .dataframe thead th {\n",
       "        text-align: left;\n",
       "    }\n",
       "\n",
       "    .dataframe tbody tr th {\n",
       "        vertical-align: top;\n",
       "    }\n",
       "</style>\n",
       "<table border=\"1\" class=\"dataframe\">\n",
       "  <thead>\n",
       "    <tr style=\"text-align: right;\">\n",
       "      <th></th>\n",
       "      <th>order_id</th>\n",
       "      <th>quantity</th>\n",
       "      <th>item_name</th>\n",
       "      <th>choice_description</th>\n",
       "      <th>item_price</th>\n",
       "      <th>total_price</th>\n",
       "    </tr>\n",
       "  </thead>\n",
       "  <tbody>\n",
       "    <tr>\n",
       "      <th>7</th>\n",
       "      <td>4</td>\n",
       "      <td>1</td>\n",
       "      <td>Steak Burrito</td>\n",
       "      <td>[Tomatillo Red Chili Salsa, [Fajita Vegetables...</td>\n",
       "      <td>11.75</td>\n",
       "      <td>11.75</td>\n",
       "    </tr>\n",
       "    <tr>\n",
       "      <th>9</th>\n",
       "      <td>5</td>\n",
       "      <td>1</td>\n",
       "      <td>Steak Burrito</td>\n",
       "      <td>[Fresh Tomato Salsa, [Rice, Black Beans, Pinto...</td>\n",
       "      <td>9.25</td>\n",
       "      <td>9.25</td>\n",
       "    </tr>\n",
       "    <tr>\n",
       "      <th>16</th>\n",
       "      <td>8</td>\n",
       "      <td>1</td>\n",
       "      <td>Chicken Burrito</td>\n",
       "      <td>[Tomatillo-Green Chili Salsa (Medium), [Pinto ...</td>\n",
       "      <td>8.49</td>\n",
       "      <td>8.49</td>\n",
       "    </tr>\n",
       "    <tr>\n",
       "      <th>17</th>\n",
       "      <td>9</td>\n",
       "      <td>1</td>\n",
       "      <td>Chicken Burrito</td>\n",
       "      <td>[Fresh Tomato Salsa (Mild), [Black Beans, Rice...</td>\n",
       "      <td>8.49</td>\n",
       "      <td>8.49</td>\n",
       "    </tr>\n",
       "    <tr>\n",
       "      <th>21</th>\n",
       "      <td>11</td>\n",
       "      <td>1</td>\n",
       "      <td>Barbacoa Burrito</td>\n",
       "      <td>[[Fresh Tomato Salsa (Mild), Tomatillo-Green C...</td>\n",
       "      <td>8.99</td>\n",
       "      <td>8.99</td>\n",
       "    </tr>\n",
       "  </tbody>\n",
       "</table>\n",
       "</div>"
      ],
      "text/plain": [
       "   order_id  quantity         item_name  \\\n",
       "7         4         1     Steak Burrito   \n",
       "9         5         1     Steak Burrito   \n",
       "16        8         1   Chicken Burrito   \n",
       "17        9         1   Chicken Burrito   \n",
       "21       11         1  Barbacoa Burrito   \n",
       "\n",
       "                                   choice_description  item_price  total_price  \n",
       "7   [Tomatillo Red Chili Salsa, [Fajita Vegetables...       11.75        11.75  \n",
       "9   [Fresh Tomato Salsa, [Rice, Black Beans, Pinto...        9.25         9.25  \n",
       "16  [Tomatillo-Green Chili Salsa (Medium), [Pinto ...        8.49         8.49  \n",
       "17  [Fresh Tomato Salsa (Mild), [Black Beans, Rice...        8.49         8.49  \n",
       "21  [[Fresh Tomato Salsa (Mild), Tomatillo-Green C...        8.99         8.99  "
      ]
     },
     "execution_count": 223,
     "metadata": {},
     "output_type": "execute_result"
    }
   ],
   "source": [
    "burrito_orders = orders[orders['item_name'].str.contains('Burrito')] # find the rows where item_name contains 'Burrito'\n",
    "\n",
    "burrito_orders.head()"
   ]
  },
  {
   "cell_type": "code",
   "execution_count": 224,
   "metadata": {},
   "outputs": [
    {
     "name": "stdout",
     "output_type": "stream",
     "text": [
      "The average burrito has 5.4 toppings\n"
     ]
    }
   ],
   "source": [
    "# create a container for the count of toppings per burrito\n",
    "toppings_count = []\n",
    "\n",
    "for order in burrito_orders.choice_description: # loop through each burrito order\n",
    "    toppings_count.append(len(order.split(','))) # split choice_description on every comma, then count the items\n",
    "\n",
    "avg_toppings = sum(toppings_count)/len(toppings_count) # calculate average # of toppings\n",
    "print('The average burrito has {:.1f} toppings'.format(avg_toppings))"
   ]
  },
  {
   "cell_type": "markdown",
   "metadata": {},
   "source": [
    "### Part 6: Create a dictionary. Let the keys represent chip orders and the values represent the total number of orders.\n",
    "\n",
    "Expected output: `{'Chips and Roasted Chili-Corn Salsa': 18, ... }`\n",
    "\n",
    "Note: Please take the `quantity` column into account!\n",
    "\n",
    "Optional: Learn how to use `.defaultdict()` to simplify your code."
   ]
  },
  {
   "cell_type": "code",
   "execution_count": 226,
   "metadata": {
    "collapsed": true
   },
   "outputs": [],
   "source": [
    "from collections import defaultdict\n",
    "\n",
    "chip_dict = defaultdict(int)\n",
    "\n",
    "for (name, count) in orders[orders['item_name'].str.contains('Chips')].groupby('item_name')['quantity'].sum().items():\n",
    "    chip_dict[name] += count"
   ]
  },
  {
   "cell_type": "code",
   "execution_count": 227,
   "metadata": {},
   "outputs": [
    {
     "data": {
      "text/plain": [
       "defaultdict(int,\n",
       "            {'Chips': 230,\n",
       "             'Chips and Fresh Tomato Salsa': 130,\n",
       "             'Chips and Guacamole': 506,\n",
       "             'Chips and Mild Fresh Tomato Salsa': 1,\n",
       "             'Chips and Roasted Chili Corn Salsa': 23,\n",
       "             'Chips and Roasted Chili-Corn Salsa': 18,\n",
       "             'Chips and Tomatillo Green Chili Salsa': 45,\n",
       "             'Chips and Tomatillo Red Chili Salsa': 50,\n",
       "             'Chips and Tomatillo-Green Chili Salsa': 33,\n",
       "             'Chips and Tomatillo-Red Chili Salsa': 25,\n",
       "             'Side of Chips': 110})"
      ]
     },
     "execution_count": 227,
     "metadata": {},
     "output_type": "execute_result"
    }
   ],
   "source": [
    "chip_dict"
   ]
  },
  {
   "cell_type": "markdown",
   "metadata": {},
   "source": [
    "---\n",
    "\n",
    "## Bonus: Craft a problem statement about this data that interests you, and then answer it!\n"
   ]
  },
  {
   "cell_type": "code",
   "execution_count": 228,
   "metadata": {
    "collapsed": true
   },
   "outputs": [],
   "source": [
    "# what is the relationship between # of items and total cost of an order?\n",
    "order_summary = orders.groupby('order_id')[['quantity','total_price']].sum()"
   ]
  },
  {
   "cell_type": "code",
   "execution_count": 229,
   "metadata": {},
   "outputs": [
    {
     "data": {
      "image/png": "[encoded data removed]",
      "text/plain": [
       "<matplotlib.figure.Figure at 0x120a37080>"
      ]
     },
     "metadata": {},
     "output_type": "display_data"
    }
   ],
   "source": [
    "import matplotlib.pyplot as plt\n",
    "\n",
    "plt.scatter(order_summary.quantity, order_summary.total_price)\n",
    "plt.title('Total items vs total cost of an order')\n",
    "plt.xlabel('Total items in order')\n",
    "plt.ylabel('Total cost of order')\n",
    "plt.show()"
   ]
  },
  {
   "cell_type": "code",
   "execution_count": 230,
   "metadata": {},
   "outputs": [
    {
     "data": {
      "text/html": [
       "<div>\n",
       "<style>\n",
       "    .dataframe thead tr:only-child th {\n",
       "        text-align: right;\n",
       "    }\n",
       "\n",
       "    .dataframe thead th {\n",
       "        text-align: left;\n",
       "    }\n",
       "\n",
       "    .dataframe tbody tr th {\n",
       "        vertical-align: top;\n",
       "    }\n",
       "</style>\n",
       "<table border=\"1\" class=\"dataframe\">\n",
       "  <thead>\n",
       "    <tr style=\"text-align: right;\">\n",
       "      <th></th>\n",
       "      <th>quantity</th>\n",
       "      <th>total_price</th>\n",
       "    </tr>\n",
       "  </thead>\n",
       "  <tbody>\n",
       "    <tr>\n",
       "      <th>quantity</th>\n",
       "      <td>1.000000</td>\n",
       "      <td>0.778377</td>\n",
       "    </tr>\n",
       "    <tr>\n",
       "      <th>total_price</th>\n",
       "      <td>0.778377</td>\n",
       "      <td>1.000000</td>\n",
       "    </tr>\n",
       "  </tbody>\n",
       "</table>\n",
       "</div>"
      ],
      "text/plain": [
       "             quantity  total_price\n",
       "quantity     1.000000     0.778377\n",
       "total_price  0.778377     1.000000"
      ]
     },
     "execution_count": 230,
     "metadata": {},
     "output_type": "execute_result"
    }
   ],
   "source": [
    "# see the correlation between quanity and total_price (by order)\n",
    "orders.groupby('order_id')[['quantity','total_price']].sum().corr()"
   ]
  },
  {
   "cell_type": "code",
   "execution_count": 231,
   "metadata": {
    "collapsed": true
   },
   "outputs": [],
   "source": [
    "# check out the order with ~35 items!\n",
    "big_order_id = order_summary[order_summary.quantity > 30].index[0]"
   ]
  },
  {
   "cell_type": "code",
   "execution_count": 232,
   "metadata": {},
   "outputs": [
    {
     "data": {
      "text/html": [
       "<div>\n",
       "<style>\n",
       "    .dataframe thead tr:only-child th {\n",
       "        text-align: right;\n",
       "    }\n",
       "\n",
       "    .dataframe thead th {\n",
       "        text-align: left;\n",
       "    }\n",
       "\n",
       "    .dataframe tbody tr th {\n",
       "        vertical-align: top;\n",
       "    }\n",
       "</style>\n",
       "<table border=\"1\" class=\"dataframe\">\n",
       "  <thead>\n",
       "    <tr style=\"text-align: right;\">\n",
       "      <th></th>\n",
       "      <th>order_id</th>\n",
       "      <th>quantity</th>\n",
       "      <th>item_name</th>\n",
       "      <th>choice_description</th>\n",
       "      <th>item_price</th>\n",
       "      <th>total_price</th>\n",
       "    </tr>\n",
       "  </thead>\n",
       "  <tbody>\n",
       "    <tr>\n",
       "      <th>3598</th>\n",
       "      <td>1443</td>\n",
       "      <td>15</td>\n",
       "      <td>Chips and Fresh Tomato Salsa</td>\n",
       "      <td>NULL</td>\n",
       "      <td>44.25</td>\n",
       "      <td>663.75</td>\n",
       "    </tr>\n",
       "    <tr>\n",
       "      <th>3599</th>\n",
       "      <td>1443</td>\n",
       "      <td>7</td>\n",
       "      <td>Bottled Water</td>\n",
       "      <td>NULL</td>\n",
       "      <td>10.50</td>\n",
       "      <td>73.50</td>\n",
       "    </tr>\n",
       "    <tr>\n",
       "      <th>3600</th>\n",
       "      <td>1443</td>\n",
       "      <td>1</td>\n",
       "      <td>6 Pack Soft Drink</td>\n",
       "      <td>[Coke]</td>\n",
       "      <td>6.49</td>\n",
       "      <td>6.49</td>\n",
       "    </tr>\n",
       "    <tr>\n",
       "      <th>3601</th>\n",
       "      <td>1443</td>\n",
       "      <td>3</td>\n",
       "      <td>Veggie Burrito</td>\n",
       "      <td>[Fresh Tomato Salsa, [Fajita Vegetables, Rice,...</td>\n",
       "      <td>33.75</td>\n",
       "      <td>101.25</td>\n",
       "    </tr>\n",
       "    <tr>\n",
       "      <th>3602</th>\n",
       "      <td>1443</td>\n",
       "      <td>4</td>\n",
       "      <td>Chicken Burrito</td>\n",
       "      <td>[Fresh Tomato Salsa, [Rice, Black Beans, Chees...</td>\n",
       "      <td>35.00</td>\n",
       "      <td>140.00</td>\n",
       "    </tr>\n",
       "    <tr>\n",
       "      <th>3603</th>\n",
       "      <td>1443</td>\n",
       "      <td>3</td>\n",
       "      <td>Steak Burrito</td>\n",
       "      <td>[Fresh Tomato Salsa, [Rice, Black Beans, Chees...</td>\n",
       "      <td>27.75</td>\n",
       "      <td>83.25</td>\n",
       "    </tr>\n",
       "    <tr>\n",
       "      <th>3604</th>\n",
       "      <td>1443</td>\n",
       "      <td>2</td>\n",
       "      <td>Bottled Water</td>\n",
       "      <td>NULL</td>\n",
       "      <td>3.00</td>\n",
       "      <td>6.00</td>\n",
       "    </tr>\n",
       "  </tbody>\n",
       "</table>\n",
       "</div>"
      ],
      "text/plain": [
       "     order_id  quantity                     item_name  \\\n",
       "3598     1443        15  Chips and Fresh Tomato Salsa   \n",
       "3599     1443         7                 Bottled Water   \n",
       "3600     1443         1             6 Pack Soft Drink   \n",
       "3601     1443         3                Veggie Burrito   \n",
       "3602     1443         4               Chicken Burrito   \n",
       "3603     1443         3                 Steak Burrito   \n",
       "3604     1443         2                 Bottled Water   \n",
       "\n",
       "                                     choice_description  item_price  \\\n",
       "3598                                               NULL       44.25   \n",
       "3599                                               NULL       10.50   \n",
       "3600                                             [Coke]        6.49   \n",
       "3601  [Fresh Tomato Salsa, [Fajita Vegetables, Rice,...       33.75   \n",
       "3602  [Fresh Tomato Salsa, [Rice, Black Beans, Chees...       35.00   \n",
       "3603  [Fresh Tomato Salsa, [Rice, Black Beans, Chees...       27.75   \n",
       "3604                                               NULL        3.00   \n",
       "\n",
       "      total_price  \n",
       "3598       663.75  \n",
       "3599        73.50  \n",
       "3600         6.49  \n",
       "3601       101.25  \n",
       "3602       140.00  \n",
       "3603        83.25  \n",
       "3604         6.00  "
      ]
     },
     "execution_count": 232,
     "metadata": {},
     "output_type": "execute_result"
    }
   ],
   "source": [
    "orders[orders.order_id.isin([big_order_id])]"
   ]
  },
  {
   "cell_type": "code",
   "execution_count": 233,
   "metadata": {
    "collapsed": true
   },
   "outputs": [],
   "source": [
    "# looks like there are some unusual values in the item_price column... $44 for chips + salsa??"
   ]
  },
  {
   "cell_type": "code",
   "execution_count": 236,
   "metadata": {},
   "outputs": [
    {
     "data": {
      "text/html": [
       "<div>\n",
       "<style>\n",
       "    .dataframe thead tr:only-child th {\n",
       "        text-align: right;\n",
       "    }\n",
       "\n",
       "    .dataframe thead th {\n",
       "        text-align: left;\n",
       "    }\n",
       "\n",
       "    .dataframe tbody tr th {\n",
       "        vertical-align: top;\n",
       "    }\n",
       "</style>\n",
       "<table border=\"1\" class=\"dataframe\">\n",
       "  <thead>\n",
       "    <tr style=\"text-align: right;\">\n",
       "      <th></th>\n",
       "      <th>order_id</th>\n",
       "      <th>quantity</th>\n",
       "      <th>item_name</th>\n",
       "      <th>choice_description</th>\n",
       "      <th>item_price</th>\n",
       "      <th>total_price</th>\n",
       "    </tr>\n",
       "  </thead>\n",
       "  <tbody>\n",
       "    <tr>\n",
       "      <th>3598</th>\n",
       "      <td>1443</td>\n",
       "      <td>15</td>\n",
       "      <td>Chips and Fresh Tomato Salsa</td>\n",
       "      <td>NULL</td>\n",
       "      <td>44.25</td>\n",
       "      <td>663.75</td>\n",
       "    </tr>\n",
       "    <tr>\n",
       "      <th>3480</th>\n",
       "      <td>1398</td>\n",
       "      <td>3</td>\n",
       "      <td>Carnitas Bowl</td>\n",
       "      <td>[Roasted Chili Corn Salsa, [Fajita Vegetables,...</td>\n",
       "      <td>35.25</td>\n",
       "      <td>105.75</td>\n",
       "    </tr>\n",
       "    <tr>\n",
       "      <th>1254</th>\n",
       "      <td>511</td>\n",
       "      <td>4</td>\n",
       "      <td>Chicken Burrito</td>\n",
       "      <td>[Fresh Tomato Salsa, [Fajita Vegetables, Rice,...</td>\n",
       "      <td>35.00</td>\n",
       "      <td>140.00</td>\n",
       "    </tr>\n",
       "    <tr>\n",
       "      <th>3602</th>\n",
       "      <td>1443</td>\n",
       "      <td>4</td>\n",
       "      <td>Chicken Burrito</td>\n",
       "      <td>[Fresh Tomato Salsa, [Rice, Black Beans, Chees...</td>\n",
       "      <td>35.00</td>\n",
       "      <td>140.00</td>\n",
       "    </tr>\n",
       "    <tr>\n",
       "      <th>3601</th>\n",
       "      <td>1443</td>\n",
       "      <td>3</td>\n",
       "      <td>Veggie Burrito</td>\n",
       "      <td>[Fresh Tomato Salsa, [Fajita Vegetables, Rice,...</td>\n",
       "      <td>33.75</td>\n",
       "      <td>101.25</td>\n",
       "    </tr>\n",
       "    <tr>\n",
       "      <th>409</th>\n",
       "      <td>178</td>\n",
       "      <td>3</td>\n",
       "      <td>Chicken Bowl</td>\n",
       "      <td>[[Fresh Tomato Salsa (Mild), Tomatillo-Green C...</td>\n",
       "      <td>32.94</td>\n",
       "      <td>98.82</td>\n",
       "    </tr>\n",
       "    <tr>\n",
       "      <th>1255</th>\n",
       "      <td>511</td>\n",
       "      <td>3</td>\n",
       "      <td>Steak Burrito</td>\n",
       "      <td>[Fresh Tomato Salsa, [Fajita Vegetables, Rice,...</td>\n",
       "      <td>27.75</td>\n",
       "      <td>83.25</td>\n",
       "    </tr>\n",
       "    <tr>\n",
       "      <th>3603</th>\n",
       "      <td>1443</td>\n",
       "      <td>3</td>\n",
       "      <td>Steak Burrito</td>\n",
       "      <td>[Fresh Tomato Salsa, [Rice, Black Beans, Chees...</td>\n",
       "      <td>27.75</td>\n",
       "      <td>83.25</td>\n",
       "    </tr>\n",
       "    <tr>\n",
       "      <th>3636</th>\n",
       "      <td>1454</td>\n",
       "      <td>3</td>\n",
       "      <td>Chicken Burrito</td>\n",
       "      <td>[Fresh Tomato Salsa, Rice]</td>\n",
       "      <td>26.25</td>\n",
       "      <td>78.75</td>\n",
       "    </tr>\n",
       "    <tr>\n",
       "      <th>3634</th>\n",
       "      <td>1454</td>\n",
       "      <td>3</td>\n",
       "      <td>Chicken Burrito</td>\n",
       "      <td>[Fresh Tomato Salsa]</td>\n",
       "      <td>26.25</td>\n",
       "      <td>78.75</td>\n",
       "    </tr>\n",
       "  </tbody>\n",
       "</table>\n",
       "</div>"
      ],
      "text/plain": [
       "     order_id  quantity                     item_name  \\\n",
       "3598     1443        15  Chips and Fresh Tomato Salsa   \n",
       "3480     1398         3                 Carnitas Bowl   \n",
       "1254      511         4               Chicken Burrito   \n",
       "3602     1443         4               Chicken Burrito   \n",
       "3601     1443         3                Veggie Burrito   \n",
       "409       178         3                  Chicken Bowl   \n",
       "1255      511         3                 Steak Burrito   \n",
       "3603     1443         3                 Steak Burrito   \n",
       "3636     1454         3               Chicken Burrito   \n",
       "3634     1454         3               Chicken Burrito   \n",
       "\n",
       "                                     choice_description  item_price  \\\n",
       "3598                                               NULL       44.25   \n",
       "3480  [Roasted Chili Corn Salsa, [Fajita Vegetables,...       35.25   \n",
       "1254  [Fresh Tomato Salsa, [Fajita Vegetables, Rice,...       35.00   \n",
       "3602  [Fresh Tomato Salsa, [Rice, Black Beans, Chees...       35.00   \n",
       "3601  [Fresh Tomato Salsa, [Fajita Vegetables, Rice,...       33.75   \n",
       "409   [[Fresh Tomato Salsa (Mild), Tomatillo-Green C...       32.94   \n",
       "1255  [Fresh Tomato Salsa, [Fajita Vegetables, Rice,...       27.75   \n",
       "3603  [Fresh Tomato Salsa, [Rice, Black Beans, Chees...       27.75   \n",
       "3636                         [Fresh Tomato Salsa, Rice]       26.25   \n",
       "3634                               [Fresh Tomato Salsa]       26.25   \n",
       "\n",
       "      total_price  \n",
       "3598       663.75  \n",
       "3480       105.75  \n",
       "1254       140.00  \n",
       "3602       140.00  \n",
       "3601       101.25  \n",
       "409         98.82  \n",
       "1255        83.25  \n",
       "3603        83.25  \n",
       "3636        78.75  \n",
       "3634        78.75  "
      ]
     },
     "execution_count": 236,
     "metadata": {},
     "output_type": "execute_result"
    }
   ],
   "source": [
    "orders.sort_values('item_price', ascending=False)[:10] # look at the largest item_price values"
   ]
  },
  {
   "cell_type": "code",
   "execution_count": null,
   "metadata": {
    "collapsed": true
   },
   "outputs": [],
   "source": [
    "# given more time, I might consider excluding some of these records from the analysis"
   ]
  }
 ],
 "metadata": {
  "anaconda-cloud": {},
  "kernelspec": {
   "display_name": "Python 3",
   "language": "python",
   "name": "python3"
  },
  "language_info": {
   "codemirror_mode": {
    "name": "ipython",
    "version": 3
   },
   "file_extension": ".py",
   "mimetype": "text/x-python",
   "name": "python",
   "nbconvert_exporter": "python",
   "pygments_lexer": "ipython3",
   "version": "3.6.2"
  }
 },
 "nbformat": 4,
 "nbformat_minor": 2
}
